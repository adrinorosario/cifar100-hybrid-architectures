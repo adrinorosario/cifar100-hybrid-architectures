{
  "metadata": {
    "kernelspec": {
      "name": "python3",
      "display_name": "Python 3",
      "language": "python"
    },
    "language_info": {
      "name": "python",
      "version": "3.11.11",
      "mimetype": "text/x-python",
      "codemirror_mode": {
        "name": "ipython",
        "version": 3
      },
      "pygments_lexer": "ipython3",
      "nbconvert_exporter": "python",
      "file_extension": ".py"
    },
    "colab": {
      "provenance": [],
      "gpuType": "T4",
      "include_colab_link": true
    },
    "accelerator": "GPU",
    "kaggle": {
      "accelerator": "gpu",
      "dataSources": [],
      "dockerImageVersionId": 31011,
      "isInternetEnabled": true,
      "language": "python",
      "sourceType": "notebook",
      "isGpuEnabled": true
    }
  },
  "nbformat_minor": 0,
  "nbformat": 4,
  "cells": [
    {
      "cell_type": "markdown",
      "metadata": {
        "id": "view-in-github",
        "colab_type": "text"
      },
      "source": [
        "<a href=\"https://colab.research.google.com/github/adrinorosario/cifar100-hybrid-architectures/blob/main/cifar_100_hybrid_architectures_tests.ipynb\" target=\"_parent\"><img src=\"https://colab.research.google.com/assets/colab-badge.svg\" alt=\"Open In Colab\"/></a>"
      ]
    },
    {
      "cell_type": "code",
      "source": [
        "import torch\n",
        "import torchvision\n",
        "from torchvision import datasets\n",
        "from torchvision.transforms import ToTensor\n",
        "from torchvision import transforms\n",
        "from torch.utils.data import DataLoader\n",
        "from torch import nn\n",
        "\n",
        "import numpy as np\n",
        "import matplotlib.pyplot as plt"
      ],
      "metadata": {
        "id": "j_y6i26mdN8G",
        "trusted": true,
        "execution": {
          "iopub.status.busy": "2025-04-29T10:46:18.5908Z",
          "iopub.execute_input": "2025-04-29T10:46:18.591034Z",
          "iopub.status.idle": "2025-04-29T10:46:18.595772Z",
          "shell.execute_reply.started": "2025-04-29T10:46:18.591015Z",
          "shell.execute_reply": "2025-04-29T10:46:18.594989Z"
        }
      },
      "outputs": [],
      "execution_count": null
    },
    {
      "cell_type": "code",
      "source": [
        "!pip install tqdm torchinfo"
      ],
      "metadata": {
        "id": "KM372NG4As_h",
        "outputId": "a9d8271f-f5c7-43bf-cd4d-f52d4607aee0",
        "trusted": true,
        "execution": {
          "iopub.status.busy": "2025-04-29T10:46:18.597403Z",
          "iopub.execute_input": "2025-04-29T10:46:18.59768Z",
          "iopub.status.idle": "2025-04-29T10:46:22.895056Z",
          "shell.execute_reply.started": "2025-04-29T10:46:18.597652Z",
          "shell.execute_reply": "2025-04-29T10:46:22.894341Z"
        }
      },
      "outputs": [
        {
          "name": "stdout",
          "text": "Requirement already satisfied: tqdm in /usr/local/lib/python3.11/dist-packages (4.67.1)\nRequirement already satisfied: torchinfo in /usr/local/lib/python3.11/dist-packages (1.8.0)\n",
          "output_type": "stream"
        }
      ],
      "execution_count": null
    },
    {
      "cell_type": "code",
      "source": [
        "from tqdm.auto import tqdm\n",
        "from torchinfo import summary\n",
        "import time\n",
        "\n",
        "tqdm, summary"
      ],
      "metadata": {
        "id": "kDqM4a_QAzDz",
        "outputId": "07fb9e5e-1ca9-4e0d-e24b-0f007a35276d",
        "trusted": true,
        "execution": {
          "iopub.status.busy": "2025-04-29T10:46:22.896094Z",
          "iopub.execute_input": "2025-04-29T10:46:22.896377Z",
          "iopub.status.idle": "2025-04-29T10:46:22.903197Z",
          "shell.execute_reply.started": "2025-04-29T10:46:22.896354Z",
          "shell.execute_reply": "2025-04-29T10:46:22.902598Z"
        }
      },
      "outputs": [
        {
          "execution_count": 3,
          "output_type": "execute_result",
          "data": {
            "text/plain": "(tqdm.auto.tqdm,\n <function torchinfo.torchinfo.summary(model: 'nn.Module', input_size: 'INPUT_SIZE_TYPE | None' = None, input_data: 'INPUT_DATA_TYPE | None' = None, batch_dim: 'int | None' = None, cache_forward_pass: 'bool | None' = None, col_names: 'Iterable[str] | None' = None, col_width: 'int' = 25, depth: 'int' = 3, device: 'torch.device | str | None' = None, dtypes: 'list[torch.dtype] | None' = None, mode: 'str | None' = None, row_settings: 'Iterable[str] | None' = None, verbose: 'int | None' = None, **kwargs: 'Any') -> 'ModelStatistics'>)"
          },
          "metadata": {}
        }
      ],
      "execution_count": null
    },
    {
      "cell_type": "code",
      "source": [
        "from torchvision.transforms import v2\n",
        "\n",
        "cifar_policy = v2.AutoAugmentPolicy.CIFAR10"
      ],
      "metadata": {
        "trusted": true,
        "execution": {
          "iopub.status.busy": "2025-04-29T10:46:22.904065Z",
          "iopub.execute_input": "2025-04-29T10:46:22.904411Z",
          "iopub.status.idle": "2025-04-29T10:46:22.920632Z",
          "shell.execute_reply.started": "2025-04-29T10:46:22.904385Z",
          "shell.execute_reply": "2025-04-29T10:46:22.919786Z"
        },
        "id": "QX2QAJeuxOVc"
      },
      "outputs": [],
      "execution_count": null
    },
    {
      "cell_type": "code",
      "source": [
        "data_transforms = transforms.Compose([\n",
        "    # v2.AutoAugment(policy=cifar_policy),\n",
        "    transforms.RandomCrop(32, padding=4),              # random crop with padding\n",
        "    transforms.RandomHorizontalFlip(),                 # random horizontal flip\n",
        "    transforms.ColorJitter(brightness=0.2, contrast=0.2, saturation=0.2, hue=0.1),  # color jittering\n",
        "    transforms.ToTensor(),                             # convert to tensor\n",
        "    transforms.Normalize(mean=[0.5071, 0.4867, 0.4408], std=[0.2675, 0.2565, 0.2761]),  # CIFAR-100 stats\n",
        "])\n",
        "\n",
        "test_transform = transforms.Compose([\n",
        "    transforms.ToTensor(),\n",
        "    transforms.Normalize(mean=[0.507, 0.487, 0.441], std=[0.268, 0.257, 0.277]),\n",
        "])\n",
        "\n",
        "# data_transforms_policy_augment = transforms.Compose([\n",
        "#     v2.AutoAugment(policy=cifar_policy),\n",
        "#     # transforms.RandomCrop(32, padding=4),              # random crop with padding\n",
        "#     # transforms.RandomHorizontalFlip(),                 # random horizontal flip\n",
        "#     # transforms.ColorJitter(brightness=0.2, contrast=0.2, saturation=0.2, hue=0.1),  # color jittering\n",
        "#     transforms.ToTensor(),                             # convert to tensor\n",
        "#     # transforms.Normalize(mean=[0.5071, 0.4867, 0.4408], std=[0.2675, 0.2565, 0.2761]),  # CIFAR-100 stats\n",
        "# ])"
      ],
      "metadata": {
        "id": "jWVLm4-48kh4",
        "trusted": true,
        "execution": {
          "iopub.status.busy": "2025-04-29T10:46:22.922807Z",
          "iopub.execute_input": "2025-04-29T10:46:22.923004Z",
          "iopub.status.idle": "2025-04-29T10:46:22.939347Z",
          "shell.execute_reply.started": "2025-04-29T10:46:22.92299Z",
          "shell.execute_reply": "2025-04-29T10:46:22.938513Z"
        }
      },
      "outputs": [],
      "execution_count": null
    },
    {
      "cell_type": "code",
      "source": [
        "# cifar100_train_only_policy_augment = datasets.CIFAR100(root=\"data\", train=True, download=True, transform=data_transforms_policy_augment, target_transform=None)\n",
        "# cifar100_test_only_policy_augment = datasets.CIFAR100(root=\"data\", train=False, download=True, transform=data_transforms_policy_augment, target_transform=None)\n",
        "\n",
        "cifar100_train = datasets.CIFAR100(root=\"data\", train=True, download=True, transform=data_transforms, target_transform=None)\n",
        "cifar100_test = datasets.CIFAR100(root=\"data\", train=False, download=True, transform=test_transform, target_transform=None)\n",
        "\n",
        "# cifar100_train_ = datasets.CIFAR100(root=\"data\", train=True, download=True, transform=transforms.ToTensor(), target_transform=None)\n",
        "# cifar100_test_ = datasets.CIFAR100(root=\"data\", train=False, download=True, transform=transforms.ToTensor(), target_transform=None)\n",
        "\n",
        "# cifar100_train, cifar100_test"
      ],
      "metadata": {
        "id": "-b-CVAJt_JAL",
        "outputId": "6b8fb5d4-b55d-4733-9b14-0370ecc5b6aa",
        "trusted": true,
        "execution": {
          "iopub.status.busy": "2025-04-29T10:46:22.940033Z",
          "iopub.execute_input": "2025-04-29T10:46:22.940325Z",
          "iopub.status.idle": "2025-04-29T10:46:24.981798Z",
          "shell.execute_reply.started": "2025-04-29T10:46:22.940299Z",
          "shell.execute_reply": "2025-04-29T10:46:24.981237Z"
        }
      },
      "outputs": [
        {
          "name": "stdout",
          "text": "Files already downloaded and verified\nFiles already downloaded and verified\n",
          "output_type": "stream"
        }
      ],
      "execution_count": null
    },
    {
      "cell_type": "code",
      "source": [
        "len(cifar100_train.classes)"
      ],
      "metadata": {
        "id": "O9IKsrKWKnT5",
        "outputId": "09dc41ca-ef13-454d-859a-3014dd18f8a1",
        "trusted": true,
        "execution": {
          "iopub.status.busy": "2025-04-29T10:46:24.982676Z",
          "iopub.execute_input": "2025-04-29T10:46:24.98296Z",
          "iopub.status.idle": "2025-04-29T10:46:24.988574Z",
          "shell.execute_reply.started": "2025-04-29T10:46:24.982929Z",
          "shell.execute_reply": "2025-04-29T10:46:24.987907Z"
        }
      },
      "outputs": [
        {
          "execution_count": 7,
          "output_type": "execute_result",
          "data": {
            "text/plain": "100"
          },
          "metadata": {}
        }
      ],
      "execution_count": null
    },
    {
      "cell_type": "code",
      "source": [
        "image, label = cifar100_train[0]\n",
        "image.shape, label"
      ],
      "metadata": {
        "id": "J_otYf2aAA63",
        "outputId": "6a77c2b9-eb4b-4b89-cd8e-46f544b35102",
        "trusted": true,
        "execution": {
          "iopub.status.busy": "2025-04-29T10:46:24.989244Z",
          "iopub.execute_input": "2025-04-29T10:46:24.989525Z",
          "iopub.status.idle": "2025-04-29T10:46:25.072616Z",
          "shell.execute_reply.started": "2025-04-29T10:46:24.989506Z",
          "shell.execute_reply": "2025-04-29T10:46:25.071916Z"
        }
      },
      "outputs": [
        {
          "execution_count": 8,
          "output_type": "execute_result",
          "data": {
            "text/plain": "(torch.Size([3, 32, 32]), 19)"
          },
          "metadata": {}
        }
      ],
      "execution_count": null
    },
    {
      "cell_type": "code",
      "source": [
        "plt.imshow(image.T)\n",
        "plt.title(f\"Label: {label}\")\n",
        "plt.axis(False)\n",
        "plt.show()"
      ],
      "metadata": {
        "id": "9TnqWAAcAGFB",
        "outputId": "e352111c-b872-4d92-a583-bf14668e0a84",
        "trusted": true,
        "execution": {
          "iopub.status.busy": "2025-04-29T06:00:08.211097Z",
          "iopub.execute_input": "2025-04-29T06:00:08.211306Z",
          "iopub.status.idle": "2025-04-29T06:00:08.356074Z",
          "shell.execute_reply.started": "2025-04-29T06:00:08.211284Z",
          "shell.execute_reply": "2025-04-29T06:00:08.35535Z"
        }
      },
      "outputs": [
        {
          "name": "stderr",
          "text": "/tmp/ipykernel_31/22530547.py:1: UserWarning: The use of `x.T` on tensors of dimension other than 2 to reverse their shape is deprecated and it will throw an error in a future release. Consider `x.mT` to transpose batches of matrices or `x.permute(*torch.arange(x.ndim - 1, -1, -1))` to reverse the dimensions of a tensor. (Triggered internally at ../aten/src/ATen/native/TensorShape.cpp:3683.)\n  plt.imshow(image.T)\n",
          "output_type": "stream"
        },
        {
          "output_type": "display_data",
          "data": {
            "text/plain": "<Figure size 640x480 with 1 Axes>",
            "image/png": "[encoded data removed]"
          },
          "metadata": {}
        }
      ],
      "execution_count": null
    },
    {
      "cell_type": "code",
      "source": [
        "# train100_policy_dataloader = DataLoader(cifar100_train_only_policy_augment, batch_size=32, shuffle=True)\n",
        "# test100_policy_dataloader = DataLoader(cifar100_test_only_policy_augment, batch_size=32, shuffle=False)\n",
        "\n",
        "train100_dataloader = DataLoader(cifar100_train, batch_size=32, shuffle=True)\n",
        "test100_dataloader = DataLoader(cifar100_test, batch_size=32, shuffle=False)\n",
        "\n",
        "# train100_dataloader_ = DataLoader(cifar100_train_, batch_size=32, shuffle=True)\n",
        "# test100_dataloader_ = DataLoader(cifar100_test_, batch_size=32, shuffle=False)\n",
        "\n",
        "# train100_dataloader, test100_dataloader, train100_policy_dataloader, test100_policy_dataloader"
      ],
      "metadata": {
        "id": "SxJe4EVwAQOP",
        "trusted": true,
        "execution": {
          "iopub.status.busy": "2025-04-29T10:46:25.073574Z",
          "iopub.execute_input": "2025-04-29T10:46:25.073837Z",
          "iopub.status.idle": "2025-04-29T10:46:25.078211Z",
          "shell.execute_reply.started": "2025-04-29T10:46:25.073813Z",
          "shell.execute_reply": "2025-04-29T10:46:25.07752Z"
        }
      },
      "outputs": [],
      "execution_count": null
    },
    {
      "cell_type": "code",
      "source": [
        "device = \"cuda\" if torch.cuda.is_available() else \"cpu\"\n",
        "device"
      ],
      "metadata": {
        "id": "J8F9RJCYL1li",
        "outputId": "377968b4-8d00-4323-f384-25e866eea3b2",
        "trusted": true,
        "execution": {
          "iopub.status.busy": "2025-04-29T10:46:25.078964Z",
          "iopub.execute_input": "2025-04-29T10:46:25.079278Z",
          "iopub.status.idle": "2025-04-29T10:46:25.096178Z",
          "shell.execute_reply.started": "2025-04-29T10:46:25.079254Z",
          "shell.execute_reply": "2025-04-29T10:46:25.09528Z"
        }
      },
      "outputs": [
        {
          "execution_count": 10,
          "output_type": "execute_result",
          "data": {
            "text/plain": "'cuda'"
          },
          "metadata": {}
        }
      ],
      "execution_count": null
    },
    {
      "cell_type": "code",
      "source": [
        "def accuracy_fn(y_true: torch.Tensor, y_pred: torch.Tensor):\n",
        "  correct = torch.eq(y_true, y_pred).sum().item()\n",
        "  acc = (correct / len(y_pred)) * 100\n",
        "  return acc"
      ],
      "metadata": {
        "id": "jsIuRTnaNR27",
        "trusted": true,
        "execution": {
          "iopub.status.busy": "2025-04-29T10:46:25.096958Z",
          "iopub.execute_input": "2025-04-29T10:46:25.097206Z",
          "iopub.status.idle": "2025-04-29T10:46:25.11303Z",
          "shell.execute_reply.started": "2025-04-29T10:46:25.097188Z",
          "shell.execute_reply": "2025-04-29T10:46:25.11239Z"
        }
      },
      "outputs": [],
      "execution_count": null
    },
    {
      "cell_type": "code",
      "source": [
        "from typing import Tuple"
      ],
      "metadata": {
        "id": "_AeMFDr_XJL_",
        "trusted": true,
        "execution": {
          "iopub.status.busy": "2025-04-29T10:46:25.113793Z",
          "iopub.execute_input": "2025-04-29T10:46:25.113992Z",
          "iopub.status.idle": "2025-04-29T10:46:25.132568Z",
          "shell.execute_reply.started": "2025-04-29T10:46:25.113977Z",
          "shell.execute_reply": "2025-04-29T10:46:25.131819Z"
        }
      },
      "outputs": [],
      "execution_count": null
    },
    {
      "cell_type": "code",
      "source": [
        "from torch.optim.lr_scheduler import OneCycleLR"
      ],
      "metadata": {
        "trusted": true,
        "execution": {
          "iopub.status.busy": "2025-04-29T10:46:25.133558Z",
          "iopub.execute_input": "2025-04-29T10:46:25.133774Z",
          "iopub.status.idle": "2025-04-29T10:46:25.150634Z",
          "shell.execute_reply.started": "2025-04-29T10:46:25.133758Z",
          "shell.execute_reply": "2025-04-29T10:46:25.149851Z"
        },
        "id": "SPZ2z2a7xOVe"
      },
      "outputs": [],
      "execution_count": null
    },
    {
      "cell_type": "code",
      "source": [
        "def model_train(model: nn.Module,\n",
        "                loss_fn: nn.Module,\n",
        "                optimizer_fn: torch.optim,\n",
        "                dataloader: torch.utils.data.DataLoader,\n",
        "                device: str,\n",
        "                epochs: int,\n",
        "                accuracy_fn=accuracy_fn) -> Tuple[torch.Tensor, float]:\n",
        "  model.to(device)\n",
        "  model.train()\n",
        "  steps_per_epoch = len(dataloader)\n",
        "  train_loss, train_acc = 0, 0\n",
        "\n",
        "  scheduler = OneCycleLR(\n",
        "    optimizer_fn,\n",
        "    max_lr=0.1,  # Peak learning rate\n",
        "    steps_per_epoch=steps_per_epoch,\n",
        "    epochs=epochs,\n",
        "    pct_start=0.3,  # Percentage of cycle for increasing LR\n",
        "    anneal_strategy='cos',  # Cosine annealing\n",
        "    cycle_momentum=True,\n",
        "    base_momentum=0.85,\n",
        "    max_momentum=0.95,\n",
        "    div_factor=25.0,  # Determines initial LR via initial_lr = max_lr/div_factor\n",
        "    final_div_factor=1e4  # Determines minimum LR via min_lr = initial_lr/final_div_factor\n",
        "    )\n",
        "\n",
        "  for batch, (X, y) in enumerate(dataloader):\n",
        "    X, y = X.to(device), y.to(device)\n",
        "\n",
        "    y_pred = model(X)\n",
        "    loss = loss_fn(y_pred, y)\n",
        "    train_loss += loss\n",
        "\n",
        "    train_acc += accuracy_fn(y_true=y, y_pred=y_pred.argmax(dim=1))\n",
        "\n",
        "    optimizer_fn.zero_grad()\n",
        "    loss.backward()\n",
        "    optimizer_fn.step()\n",
        "    scheduler.step()\n",
        "\n",
        "  train_loss /= len(dataloader)\n",
        "  train_acc /= len(dataloader)\n",
        "\n",
        "  print(f\"Train loss: {train_loss: .5f} | Train acc: {train_acc: .2f}%\")\n",
        "\n",
        "  return (train_loss, train_acc)"
      ],
      "metadata": {
        "id": "yKc7WXjeVA5P",
        "trusted": true,
        "execution": {
          "iopub.status.busy": "2025-04-29T10:46:25.153146Z",
          "iopub.execute_input": "2025-04-29T10:46:25.153807Z",
          "iopub.status.idle": "2025-04-29T10:46:25.172199Z",
          "shell.execute_reply.started": "2025-04-29T10:46:25.15378Z",
          "shell.execute_reply": "2025-04-29T10:46:25.171357Z"
        }
      },
      "outputs": [],
      "execution_count": null
    },
    {
      "cell_type": "code",
      "source": [
        "def model_test(model: nn.Module,\n",
        "               loss_fn: nn.Module,\n",
        "               dataloader: torch.utils.data.DataLoader,\n",
        "               device: str,\n",
        "               accuracy_fn=accuracy_fn) -> Tuple[torch.Tensor, float]:\n",
        "  model.to(device)\n",
        "  model.eval()\n",
        "\n",
        "  with torch.inference_mode():\n",
        "    test_loss, test_acc = 0, 0\n",
        "\n",
        "    for X, y in dataloader:\n",
        "\n",
        "      X, y = X.to(device), y.to(device)\n",
        "\n",
        "      test_pred = model(X)\n",
        "\n",
        "      loss = loss_fn(test_pred, y)\n",
        "\n",
        "      test_loss += loss\n",
        "      test_acc += accuracy_fn(y_true=y, y_pred=test_pred.argmax(dim=1))\n",
        "\n",
        "    test_loss /= len(dataloader)\n",
        "    test_acc /= len(dataloader)\n",
        "\n",
        "    print(f\"Test loss: {test_loss: .5f} | Test acc: {test_acc: .2f}%\")\n",
        "\n",
        "    return (test_loss, test_acc)"
      ],
      "metadata": {
        "id": "kKDlQAVuV2eb",
        "trusted": true,
        "execution": {
          "iopub.status.busy": "2025-04-29T10:46:25.173037Z",
          "iopub.execute_input": "2025-04-29T10:46:25.17326Z",
          "iopub.status.idle": "2025-04-29T10:46:25.192602Z",
          "shell.execute_reply.started": "2025-04-29T10:46:25.173244Z",
          "shell.execute_reply": "2025-04-29T10:46:25.191897Z"
        }
      },
      "outputs": [],
      "execution_count": null
    },
    {
      "cell_type": "code",
      "source": [
        "def print_train_time(start: float, end: float, model: nn.Module, device: str):\n",
        "  total_time = end - start\n",
        "  print(f\"Train time on {device}: {total_time}\")\n",
        "  return {\n",
        "      \"model\": model._get_name(),\n",
        "      \"train_time\": total_time,\n",
        "      \"device\": device\n",
        "  }"
      ],
      "metadata": {
        "id": "wndNuOL0PVN_",
        "trusted": true,
        "execution": {
          "iopub.status.busy": "2025-04-29T10:46:25.193424Z",
          "iopub.execute_input": "2025-04-29T10:46:25.193691Z",
          "iopub.status.idle": "2025-04-29T10:46:25.212625Z",
          "shell.execute_reply.started": "2025-04-29T10:46:25.193673Z",
          "shell.execute_reply": "2025-04-29T10:46:25.211859Z"
        }
      },
      "outputs": [],
      "execution_count": null
    },
    {
      "cell_type": "code",
      "source": [
        "class Cifar100v1(nn.Module):\n",
        "  def __init__(self, input_shape: int, output_shape: int):\n",
        "    super().__init__()\n",
        "\n",
        "    self.conv_block1 = nn.Sequential(\n",
        "        nn.Conv2d(in_channels=input_shape, out_channels=128, kernel_size=3, stride=1, padding=1),\n",
        "        nn.BatchNorm2d(num_features=128),\n",
        "        nn.ReLU(),\n",
        "\n",
        "        nn.Conv2d(in_channels=128, out_channels=128, kernel_size=3, stride=1, padding=1),\n",
        "        nn.BatchNorm2d(num_features=128),\n",
        "        nn.ReLU()\n",
        "    )\n",
        "\n",
        "    self.conv_block2 = nn.Sequential(\n",
        "        nn.Conv2d(in_channels=128, out_channels=256, kernel_size=3, stride=1, padding=1),\n",
        "        nn.BatchNorm2d(num_features=256),\n",
        "        nn.ReLU(),\n",
        "        nn.MaxPool2d(kernel_size=2, stride=2),\n",
        "\n",
        "        nn.Conv2d(in_channels=256, out_channels=256, kernel_size=3, stride=1, padding=1),\n",
        "        nn.BatchNorm2d(num_features=256),\n",
        "        nn.ReLU()\n",
        "    )\n",
        "\n",
        "    self.conv_block3 = nn.Sequential(\n",
        "        nn.Conv2d(in_channels=256, out_channels=512, kernel_size=3, stride=1, padding=1),\n",
        "        nn.BatchNorm2d(num_features=512),\n",
        "        nn.ReLU(),\n",
        "\n",
        "        nn.Conv2d(in_channels=512, out_channels=512, kernel_size=3, stride=1, padding=1),\n",
        "        nn.BatchNorm2d(num_features=512),\n",
        "        nn.ReLU(),\n",
        "        nn.MaxPool2d(kernel_size=2, stride=2)\n",
        "    )\n",
        "\n",
        "\n",
        "    self.classifier = nn.Sequential(\n",
        "        nn.Flatten(),\n",
        "        nn.Dropout(p=0.3),\n",
        "        nn.Linear(in_features=512*8*8, out_features=output_shape)\n",
        "    )\n",
        "\n",
        "  def forward(self, x: torch.Tensor) -> torch.Tensor:\n",
        "    x = self.conv_block1(x)\n",
        "    x = self.conv_block2(x)\n",
        "    x = self.conv_block3(x)\n",
        "\n",
        "    x = self.classifier(x)\n",
        "    return x"
      ],
      "metadata": {
        "id": "AW3WPjp2DVC5",
        "trusted": true,
        "execution": {
          "iopub.status.busy": "2025-04-29T09:08:49.711631Z",
          "iopub.execute_input": "2025-04-29T09:08:49.712416Z",
          "iopub.status.idle": "2025-04-29T09:08:49.720729Z",
          "shell.execute_reply.started": "2025-04-29T09:08:49.712389Z",
          "shell.execute_reply": "2025-04-29T09:08:49.719912Z"
        }
      },
      "outputs": [],
      "execution_count": null
    },
    {
      "cell_type": "code",
      "source": [
        "512*8*8"
      ],
      "metadata": {
        "trusted": true,
        "execution": {
          "iopub.status.busy": "2025-04-29T09:08:50.075106Z",
          "iopub.execute_input": "2025-04-29T09:08:50.075635Z",
          "iopub.status.idle": "2025-04-29T09:08:50.080137Z",
          "shell.execute_reply.started": "2025-04-29T09:08:50.075613Z",
          "shell.execute_reply": "2025-04-29T09:08:50.0795Z"
        },
        "id": "FQDNoEBLxOVf",
        "outputId": "297e087b-2069-40c5-9912-daa1edd590a3"
      },
      "outputs": [
        {
          "execution_count": 34,
          "output_type": "execute_result",
          "data": {
            "text/plain": "32768"
          },
          "metadata": {}
        }
      ],
      "execution_count": null
    },
    {
      "cell_type": "code",
      "source": [
        "model_0 = Cifar100v1(input_shape=3, output_shape=len(cifar100_train.classes))\n",
        "model_0"
      ],
      "metadata": {
        "id": "nSbJT1d5DVAz",
        "outputId": "f655630b-820d-41a4-927e-d6d764c25a51",
        "trusted": true,
        "execution": {
          "iopub.status.busy": "2025-04-29T09:08:50.559803Z",
          "iopub.execute_input": "2025-04-29T09:08:50.560106Z",
          "iopub.status.idle": "2025-04-29T09:08:50.618831Z",
          "shell.execute_reply.started": "2025-04-29T09:08:50.560086Z",
          "shell.execute_reply": "2025-04-29T09:08:50.618164Z"
        }
      },
      "outputs": [
        {
          "execution_count": 35,
          "output_type": "execute_result",
          "data": {
            "text/plain": "Cifar100v1(\n  (conv_block1): Sequential(\n    (0): Conv2d(3, 128, kernel_size=(3, 3), stride=(1, 1), padding=(1, 1))\n    (1): BatchNorm2d(128, eps=1e-05, momentum=0.1, affine=True, track_running_stats=True)\n    (2): ReLU()\n    (3): Conv2d(128, 128, kernel_size=(3, 3), stride=(1, 1), padding=(1, 1))\n    (4): BatchNorm2d(128, eps=1e-05, momentum=0.1, affine=True, track_running_stats=True)\n    (5): ReLU()\n  )\n  (conv_block2): Sequential(\n    (0): Conv2d(128, 256, kernel_size=(3, 3), stride=(1, 1), padding=(1, 1))\n    (1): BatchNorm2d(256, eps=1e-05, momentum=0.1, affine=True, track_running_stats=True)\n    (2): ReLU()\n    (3): MaxPool2d(kernel_size=2, stride=2, padding=0, dilation=1, ceil_mode=False)\n    (4): Conv2d(256, 256, kernel_size=(3, 3), stride=(1, 1), padding=(1, 1))\n    (5): BatchNorm2d(256, eps=1e-05, momentum=0.1, affine=True, track_running_stats=True)\n    (6): ReLU()\n  )\n  (conv_block3): Sequential(\n    (0): Conv2d(256, 512, kernel_size=(3, 3), stride=(1, 1), padding=(1, 1))\n    (1): BatchNorm2d(512, eps=1e-05, momentum=0.1, affine=True, track_running_stats=True)\n    (2): ReLU()\n    (3): Conv2d(512, 512, kernel_size=(3, 3), stride=(1, 1), padding=(1, 1))\n    (4): BatchNorm2d(512, eps=1e-05, momentum=0.1, affine=True, track_running_stats=True)\n    (5): ReLU()\n    (6): MaxPool2d(kernel_size=2, stride=2, padding=0, dilation=1, ceil_mode=False)\n  )\n  (classifier): Sequential(\n    (0): Flatten(start_dim=1, end_dim=-1)\n    (1): Dropout(p=0.3, inplace=False)\n    (2): Linear(in_features=32768, out_features=100, bias=True)\n  )\n)"
          },
          "metadata": {}
        }
      ],
      "execution_count": null
    },
    {
      "cell_type": "code",
      "source": [
        "summary(model=model_0, input_size=(32, 3 , 32, 32), col_names=[\"input_size\", \"output_size\", \"num_params\", \"trainable\"],\n",
        "        col_width=20,\n",
        "        row_settings=[\"var_names\"])"
      ],
      "metadata": {
        "id": "jJSTEiEmHdsn",
        "outputId": "4f263ebd-a3b4-42b8-dd8f-abd63ea684d2",
        "trusted": true,
        "execution": {
          "iopub.status.busy": "2025-04-29T09:08:59.996964Z",
          "iopub.execute_input": "2025-04-29T09:08:59.997544Z",
          "iopub.status.idle": "2025-04-29T09:09:00.03231Z",
          "shell.execute_reply.started": "2025-04-29T09:08:59.997523Z",
          "shell.execute_reply": "2025-04-29T09:09:00.031534Z"
        }
      },
      "outputs": [
        {
          "execution_count": 36,
          "output_type": "execute_result",
          "data": {
            "text/plain": "========================================================================================================================\nLayer (type (var_name))                  Input Shape          Output Shape         Param #              Trainable\n========================================================================================================================\nCifar100v1 (Cifar100v1)                  [32, 3, 32, 32]      [32, 100]            --                   True\n├─Sequential (conv_block1)               [32, 3, 32, 32]      [32, 128, 32, 32]    --                   True\n│    └─Conv2d (0)                        [32, 3, 32, 32]      [32, 128, 32, 32]    3,584                True\n│    └─BatchNorm2d (1)                   [32, 128, 32, 32]    [32, 128, 32, 32]    256                  True\n│    └─ReLU (2)                          [32, 128, 32, 32]    [32, 128, 32, 32]    --                   --\n│    └─Conv2d (3)                        [32, 128, 32, 32]    [32, 128, 32, 32]    147,584              True\n│    └─BatchNorm2d (4)                   [32, 128, 32, 32]    [32, 128, 32, 32]    256                  True\n│    └─ReLU (5)                          [32, 128, 32, 32]    [32, 128, 32, 32]    --                   --\n├─Sequential (conv_block2)               [32, 128, 32, 32]    [32, 256, 16, 16]    --                   True\n│    └─Conv2d (0)                        [32, 128, 32, 32]    [32, 256, 32, 32]    295,168              True\n│    └─BatchNorm2d (1)                   [32, 256, 32, 32]    [32, 256, 32, 32]    512                  True\n│    └─ReLU (2)                          [32, 256, 32, 32]    [32, 256, 32, 32]    --                   --\n│    └─MaxPool2d (3)                     [32, 256, 32, 32]    [32, 256, 16, 16]    --                   --\n│    └─Conv2d (4)                        [32, 256, 16, 16]    [32, 256, 16, 16]    590,080              True\n│    └─BatchNorm2d (5)                   [32, 256, 16, 16]    [32, 256, 16, 16]    512                  True\n│    └─ReLU (6)                          [32, 256, 16, 16]    [32, 256, 16, 16]    --                   --\n├─Sequential (conv_block3)               [32, 256, 16, 16]    [32, 512, 8, 8]      --                   True\n│    └─Conv2d (0)                        [32, 256, 16, 16]    [32, 512, 16, 16]    1,180,160            True\n│    └─BatchNorm2d (1)                   [32, 512, 16, 16]    [32, 512, 16, 16]    1,024                True\n│    └─ReLU (2)                          [32, 512, 16, 16]    [32, 512, 16, 16]    --                   --\n│    └─Conv2d (3)                        [32, 512, 16, 16]    [32, 512, 16, 16]    2,359,808            True\n│    └─BatchNorm2d (4)                   [32, 512, 16, 16]    [32, 512, 16, 16]    1,024                True\n│    └─ReLU (5)                          [32, 512, 16, 16]    [32, 512, 16, 16]    --                   --\n│    └─MaxPool2d (6)                     [32, 512, 16, 16]    [32, 512, 8, 8]      --                   --\n├─Sequential (classifier)                [32, 512, 8, 8]      [32, 100]            --                   True\n│    └─Flatten (0)                       [32, 512, 8, 8]      [32, 32768]          --                   --\n│    └─Dropout (1)                       [32, 32768]          [32, 32768]          --                   --\n│    └─Linear (2)                        [32, 32768]          [32, 100]            3,276,900            True\n========================================================================================================================\nTotal params: 7,856,868\nTrainable params: 7,856,868\nNon-trainable params: 0\nTotal mult-adds (Units.GIGABYTES): 48.56\n========================================================================================================================\nInput size (MB): 0.39\nForward/backward pass size (MB): 436.23\nParams size (MB): 31.43\nEstimated Total Size (MB): 468.05\n========================================================================================================================"
          },
          "metadata": {}
        }
      ],
      "execution_count": null
    },
    {
      "cell_type": "code",
      "source": [
        "loss_fn = nn.CrossEntropyLoss(label_smoothing=0.1)\n",
        "optimizer = torch.optim.SGD(params=model_0.parameters(), lr=0.001, momentum=0.9, weight_decay=5e-4)"
      ],
      "metadata": {
        "id": "59qpyIShMaSt",
        "trusted": true,
        "execution": {
          "iopub.status.busy": "2025-04-29T09:09:35.858233Z",
          "iopub.execute_input": "2025-04-29T09:09:35.858784Z",
          "iopub.status.idle": "2025-04-29T09:09:35.862843Z",
          "shell.execute_reply.started": "2025-04-29T09:09:35.858733Z",
          "shell.execute_reply": "2025-04-29T09:09:35.862051Z"
        }
      },
      "outputs": [],
      "execution_count": null
    },
    {
      "cell_type": "code",
      "source": [
        "epochs = 70\n",
        "train_losses, test_losses = [], []\n",
        "train_accs, test_accs = [], []\n",
        "\n",
        "start_train_time_model_0 = time.time()\n",
        "\n",
        "steps_per_epoch = len(train100_dataloader)\n",
        "\n",
        "scheduler = OneCycleLR(\n",
        "    optimizer,\n",
        "    max_lr=0.1,  # Peak learning rate\n",
        "    steps_per_epoch=steps_per_epoch,\n",
        "    epochs=epochs,\n",
        "    pct_start=0.3,  # Percentage of cycle for increasing LR\n",
        "    anneal_strategy='cos',  # Cosine annealing\n",
        "    cycle_momentum=True,\n",
        "    base_momentum=0.85,\n",
        "    max_momentum=0.95,\n",
        "    div_factor=25.0,  # Determines initial LR via initial_lr = max_lr/div_factor\n",
        "    final_div_factor=1e4  # Determines minimum LR via min_lr = initial_lr/final_div_factor\n",
        ")\n",
        "\n",
        "for epoch in tqdm(range(epochs)):\n",
        "\n",
        "  print(f\"Epoch: {epoch}\\n---\")\n",
        "  train_loss, train_acc = 0, 0\n",
        "\n",
        "  model_0.to(device)\n",
        "  model_0.train()\n",
        "\n",
        "  for batch, (X, y) in enumerate(train100_dataloader):\n",
        "    X, y = X.to(device), y.to(device)\n",
        "\n",
        "    y_pred = model_0(X)\n",
        "    loss = loss_fn(y_pred, y)\n",
        "    train_loss += loss\n",
        "\n",
        "    train_acc += accuracy_fn(y_true=y, y_pred=y_pred.argmax(dim=1))\n",
        "\n",
        "    optimizer.zero_grad()\n",
        "    loss.backward()\n",
        "    optimizer.step()\n",
        "    scheduler.step()\n",
        "\n",
        "  train_loss /= len(train100_dataloader)\n",
        "  train_acc /= len(train100_dataloader)\n",
        "\n",
        "  train_losses.append(train_loss)\n",
        "  train_accs.append(train_acc)\n",
        "\n",
        "  print(f\"Train loss: {train_loss: .5f} | Train acc: {train_acc: .2f}%\")\n",
        "\n",
        "  model_0.eval()\n",
        "  with torch.inference_mode():\n",
        "    test_loss, test_acc = 0, 0\n",
        "\n",
        "    for X, y in test100_dataloader:\n",
        "\n",
        "      X, y = X.to(device), y.to(device)\n",
        "\n",
        "      test_pred = model_0(X)\n",
        "\n",
        "      loss = loss_fn(test_pred, y)\n",
        "\n",
        "      test_loss += loss\n",
        "      test_acc += accuracy_fn(y_true=y, y_pred=test_pred.argmax(dim=1))\n",
        "\n",
        "    test_loss /= len(test100_dataloader)\n",
        "    test_acc /= len(test100_dataloader)\n",
        "\n",
        "    test_losses.append(test_loss)\n",
        "    test_accs.append(test_acc)\n",
        "\n",
        "    print(f\"Test loss: {test_loss: .5f} | Test acc: {test_acc: .2f}%\")\n",
        "\n",
        "stop_train_time_model_0 = time.time()\n",
        "\n",
        "train_time_model_0 = print_train_time(start=start_train_time_model_0,\n",
        "                                      end=stop_train_time_model_0,\n",
        "                                      model=model_0,\n",
        "                                      device=device)"
      ],
      "metadata": {
        "id": "P0Zi1t6dDU-N",
        "outputId": "20db5921-49d0-422e-c92a-54d3463dc0ce",
        "trusted": true,
        "execution": {
          "iopub.status.busy": "2025-04-29T09:09:43.684425Z",
          "iopub.execute_input": "2025-04-29T09:09:43.684683Z",
          "iopub.status.idle": "2025-04-29T09:59:35.141202Z",
          "shell.execute_reply.started": "2025-04-29T09:09:43.684665Z",
          "shell.execute_reply": "2025-04-29T09:59:35.139761Z"
        },
        "colab": {
          "referenced_widgets": [
            "d4809339e7024714a74e0cb893d608f0"
          ]
        }
      },
      "outputs": [
        {
          "output_type": "display_data",
          "data": {
            "text/plain": "  0%|          | 0/70 [00:00<?, ?it/s]",
            "application/vnd.jupyter.widget-view+json": {
              "version_major": 2,
              "version_minor": 0,
              "model_id": "d4809339e7024714a74e0cb893d608f0"
            }
          },
          "metadata": {}
        },
        {
          "name": "stdout",
          "text": "Epoch: 0\n---\nTrain loss:  4.88952 | Train acc:  5.15%\nTest loss:  4.04442 | Test acc:  10.20%\nEpoch: 1\n---\nTrain loss:  4.06411 | Train acc:  9.96%\nTest loss:  3.80906 | Test acc:  15.22%\nEpoch: 2\n---\nTrain loss:  3.85515 | Train acc:  14.39%\nTest loss:  3.48494 | Test acc:  22.39%\nEpoch: 3\n---\nTrain loss:  3.62178 | Train acc:  19.36%\nTest loss:  3.28132 | Test acc:  27.43%\nEpoch: 4\n---\nTrain loss:  3.39526 | Train acc:  24.70%\nTest loss:  3.09741 | Test acc:  32.53%\nEpoch: 5\n---\nTrain loss:  3.16863 | Train acc:  30.28%\nTest loss:  2.91471 | Test acc:  37.51%\nEpoch: 6\n---\nTrain loss:  3.01314 | Train acc:  34.23%\nTest loss:  2.88976 | Test acc:  39.23%\nEpoch: 7\n---\nTrain loss:  2.94012 | Train acc:  36.46%\nTest loss:  2.97608 | Test acc:  37.13%\nEpoch: 8\n---\nTrain loss:  2.90388 | Train acc:  37.06%\nTest loss:  2.85063 | Test acc:  39.36%\nEpoch: 9\n---\nTrain loss:  2.90795 | Train acc:  37.12%\nTest loss:  2.80059 | Test acc:  41.32%\nEpoch: 10\n---\nTrain loss:  2.95438 | Train acc:  35.88%\nTest loss:  2.85817 | Test acc:  38.37%\nEpoch: 11\n---\nTrain loss:  2.96046 | Train acc:  35.84%\nTest loss:  2.91434 | Test acc:  37.81%\nEpoch: 12\n---\nTrain loss:  3.01892 | Train acc:  34.11%\nTest loss:  2.95952 | Test acc:  37.08%\nEpoch: 13\n---\nTrain loss:  3.03818 | Train acc:  33.60%\nTest loss:  3.06132 | Test acc:  35.12%\nEpoch: 14\n---\nTrain loss:  3.05249 | Train acc:  32.92%\nTest loss:  2.90588 | Test acc:  37.46%\nEpoch: 15\n---\nTrain loss:  3.06187 | Train acc:  32.96%\nTest loss:  3.12012 | Test acc:  33.02%\nEpoch: 16\n---\nTrain loss:  3.06506 | Train acc:  32.83%\nTest loss:  2.85736 | Test acc:  38.56%\nEpoch: 17\n---\nTrain loss:  3.08278 | Train acc:  32.36%\nTest loss:  2.86840 | Test acc:  38.02%\nEpoch: 18\n---\nTrain loss:  3.05843 | Train acc:  33.03%\nTest loss:  2.95641 | Test acc:  37.32%\nEpoch: 19\n---\nTrain loss:  3.05984 | Train acc:  33.16%\nTest loss:  2.81886 | Test acc:  39.50%\nEpoch: 20\n---\nTrain loss:  3.03593 | Train acc:  33.45%\nTest loss:  3.00004 | Test acc:  35.80%\nEpoch: 21\n---\nTrain loss:  3.00721 | Train acc:  34.49%\nTest loss:  3.01749 | Test acc:  33.94%\nEpoch: 22\n---\nTrain loss:  2.97986 | Train acc:  34.90%\nTest loss:  2.86029 | Test acc:  38.31%\nEpoch: 23\n---\nTrain loss:  2.95951 | Train acc:  35.35%\nTest loss:  3.03064 | Test acc:  34.03%\nEpoch: 24\n---\nTrain loss:  2.96354 | Train acc:  35.45%\nTest loss:  2.79158 | Test acc:  40.14%\nEpoch: 25\n---\nTrain loss:  2.95657 | Train acc:  35.42%\nTest loss:  2.73088 | Test acc:  41.09%\nEpoch: 26\n---\nTrain loss:  2.94662 | Train acc:  35.93%\nTest loss:  2.76475 | Test acc:  40.49%\nEpoch: 27\n---\nTrain loss:  2.94211 | Train acc:  36.00%\nTest loss:  2.80934 | Test acc:  40.32%\nEpoch: 28\n---\nTrain loss:  2.92229 | Train acc:  36.47%\nTest loss:  2.73726 | Test acc:  42.28%\nEpoch: 29\n---\nTrain loss:  2.91942 | Train acc:  36.38%\nTest loss:  2.84651 | Test acc:  39.45%\nEpoch: 30\n---\nTrain loss:  2.91612 | Train acc:  36.71%\nTest loss:  2.77941 | Test acc:  41.48%\nEpoch: 31\n---\nTrain loss:  2.90027 | Train acc:  37.08%\nTest loss:  2.81431 | Test acc:  40.80%\nEpoch: 32\n---\nTrain loss:  2.87919 | Train acc:  37.44%\nTest loss:  2.73025 | Test acc:  41.79%\nEpoch: 33\n---\nTrain loss:  2.89820 | Train acc:  37.03%\nTest loss:  2.84453 | Test acc:  38.79%\nEpoch: 34\n---\nTrain loss:  2.88544 | Train acc:  37.42%\nTest loss:  2.76378 | Test acc:  41.76%\nEpoch: 35\n---\nTrain loss:  2.87237 | Train acc:  37.99%\nTest loss:  2.79870 | Test acc:  39.83%\nEpoch: 36\n---\nTrain loss:  2.86064 | Train acc:  38.30%\nTest loss:  2.83498 | Test acc:  39.25%\nEpoch: 37\n---\nTrain loss:  2.85734 | Train acc:  38.06%\nTest loss:  2.66281 | Test acc:  43.54%\nEpoch: 38\n---\nTrain loss:  2.84063 | Train acc:  38.71%\nTest loss:  2.68708 | Test acc:  43.37%\nEpoch: 39\n---\nTrain loss:  2.82724 | Train acc:  38.99%\nTest loss:  2.86389 | Test acc:  39.98%\nEpoch: 40\n---\nTrain loss:  2.82138 | Train acc:  39.16%\nTest loss:  2.77757 | Test acc:  40.61%\nEpoch: 41\n---\nTrain loss:  2.80857 | Train acc:  39.91%\nTest loss:  2.64409 | Test acc:  44.38%\nEpoch: 42\n---\nTrain loss:  2.81283 | Train acc:  39.64%\nTest loss:  2.66986 | Test acc:  43.99%\nEpoch: 43\n---\nTrain loss:  2.78874 | Train acc:  40.10%\nTest loss:  2.68816 | Test acc:  42.41%\nEpoch: 44\n---\nTrain loss:  2.77594 | Train acc:  40.50%\nTest loss:  2.63776 | Test acc:  44.83%\nEpoch: 45\n---\nTrain loss:  2.74992 | Train acc:  41.14%\nTest loss:  2.83766 | Test acc:  39.92%\nEpoch: 46\n---\n",
          "output_type": "stream"
        },
        {
          "traceback": [
            "\u001b[0;31m---------------------------------------------------------------------------\u001b[0m",
            "\u001b[0;31mKeyboardInterrupt\u001b[0m                         Traceback (most recent call last)",
            "\u001b[0;32m/tmp/ipykernel_31/728644186.py\u001b[0m in \u001b[0;36m<cell line: 0>\u001b[0;34m()\u001b[0m\n\u001b[1;32m     29\u001b[0m   \u001b[0mmodel_0\u001b[0m\u001b[0;34m.\u001b[0m\u001b[0mtrain\u001b[0m\u001b[0;34m(\u001b[0m\u001b[0;34m)\u001b[0m\u001b[0;34m\u001b[0m\u001b[0;34m\u001b[0m\u001b[0m\n\u001b[1;32m     30\u001b[0m \u001b[0;34m\u001b[0m\u001b[0m\n\u001b[0;32m---> 31\u001b[0;31m   \u001b[0;32mfor\u001b[0m \u001b[0mbatch\u001b[0m\u001b[0;34m,\u001b[0m \u001b[0;34m(\u001b[0m\u001b[0mX\u001b[0m\u001b[0;34m,\u001b[0m \u001b[0my\u001b[0m\u001b[0;34m)\u001b[0m \u001b[0;32min\u001b[0m \u001b[0menumerate\u001b[0m\u001b[0;34m(\u001b[0m\u001b[0mtrain100_dataloader\u001b[0m\u001b[0;34m)\u001b[0m\u001b[0;34m:\u001b[0m\u001b[0;34m\u001b[0m\u001b[0;34m\u001b[0m\u001b[0m\n\u001b[0m\u001b[1;32m     32\u001b[0m     \u001b[0mX\u001b[0m\u001b[0;34m,\u001b[0m \u001b[0my\u001b[0m \u001b[0;34m=\u001b[0m \u001b[0mX\u001b[0m\u001b[0;34m.\u001b[0m\u001b[0mto\u001b[0m\u001b[0;34m(\u001b[0m\u001b[0mdevice\u001b[0m\u001b[0;34m)\u001b[0m\u001b[0;34m,\u001b[0m \u001b[0my\u001b[0m\u001b[0;34m.\u001b[0m\u001b[0mto\u001b[0m\u001b[0;34m(\u001b[0m\u001b[0mdevice\u001b[0m\u001b[0;34m)\u001b[0m\u001b[0;34m\u001b[0m\u001b[0;34m\u001b[0m\u001b[0m\n\u001b[1;32m     33\u001b[0m \u001b[0;34m\u001b[0m\u001b[0m\n",
            "\u001b[0;32m/usr/local/lib/python3.11/dist-packages/torch/utils/data/dataloader.py\u001b[0m in \u001b[0;36m__next__\u001b[0;34m(self)\u001b[0m\n\u001b[1;32m    699\u001b[0m                 \u001b[0;31m# TODO(https://github.com/pytorch/pytorch/issues/76750)\u001b[0m\u001b[0;34m\u001b[0m\u001b[0;34m\u001b[0m\u001b[0m\n\u001b[1;32m    700\u001b[0m                 \u001b[0mself\u001b[0m\u001b[0;34m.\u001b[0m\u001b[0m_reset\u001b[0m\u001b[0;34m(\u001b[0m\u001b[0;34m)\u001b[0m  \u001b[0;31m# type: ignore[call-arg]\u001b[0m\u001b[0;34m\u001b[0m\u001b[0;34m\u001b[0m\u001b[0m\n\u001b[0;32m--> 701\u001b[0;31m             \u001b[0mdata\u001b[0m \u001b[0;34m=\u001b[0m \u001b[0mself\u001b[0m\u001b[0;34m.\u001b[0m\u001b[0m_next_data\u001b[0m\u001b[0;34m(\u001b[0m\u001b[0;34m)\u001b[0m\u001b[0;34m\u001b[0m\u001b[0;34m\u001b[0m\u001b[0m\n\u001b[0m\u001b[1;32m    702\u001b[0m             \u001b[0mself\u001b[0m\u001b[0;34m.\u001b[0m\u001b[0m_num_yielded\u001b[0m \u001b[0;34m+=\u001b[0m \u001b[0;36m1\u001b[0m\u001b[0;34m\u001b[0m\u001b[0;34m\u001b[0m\u001b[0m\n\u001b[1;32m    703\u001b[0m             if (\n",
            "\u001b[0;32m/usr/local/lib/python3.11/dist-packages/torch/utils/data/dataloader.py\u001b[0m in \u001b[0;36m_next_data\u001b[0;34m(self)\u001b[0m\n\u001b[1;32m    755\u001b[0m     \u001b[0;32mdef\u001b[0m \u001b[0m_next_data\u001b[0m\u001b[0;34m(\u001b[0m\u001b[0mself\u001b[0m\u001b[0;34m)\u001b[0m\u001b[0;34m:\u001b[0m\u001b[0;34m\u001b[0m\u001b[0;34m\u001b[0m\u001b[0m\n\u001b[1;32m    756\u001b[0m         \u001b[0mindex\u001b[0m \u001b[0;34m=\u001b[0m \u001b[0mself\u001b[0m\u001b[0;34m.\u001b[0m\u001b[0m_next_index\u001b[0m\u001b[0;34m(\u001b[0m\u001b[0;34m)\u001b[0m  \u001b[0;31m# may raise StopIteration\u001b[0m\u001b[0;34m\u001b[0m\u001b[0;34m\u001b[0m\u001b[0m\n\u001b[0;32m--> 757\u001b[0;31m         \u001b[0mdata\u001b[0m \u001b[0;34m=\u001b[0m \u001b[0mself\u001b[0m\u001b[0;34m.\u001b[0m\u001b[0m_dataset_fetcher\u001b[0m\u001b[0;34m.\u001b[0m\u001b[0mfetch\u001b[0m\u001b[0;34m(\u001b[0m\u001b[0mindex\u001b[0m\u001b[0;34m)\u001b[0m  \u001b[0;31m# may raise StopIteration\u001b[0m\u001b[0;34m\u001b[0m\u001b[0;34m\u001b[0m\u001b[0m\n\u001b[0m\u001b[1;32m    758\u001b[0m         \u001b[0;32mif\u001b[0m \u001b[0mself\u001b[0m\u001b[0;34m.\u001b[0m\u001b[0m_pin_memory\u001b[0m\u001b[0;34m:\u001b[0m\u001b[0;34m\u001b[0m\u001b[0;34m\u001b[0m\u001b[0m\n\u001b[1;32m    759\u001b[0m             \u001b[0mdata\u001b[0m \u001b[0;34m=\u001b[0m \u001b[0m_utils\u001b[0m\u001b[0;34m.\u001b[0m\u001b[0mpin_memory\u001b[0m\u001b[0;34m.\u001b[0m\u001b[0mpin_memory\u001b[0m\u001b[0;34m(\u001b[0m\u001b[0mdata\u001b[0m\u001b[0;34m,\u001b[0m \u001b[0mself\u001b[0m\u001b[0;34m.\u001b[0m\u001b[0m_pin_memory_device\u001b[0m\u001b[0;34m)\u001b[0m\u001b[0;34m\u001b[0m\u001b[0;34m\u001b[0m\u001b[0m\n",
            "\u001b[0;32m/usr/local/lib/python3.11/dist-packages/torch/utils/data/_utils/fetch.py\u001b[0m in \u001b[0;36mfetch\u001b[0;34m(self, possibly_batched_index)\u001b[0m\n\u001b[1;32m     50\u001b[0m                 \u001b[0mdata\u001b[0m \u001b[0;34m=\u001b[0m \u001b[0mself\u001b[0m\u001b[0;34m.\u001b[0m\u001b[0mdataset\u001b[0m\u001b[0;34m.\u001b[0m\u001b[0m__getitems__\u001b[0m\u001b[0;34m(\u001b[0m\u001b[0mpossibly_batched_index\u001b[0m\u001b[0;34m)\u001b[0m\u001b[0;34m\u001b[0m\u001b[0;34m\u001b[0m\u001b[0m\n\u001b[1;32m     51\u001b[0m             \u001b[0;32melse\u001b[0m\u001b[0;34m:\u001b[0m\u001b[0;34m\u001b[0m\u001b[0;34m\u001b[0m\u001b[0m\n\u001b[0;32m---> 52\u001b[0;31m                 \u001b[0mdata\u001b[0m \u001b[0;34m=\u001b[0m \u001b[0;34m[\u001b[0m\u001b[0mself\u001b[0m\u001b[0;34m.\u001b[0m\u001b[0mdataset\u001b[0m\u001b[0;34m[\u001b[0m\u001b[0midx\u001b[0m\u001b[0;34m]\u001b[0m \u001b[0;32mfor\u001b[0m \u001b[0midx\u001b[0m \u001b[0;32min\u001b[0m \u001b[0mpossibly_batched_index\u001b[0m\u001b[0;34m]\u001b[0m\u001b[0;34m\u001b[0m\u001b[0;34m\u001b[0m\u001b[0m\n\u001b[0m\u001b[1;32m     53\u001b[0m         \u001b[0;32melse\u001b[0m\u001b[0;34m:\u001b[0m\u001b[0;34m\u001b[0m\u001b[0;34m\u001b[0m\u001b[0m\n\u001b[1;32m     54\u001b[0m             \u001b[0mdata\u001b[0m \u001b[0;34m=\u001b[0m \u001b[0mself\u001b[0m\u001b[0;34m.\u001b[0m\u001b[0mdataset\u001b[0m\u001b[0;34m[\u001b[0m\u001b[0mpossibly_batched_index\u001b[0m\u001b[0;34m]\u001b[0m\u001b[0;34m\u001b[0m\u001b[0;34m\u001b[0m\u001b[0m\n",
            "\u001b[0;32m/usr/local/lib/python3.11/dist-packages/torch/utils/data/_utils/fetch.py\u001b[0m in \u001b[0;36m<listcomp>\u001b[0;34m(.0)\u001b[0m\n\u001b[1;32m     50\u001b[0m                 \u001b[0mdata\u001b[0m \u001b[0;34m=\u001b[0m \u001b[0mself\u001b[0m\u001b[0;34m.\u001b[0m\u001b[0mdataset\u001b[0m\u001b[0;34m.\u001b[0m\u001b[0m__getitems__\u001b[0m\u001b[0;34m(\u001b[0m\u001b[0mpossibly_batched_index\u001b[0m\u001b[0;34m)\u001b[0m\u001b[0;34m\u001b[0m\u001b[0;34m\u001b[0m\u001b[0m\n\u001b[1;32m     51\u001b[0m             \u001b[0;32melse\u001b[0m\u001b[0;34m:\u001b[0m\u001b[0;34m\u001b[0m\u001b[0;34m\u001b[0m\u001b[0m\n\u001b[0;32m---> 52\u001b[0;31m                 \u001b[0mdata\u001b[0m \u001b[0;34m=\u001b[0m \u001b[0;34m[\u001b[0m\u001b[0mself\u001b[0m\u001b[0;34m.\u001b[0m\u001b[0mdataset\u001b[0m\u001b[0;34m[\u001b[0m\u001b[0midx\u001b[0m\u001b[0;34m]\u001b[0m \u001b[0;32mfor\u001b[0m \u001b[0midx\u001b[0m \u001b[0;32min\u001b[0m \u001b[0mpossibly_batched_index\u001b[0m\u001b[0;34m]\u001b[0m\u001b[0;34m\u001b[0m\u001b[0;34m\u001b[0m\u001b[0m\n\u001b[0m\u001b[1;32m     53\u001b[0m         \u001b[0;32melse\u001b[0m\u001b[0;34m:\u001b[0m\u001b[0;34m\u001b[0m\u001b[0;34m\u001b[0m\u001b[0m\n\u001b[1;32m     54\u001b[0m             \u001b[0mdata\u001b[0m \u001b[0;34m=\u001b[0m \u001b[0mself\u001b[0m\u001b[0;34m.\u001b[0m\u001b[0mdataset\u001b[0m\u001b[0;34m[\u001b[0m\u001b[0mpossibly_batched_index\u001b[0m\u001b[0;34m]\u001b[0m\u001b[0;34m\u001b[0m\u001b[0;34m\u001b[0m\u001b[0m\n",
            "\u001b[0;32m/usr/local/lib/python3.11/dist-packages/torchvision/datasets/cifar.py\u001b[0m in \u001b[0;36m__getitem__\u001b[0;34m(self, index)\u001b[0m\n\u001b[1;32m    117\u001b[0m \u001b[0;34m\u001b[0m\u001b[0m\n\u001b[1;32m    118\u001b[0m         \u001b[0;32mif\u001b[0m \u001b[0mself\u001b[0m\u001b[0;34m.\u001b[0m\u001b[0mtransform\u001b[0m \u001b[0;32mis\u001b[0m \u001b[0;32mnot\u001b[0m \u001b[0;32mNone\u001b[0m\u001b[0;34m:\u001b[0m\u001b[0;34m\u001b[0m\u001b[0;34m\u001b[0m\u001b[0m\n\u001b[0;32m--> 119\u001b[0;31m             \u001b[0mimg\u001b[0m \u001b[0;34m=\u001b[0m \u001b[0mself\u001b[0m\u001b[0;34m.\u001b[0m\u001b[0mtransform\u001b[0m\u001b[0;34m(\u001b[0m\u001b[0mimg\u001b[0m\u001b[0;34m)\u001b[0m\u001b[0;34m\u001b[0m\u001b[0;34m\u001b[0m\u001b[0m\n\u001b[0m\u001b[1;32m    120\u001b[0m \u001b[0;34m\u001b[0m\u001b[0m\n\u001b[1;32m    121\u001b[0m         \u001b[0;32mif\u001b[0m \u001b[0mself\u001b[0m\u001b[0;34m.\u001b[0m\u001b[0mtarget_transform\u001b[0m \u001b[0;32mis\u001b[0m \u001b[0;32mnot\u001b[0m \u001b[0;32mNone\u001b[0m\u001b[0;34m:\u001b[0m\u001b[0;34m\u001b[0m\u001b[0;34m\u001b[0m\u001b[0m\n",
            "\u001b[0;32m/usr/local/lib/python3.11/dist-packages/torchvision/transforms/transforms.py\u001b[0m in \u001b[0;36m__call__\u001b[0;34m(self, img)\u001b[0m\n\u001b[1;32m     93\u001b[0m     \u001b[0;32mdef\u001b[0m \u001b[0m__call__\u001b[0m\u001b[0;34m(\u001b[0m\u001b[0mself\u001b[0m\u001b[0;34m,\u001b[0m \u001b[0mimg\u001b[0m\u001b[0;34m)\u001b[0m\u001b[0;34m:\u001b[0m\u001b[0;34m\u001b[0m\u001b[0;34m\u001b[0m\u001b[0m\n\u001b[1;32m     94\u001b[0m         \u001b[0;32mfor\u001b[0m \u001b[0mt\u001b[0m \u001b[0;32min\u001b[0m \u001b[0mself\u001b[0m\u001b[0;34m.\u001b[0m\u001b[0mtransforms\u001b[0m\u001b[0;34m:\u001b[0m\u001b[0;34m\u001b[0m\u001b[0;34m\u001b[0m\u001b[0m\n\u001b[0;32m---> 95\u001b[0;31m             \u001b[0mimg\u001b[0m \u001b[0;34m=\u001b[0m \u001b[0mt\u001b[0m\u001b[0;34m(\u001b[0m\u001b[0mimg\u001b[0m\u001b[0;34m)\u001b[0m\u001b[0;34m\u001b[0m\u001b[0;34m\u001b[0m\u001b[0m\n\u001b[0m\u001b[1;32m     96\u001b[0m         \u001b[0;32mreturn\u001b[0m \u001b[0mimg\u001b[0m\u001b[0;34m\u001b[0m\u001b[0;34m\u001b[0m\u001b[0m\n\u001b[1;32m     97\u001b[0m \u001b[0;34m\u001b[0m\u001b[0m\n",
            "\u001b[0;32m/usr/local/lib/python3.11/dist-packages/torch/nn/modules/module.py\u001b[0m in \u001b[0;36m_wrapped_call_impl\u001b[0;34m(self, *args, **kwargs)\u001b[0m\n\u001b[1;32m   1734\u001b[0m             \u001b[0;32mreturn\u001b[0m \u001b[0mself\u001b[0m\u001b[0;34m.\u001b[0m\u001b[0m_compiled_call_impl\u001b[0m\u001b[0;34m(\u001b[0m\u001b[0;34m*\u001b[0m\u001b[0margs\u001b[0m\u001b[0;34m,\u001b[0m \u001b[0;34m**\u001b[0m\u001b[0mkwargs\u001b[0m\u001b[0;34m)\u001b[0m  \u001b[0;31m# type: ignore[misc]\u001b[0m\u001b[0;34m\u001b[0m\u001b[0;34m\u001b[0m\u001b[0m\n\u001b[1;32m   1735\u001b[0m         \u001b[0;32melse\u001b[0m\u001b[0;34m:\u001b[0m\u001b[0;34m\u001b[0m\u001b[0;34m\u001b[0m\u001b[0m\n\u001b[0;32m-> 1736\u001b[0;31m             \u001b[0;32mreturn\u001b[0m \u001b[0mself\u001b[0m\u001b[0;34m.\u001b[0m\u001b[0m_call_impl\u001b[0m\u001b[0;34m(\u001b[0m\u001b[0;34m*\u001b[0m\u001b[0margs\u001b[0m\u001b[0;34m,\u001b[0m \u001b[0;34m**\u001b[0m\u001b[0mkwargs\u001b[0m\u001b[0;34m)\u001b[0m\u001b[0;34m\u001b[0m\u001b[0;34m\u001b[0m\u001b[0m\n\u001b[0m\u001b[1;32m   1737\u001b[0m \u001b[0;34m\u001b[0m\u001b[0m\n\u001b[1;32m   1738\u001b[0m     \u001b[0;31m# torchrec tests the code consistency with the following code\u001b[0m\u001b[0;34m\u001b[0m\u001b[0;34m\u001b[0m\u001b[0m\n",
            "\u001b[0;32m/usr/local/lib/python3.11/dist-packages/torch/nn/modules/module.py\u001b[0m in \u001b[0;36m_call_impl\u001b[0;34m(self, *args, **kwargs)\u001b[0m\n\u001b[1;32m   1745\u001b[0m                 \u001b[0;32mor\u001b[0m \u001b[0m_global_backward_pre_hooks\u001b[0m \u001b[0;32mor\u001b[0m \u001b[0m_global_backward_hooks\u001b[0m\u001b[0;34m\u001b[0m\u001b[0;34m\u001b[0m\u001b[0m\n\u001b[1;32m   1746\u001b[0m                 or _global_forward_hooks or _global_forward_pre_hooks):\n\u001b[0;32m-> 1747\u001b[0;31m             \u001b[0;32mreturn\u001b[0m \u001b[0mforward_call\u001b[0m\u001b[0;34m(\u001b[0m\u001b[0;34m*\u001b[0m\u001b[0margs\u001b[0m\u001b[0;34m,\u001b[0m \u001b[0;34m**\u001b[0m\u001b[0mkwargs\u001b[0m\u001b[0;34m)\u001b[0m\u001b[0;34m\u001b[0m\u001b[0;34m\u001b[0m\u001b[0m\n\u001b[0m\u001b[1;32m   1748\u001b[0m \u001b[0;34m\u001b[0m\u001b[0m\n\u001b[1;32m   1749\u001b[0m         \u001b[0mresult\u001b[0m \u001b[0;34m=\u001b[0m \u001b[0;32mNone\u001b[0m\u001b[0;34m\u001b[0m\u001b[0;34m\u001b[0m\u001b[0m\n",
            "\u001b[0;32m/usr/local/lib/python3.11/dist-packages/torchvision/transforms/transforms.py\u001b[0m in \u001b[0;36mforward\u001b[0;34m(self, img)\u001b[0m\n\u001b[1;32m    711\u001b[0m         \"\"\"\n\u001b[1;32m    712\u001b[0m         \u001b[0;32mif\u001b[0m \u001b[0mtorch\u001b[0m\u001b[0;34m.\u001b[0m\u001b[0mrand\u001b[0m\u001b[0;34m(\u001b[0m\u001b[0;36m1\u001b[0m\u001b[0;34m)\u001b[0m \u001b[0;34m<\u001b[0m \u001b[0mself\u001b[0m\u001b[0;34m.\u001b[0m\u001b[0mp\u001b[0m\u001b[0;34m:\u001b[0m\u001b[0;34m\u001b[0m\u001b[0;34m\u001b[0m\u001b[0m\n\u001b[0;32m--> 713\u001b[0;31m             \u001b[0;32mreturn\u001b[0m \u001b[0mF\u001b[0m\u001b[0;34m.\u001b[0m\u001b[0mhflip\u001b[0m\u001b[0;34m(\u001b[0m\u001b[0mimg\u001b[0m\u001b[0;34m)\u001b[0m\u001b[0;34m\u001b[0m\u001b[0;34m\u001b[0m\u001b[0m\n\u001b[0m\u001b[1;32m    714\u001b[0m         \u001b[0;32mreturn\u001b[0m \u001b[0mimg\u001b[0m\u001b[0;34m\u001b[0m\u001b[0;34m\u001b[0m\u001b[0m\n\u001b[1;32m    715\u001b[0m \u001b[0;34m\u001b[0m\u001b[0m\n",
            "\u001b[0;32m/usr/local/lib/python3.11/dist-packages/torchvision/transforms/functional.py\u001b[0m in \u001b[0;36mhflip\u001b[0;34m(img)\u001b[0m\n\u001b[1;32m    652\u001b[0m \u001b[0;34m\u001b[0m\u001b[0m\n\u001b[1;32m    653\u001b[0m \u001b[0;34m\u001b[0m\u001b[0m\n\u001b[0;32m--> 654\u001b[0;31m \u001b[0;32mdef\u001b[0m \u001b[0mhflip\u001b[0m\u001b[0;34m(\u001b[0m\u001b[0mimg\u001b[0m\u001b[0;34m:\u001b[0m \u001b[0mTensor\u001b[0m\u001b[0;34m)\u001b[0m \u001b[0;34m->\u001b[0m \u001b[0mTensor\u001b[0m\u001b[0;34m:\u001b[0m\u001b[0;34m\u001b[0m\u001b[0;34m\u001b[0m\u001b[0m\n\u001b[0m\u001b[1;32m    655\u001b[0m     \"\"\"Horizontally flip the given image.\n\u001b[1;32m    656\u001b[0m \u001b[0;34m\u001b[0m\u001b[0m\n",
            "\u001b[0;31mKeyboardInterrupt\u001b[0m: "
          ],
          "ename": "KeyboardInterrupt",
          "evalue": "",
          "output_type": "error"
        }
      ],
      "execution_count": null
    },
    {
      "cell_type": "code",
      "source": [
        "train_time_model_0"
      ],
      "metadata": {
        "id": "WGfJA49CWjUV",
        "trusted": true,
        "execution": {
          "iopub.status.busy": "2025-04-29T09:59:35.141889Z",
          "iopub.status.idle": "2025-04-29T09:59:35.142107Z",
          "shell.execute_reply.started": "2025-04-29T09:59:35.142002Z",
          "shell.execute_reply": "2025-04-29T09:59:35.142012Z"
        }
      },
      "outputs": [],
      "execution_count": null
    },
    {
      "cell_type": "code",
      "source": [
        "torch.save(model_0.state_dict(), '/kaggle/working/my_model.pth')"
      ],
      "metadata": {
        "trusted": true,
        "execution": {
          "iopub.status.busy": "2025-04-29T09:59:35.143502Z",
          "iopub.status.idle": "2025-04-29T09:59:35.143836Z",
          "shell.execute_reply.started": "2025-04-29T09:59:35.143666Z",
          "shell.execute_reply": "2025-04-29T09:59:35.143679Z"
        },
        "id": "0r0ngL_xxOVh"
      },
      "outputs": [],
      "execution_count": null
    },
    {
      "cell_type": "code",
      "source": [
        "# import os\n",
        "# os.kill(os.getpid(), 9)"
      ],
      "metadata": {
        "id": "nX8Ev-aODU73",
        "trusted": true,
        "execution": {
          "iopub.status.busy": "2025-04-26T12:55:14.007297Z",
          "iopub.status.idle": "2025-04-26T12:55:14.00761Z",
          "shell.execute_reply.started": "2025-04-26T12:55:14.007459Z",
          "shell.execute_reply": "2025-04-26T12:55:14.007474Z"
        }
      },
      "outputs": [],
      "execution_count": null
    },
    {
      "cell_type": "code",
      "source": [
        "train_losses = [x.cpu() for x in train_losses]\n",
        "test_losses = [x.cpu() for x in test_losses]"
      ],
      "metadata": {
        "id": "2_NlVxX8MV_o",
        "trusted": true,
        "execution": {
          "iopub.status.busy": "2025-04-29T09:59:35.145012Z",
          "iopub.status.idle": "2025-04-29T09:59:35.14557Z",
          "shell.execute_reply.started": "2025-04-29T09:59:35.145375Z",
          "shell.execute_reply": "2025-04-29T09:59:35.145393Z"
        }
      },
      "outputs": [],
      "execution_count": null
    },
    {
      "cell_type": "code",
      "source": [
        "train_losses = [x.detach().numpy() for x in train_losses]\n",
        "test_losses = [x.detach().numpy() for x in test_losses]"
      ],
      "metadata": {
        "id": "vYO9VkglMx6Y",
        "trusted": true,
        "execution": {
          "iopub.status.busy": "2025-04-29T09:59:35.146494Z",
          "iopub.status.idle": "2025-04-29T09:59:35.14682Z",
          "shell.execute_reply.started": "2025-04-29T09:59:35.146643Z",
          "shell.execute_reply": "2025-04-29T09:59:35.146657Z"
        }
      },
      "outputs": [],
      "execution_count": null
    },
    {
      "cell_type": "code",
      "source": [
        "plt.plot(np.arange(1, epochs+1), train_losses, label=\"Train loss\")\n",
        "plt.plot(np.arange(1, epochs+1), test_losses, label=\"Test loss\")\n",
        "plt.legend(loc=\"best\")\n",
        "plt.show()"
      ],
      "metadata": {
        "id": "1YYOQSWRDU5h",
        "trusted": true,
        "execution": {
          "iopub.status.busy": "2025-04-29T09:59:35.148059Z",
          "iopub.status.idle": "2025-04-29T09:59:35.148355Z",
          "shell.execute_reply.started": "2025-04-29T09:59:35.148194Z",
          "shell.execute_reply": "2025-04-29T09:59:35.14821Z"
        }
      },
      "outputs": [],
      "execution_count": null
    },
    {
      "cell_type": "code",
      "source": [
        "plt.plot(np.arange(1, epochs+1), train_accs, label=\"Train accuracy\")\n",
        "plt.plot(np.arange(1, epochs+1), test_accs, label=\"Test accuracy\")\n",
        "plt.legend(loc=\"best\")\n",
        "plt.show()"
      ],
      "metadata": {
        "id": "QdYIiMQNDU27",
        "trusted": true,
        "execution": {
          "iopub.status.busy": "2025-04-29T09:59:35.149239Z",
          "iopub.status.idle": "2025-04-29T09:59:35.149534Z",
          "shell.execute_reply.started": "2025-04-29T09:59:35.149362Z",
          "shell.execute_reply": "2025-04-29T09:59:35.149377Z"
        }
      },
      "outputs": [],
      "execution_count": null
    },
    {
      "cell_type": "code",
      "source": [
        "def plot_curves(epochs: int, metric: str,  metric_arr1: list, metric_arr2: list, to_cpu=True):\n",
        "\n",
        "  if to_cpu:\n",
        "    metric_arr1 = [x.cpu() for x in metric_arr1]\n",
        "    metric_arr2 = [x.cpu() for x in metric_arr2]\n",
        "    metric_arr1 = [x.detach().numpy() for x in metric_arr1]\n",
        "    metric_arr2 = [x.detach().numpy() for x in metric_arr2]\n",
        "\n",
        "  plt.plot(np.arange(1, epochs+1), metric_arr1, label=f\"Train {metric}\")\n",
        "  plt.plot(np.arange(1, epochs+1), metric_arr2, label=f\"Test {metric}\")\n",
        "  plt.legend(loc=\"best\")\n",
        "  plt.show()"
      ],
      "metadata": {
        "id": "SvmDWubNdMN8",
        "trusted": true,
        "execution": {
          "iopub.status.busy": "2025-04-29T10:47:01.228796Z",
          "iopub.execute_input": "2025-04-29T10:47:01.229558Z",
          "iopub.status.idle": "2025-04-29T10:47:01.236565Z",
          "shell.execute_reply.started": "2025-04-29T10:47:01.229524Z",
          "shell.execute_reply": "2025-04-29T10:47:01.235441Z"
        }
      },
      "outputs": [],
      "execution_count": null
    },
    {
      "cell_type": "code",
      "source": [
        "class FireModule(nn.Module):\n",
        "  def __init__(self, input_shape: int, squeeze_channels: int, expand1x1_channels: int, expand3x3_channels: int):\n",
        "    super().__init__()\n",
        "\n",
        "    self.squeeze = nn.Sequential(\n",
        "        nn.Conv2d(in_channels=input_shape, out_channels=squeeze_channels, kernel_size=1, stride=1, padding=0),\n",
        "        nn.BatchNorm2d(num_features=squeeze_channels),\n",
        "        nn.ReLU()\n",
        "    )\n",
        "\n",
        "    self.expand1x1 = nn.Sequential(\n",
        "        nn.Conv2d(in_channels=squeeze_channels, out_channels=expand1x1_channels, kernel_size=1, stride=1, padding=0),\n",
        "        nn.BatchNorm2d(num_features=expand1x1_channels),\n",
        "        nn.ReLU()\n",
        "    )\n",
        "\n",
        "    self.expand3x3 = nn.Sequential(\n",
        "        nn.Conv2d(in_channels=squeeze_channels, out_channels=expand3x3_channels, kernel_size=3, stride=1, padding=1),\n",
        "        nn.BatchNorm2d(num_features=expand3x3_channels),\n",
        "        nn.ReLU()\n",
        "    )\n",
        "\n",
        "  def forward(self, x: torch.Tensor) -> torch.Tensor:\n",
        "    x = self.squeeze(x)\n",
        "\n",
        "    ex1 = self.expand1x1(x)\n",
        "    ex2 = self.expand3x3(x)\n",
        "\n",
        "    out = torch.cat([ex1, ex2], dim=1)\n",
        "    return out"
      ],
      "metadata": {
        "id": "8WrSLcioZMtP",
        "trusted": true,
        "execution": {
          "iopub.status.busy": "2025-04-29T10:46:56.413595Z",
          "iopub.execute_input": "2025-04-29T10:46:56.413884Z",
          "iopub.status.idle": "2025-04-29T10:46:56.420558Z",
          "shell.execute_reply.started": "2025-04-29T10:46:56.413862Z",
          "shell.execute_reply": "2025-04-29T10:46:56.419791Z"
        }
      },
      "outputs": [],
      "execution_count": null
    },
    {
      "cell_type": "code",
      "source": [
        "512*16"
      ],
      "metadata": {
        "id": "OFqqLuILb_F_",
        "outputId": "26faff17-0f8a-4cbf-ff5c-f200e2e762af",
        "trusted": true,
        "execution": {
          "iopub.status.busy": "2025-04-29T06:00:08.541112Z",
          "iopub.execute_input": "2025-04-29T06:00:08.541835Z",
          "iopub.status.idle": "2025-04-29T06:00:08.554335Z",
          "shell.execute_reply.started": "2025-04-29T06:00:08.541818Z",
          "shell.execute_reply": "2025-04-29T06:00:08.553785Z"
        }
      },
      "outputs": [
        {
          "execution_count": 20,
          "output_type": "execute_result",
          "data": {
            "text/plain": "8192"
          },
          "metadata": {}
        }
      ],
      "execution_count": null
    },
    {
      "cell_type": "code",
      "source": [
        "class Cifar100v2(nn.Module):\n",
        "  def __init__(self, input_shape: int, output_shape: int):\n",
        "    super(Cifar100v2, self).__init__()\n",
        "\n",
        "    self.conv1 = nn.Sequential(\n",
        "        nn.Conv2d(in_channels=input_shape, out_channels=96, kernel_size=3, stride=1, padding=1),\n",
        "        nn.BatchNorm2d(num_features=96),\n",
        "        nn.ReLU(),\n",
        "        nn.MaxPool2d(kernel_size=2, stride=2)\n",
        "    )\n",
        "\n",
        "    self.fire2 = FireModule(96, 16, 32, 32)\n",
        "\n",
        "    self.fire3 = FireModule(64, 16, 32, 32)\n",
        "\n",
        "    self.fire4 = nn.Sequential(\n",
        "        FireModule(64, 16, 64, 64),\n",
        "        nn.MaxPool2d(kernel_size=2, stride=2)\n",
        "    )\n",
        "\n",
        "    self.fire5 = FireModule(128, 16, 128, 128)\n",
        "\n",
        "    self.conv6 = nn.Sequential(\n",
        "        nn.Conv2d(in_channels=256, out_channels=512, kernel_size=3, stride=1, padding=1),\n",
        "        nn.BatchNorm2d(num_features=512),\n",
        "        nn.ReLU(),\n",
        "        nn.MaxPool2d(kernel_size=2, stride=2)\n",
        "    )\n",
        "\n",
        "    self.adp_avg_pool = nn.AdaptiveAvgPool2d((1, 1))\n",
        "\n",
        "    self.classifier = nn.Sequential(\n",
        "        nn.Flatten(),\n",
        "        nn.Dropout(p=0.3),\n",
        "        nn.Linear(in_features=512, out_features=output_shape)\n",
        "    )\n",
        "\n",
        "  def forward(self, x: torch.Tensor) -> torch.Tensor:\n",
        "    x = self.conv1(x)\n",
        "\n",
        "    x = self.fire2(x)\n",
        "\n",
        "    x = self.fire3(x)\n",
        "\n",
        "    x = self.fire4(x)\n",
        "\n",
        "    x = self.fire5(x)\n",
        "\n",
        "    x = self.conv6(x)\n",
        "\n",
        "    x = self.adp_avg_pool(x)\n",
        "\n",
        "    x = self.classifier(x)\n",
        "    return x"
      ],
      "metadata": {
        "id": "4gQVtYwHDU0U",
        "trusted": true,
        "execution": {
          "iopub.status.busy": "2025-04-29T06:00:08.554967Z",
          "iopub.execute_input": "2025-04-29T06:00:08.555146Z",
          "iopub.status.idle": "2025-04-29T06:00:08.564799Z",
          "shell.execute_reply.started": "2025-04-29T06:00:08.555132Z",
          "shell.execute_reply": "2025-04-29T06:00:08.564207Z"
        }
      },
      "outputs": [],
      "execution_count": null
    },
    {
      "cell_type": "code",
      "source": [
        "model_1 = Cifar100v2(input_shape=3, output_shape=len(cifar100_train.classes))\n",
        "model_1"
      ],
      "metadata": {
        "id": "pUaCJUgJUGzg",
        "outputId": "79533f8a-8d5b-457d-d7ee-3eecfb94d209",
        "trusted": true,
        "execution": {
          "iopub.status.busy": "2025-04-29T06:00:08.565434Z",
          "iopub.execute_input": "2025-04-29T06:00:08.565668Z",
          "iopub.status.idle": "2025-04-29T06:00:08.596081Z",
          "shell.execute_reply.started": "2025-04-29T06:00:08.565649Z",
          "shell.execute_reply": "2025-04-29T06:00:08.595464Z"
        }
      },
      "outputs": [
        {
          "execution_count": 22,
          "output_type": "execute_result",
          "data": {
            "text/plain": "Cifar100v2(\n  (conv1): Sequential(\n    (0): Conv2d(3, 96, kernel_size=(3, 3), stride=(1, 1), padding=(1, 1))\n    (1): BatchNorm2d(96, eps=1e-05, momentum=0.1, affine=True, track_running_stats=True)\n    (2): ReLU()\n    (3): MaxPool2d(kernel_size=2, stride=2, padding=0, dilation=1, ceil_mode=False)\n  )\n  (fire2): FireModule(\n    (squeeze): Sequential(\n      (0): Conv2d(96, 16, kernel_size=(1, 1), stride=(1, 1))\n      (1): BatchNorm2d(16, eps=1e-05, momentum=0.1, affine=True, track_running_stats=True)\n      (2): ReLU()\n    )\n    (expand1x1): Sequential(\n      (0): Conv2d(16, 32, kernel_size=(1, 1), stride=(1, 1))\n      (1): BatchNorm2d(32, eps=1e-05, momentum=0.1, affine=True, track_running_stats=True)\n      (2): ReLU()\n    )\n    (expand3x3): Sequential(\n      (0): Conv2d(16, 32, kernel_size=(3, 3), stride=(1, 1), padding=(1, 1))\n      (1): BatchNorm2d(32, eps=1e-05, momentum=0.1, affine=True, track_running_stats=True)\n      (2): ReLU()\n    )\n  )\n  (fire3): FireModule(\n    (squeeze): Sequential(\n      (0): Conv2d(64, 16, kernel_size=(1, 1), stride=(1, 1))\n      (1): BatchNorm2d(16, eps=1e-05, momentum=0.1, affine=True, track_running_stats=True)\n      (2): ReLU()\n    )\n    (expand1x1): Sequential(\n      (0): Conv2d(16, 32, kernel_size=(1, 1), stride=(1, 1))\n      (1): BatchNorm2d(32, eps=1e-05, momentum=0.1, affine=True, track_running_stats=True)\n      (2): ReLU()\n    )\n    (expand3x3): Sequential(\n      (0): Conv2d(16, 32, kernel_size=(3, 3), stride=(1, 1), padding=(1, 1))\n      (1): BatchNorm2d(32, eps=1e-05, momentum=0.1, affine=True, track_running_stats=True)\n      (2): ReLU()\n    )\n  )\n  (fire4): Sequential(\n    (0): FireModule(\n      (squeeze): Sequential(\n        (0): Conv2d(64, 16, kernel_size=(1, 1), stride=(1, 1))\n        (1): BatchNorm2d(16, eps=1e-05, momentum=0.1, affine=True, track_running_stats=True)\n        (2): ReLU()\n      )\n      (expand1x1): Sequential(\n        (0): Conv2d(16, 64, kernel_size=(1, 1), stride=(1, 1))\n        (1): BatchNorm2d(64, eps=1e-05, momentum=0.1, affine=True, track_running_stats=True)\n        (2): ReLU()\n      )\n      (expand3x3): Sequential(\n        (0): Conv2d(16, 64, kernel_size=(3, 3), stride=(1, 1), padding=(1, 1))\n        (1): BatchNorm2d(64, eps=1e-05, momentum=0.1, affine=True, track_running_stats=True)\n        (2): ReLU()\n      )\n    )\n    (1): MaxPool2d(kernel_size=2, stride=2, padding=0, dilation=1, ceil_mode=False)\n  )\n  (fire5): FireModule(\n    (squeeze): Sequential(\n      (0): Conv2d(128, 16, kernel_size=(1, 1), stride=(1, 1))\n      (1): BatchNorm2d(16, eps=1e-05, momentum=0.1, affine=True, track_running_stats=True)\n      (2): ReLU()\n    )\n    (expand1x1): Sequential(\n      (0): Conv2d(16, 128, kernel_size=(1, 1), stride=(1, 1))\n      (1): BatchNorm2d(128, eps=1e-05, momentum=0.1, affine=True, track_running_stats=True)\n      (2): ReLU()\n    )\n    (expand3x3): Sequential(\n      (0): Conv2d(16, 128, kernel_size=(3, 3), stride=(1, 1), padding=(1, 1))\n      (1): BatchNorm2d(128, eps=1e-05, momentum=0.1, affine=True, track_running_stats=True)\n      (2): ReLU()\n    )\n  )\n  (conv6): Sequential(\n    (0): Conv2d(256, 512, kernel_size=(3, 3), stride=(1, 1), padding=(1, 1))\n    (1): BatchNorm2d(512, eps=1e-05, momentum=0.1, affine=True, track_running_stats=True)\n    (2): ReLU()\n    (3): MaxPool2d(kernel_size=2, stride=2, padding=0, dilation=1, ceil_mode=False)\n  )\n  (adp_avg_pool): AdaptiveAvgPool2d(output_size=(1, 1))\n  (classifier): Sequential(\n    (0): Flatten(start_dim=1, end_dim=-1)\n    (1): Dropout(p=0.3, inplace=False)\n    (2): Linear(in_features=512, out_features=100, bias=True)\n  )\n)"
          },
          "metadata": {}
        }
      ],
      "execution_count": null
    },
    {
      "cell_type": "code",
      "source": [
        "summary(model=model_1, input_size=(32, 3 , 32, 32), col_names=[\"input_size\", \"output_size\", \"num_params\", \"trainable\"],\n",
        "        col_width=20,\n",
        "        row_settings=[\"var_names\"])"
      ],
      "metadata": {
        "id": "LkraW74oDUxu",
        "outputId": "edf69152-6895-4ebc-85b9-a7b21764c165",
        "trusted": true,
        "execution": {
          "iopub.status.busy": "2025-04-29T06:00:08.596783Z",
          "iopub.execute_input": "2025-04-29T06:00:08.596974Z",
          "iopub.status.idle": "2025-04-29T06:00:09.448159Z",
          "shell.execute_reply.started": "2025-04-29T06:00:08.59696Z",
          "shell.execute_reply": "2025-04-29T06:00:09.447532Z"
        }
      },
      "outputs": [
        {
          "execution_count": 23,
          "output_type": "execute_result",
          "data": {
            "text/plain": "========================================================================================================================\nLayer (type (var_name))                  Input Shape          Output Shape         Param #              Trainable\n========================================================================================================================\nCifar100v2 (Cifar100v2)                  [32, 3, 32, 32]      [32, 100]            --                   True\n├─Sequential (conv1)                     [32, 3, 32, 32]      [32, 96, 16, 16]     --                   True\n│    └─Conv2d (0)                        [32, 3, 32, 32]      [32, 96, 32, 32]     2,688                True\n│    └─BatchNorm2d (1)                   [32, 96, 32, 32]     [32, 96, 32, 32]     192                  True\n│    └─ReLU (2)                          [32, 96, 32, 32]     [32, 96, 32, 32]     --                   --\n│    └─MaxPool2d (3)                     [32, 96, 32, 32]     [32, 96, 16, 16]     --                   --\n├─FireModule (fire2)                     [32, 96, 16, 16]     [32, 64, 16, 16]     --                   True\n│    └─Sequential (squeeze)              [32, 96, 16, 16]     [32, 16, 16, 16]     --                   True\n│    │    └─Conv2d (0)                   [32, 96, 16, 16]     [32, 16, 16, 16]     1,552                True\n│    │    └─BatchNorm2d (1)              [32, 16, 16, 16]     [32, 16, 16, 16]     32                   True\n│    │    └─ReLU (2)                     [32, 16, 16, 16]     [32, 16, 16, 16]     --                   --\n│    └─Sequential (expand1x1)            [32, 16, 16, 16]     [32, 32, 16, 16]     --                   True\n│    │    └─Conv2d (0)                   [32, 16, 16, 16]     [32, 32, 16, 16]     544                  True\n│    │    └─BatchNorm2d (1)              [32, 32, 16, 16]     [32, 32, 16, 16]     64                   True\n│    │    └─ReLU (2)                     [32, 32, 16, 16]     [32, 32, 16, 16]     --                   --\n│    └─Sequential (expand3x3)            [32, 16, 16, 16]     [32, 32, 16, 16]     --                   True\n│    │    └─Conv2d (0)                   [32, 16, 16, 16]     [32, 32, 16, 16]     4,640                True\n│    │    └─BatchNorm2d (1)              [32, 32, 16, 16]     [32, 32, 16, 16]     64                   True\n│    │    └─ReLU (2)                     [32, 32, 16, 16]     [32, 32, 16, 16]     --                   --\n├─FireModule (fire3)                     [32, 64, 16, 16]     [32, 64, 16, 16]     --                   True\n│    └─Sequential (squeeze)              [32, 64, 16, 16]     [32, 16, 16, 16]     --                   True\n│    │    └─Conv2d (0)                   [32, 64, 16, 16]     [32, 16, 16, 16]     1,040                True\n│    │    └─BatchNorm2d (1)              [32, 16, 16, 16]     [32, 16, 16, 16]     32                   True\n│    │    └─ReLU (2)                     [32, 16, 16, 16]     [32, 16, 16, 16]     --                   --\n│    └─Sequential (expand1x1)            [32, 16, 16, 16]     [32, 32, 16, 16]     --                   True\n│    │    └─Conv2d (0)                   [32, 16, 16, 16]     [32, 32, 16, 16]     544                  True\n│    │    └─BatchNorm2d (1)              [32, 32, 16, 16]     [32, 32, 16, 16]     64                   True\n│    │    └─ReLU (2)                     [32, 32, 16, 16]     [32, 32, 16, 16]     --                   --\n│    └─Sequential (expand3x3)            [32, 16, 16, 16]     [32, 32, 16, 16]     --                   True\n│    │    └─Conv2d (0)                   [32, 16, 16, 16]     [32, 32, 16, 16]     4,640                True\n│    │    └─BatchNorm2d (1)              [32, 32, 16, 16]     [32, 32, 16, 16]     64                   True\n│    │    └─ReLU (2)                     [32, 32, 16, 16]     [32, 32, 16, 16]     --                   --\n├─Sequential (fire4)                     [32, 64, 16, 16]     [32, 128, 8, 8]      --                   True\n│    └─FireModule (0)                    [32, 64, 16, 16]     [32, 128, 16, 16]    --                   True\n│    │    └─Sequential (squeeze)         [32, 64, 16, 16]     [32, 16, 16, 16]     1,072                True\n│    │    └─Sequential (expand1x1)       [32, 16, 16, 16]     [32, 64, 16, 16]     1,216                True\n│    │    └─Sequential (expand3x3)       [32, 16, 16, 16]     [32, 64, 16, 16]     9,408                True\n│    └─MaxPool2d (1)                     [32, 128, 16, 16]    [32, 128, 8, 8]      --                   --\n├─FireModule (fire5)                     [32, 128, 8, 8]      [32, 256, 8, 8]      --                   True\n│    └─Sequential (squeeze)              [32, 128, 8, 8]      [32, 16, 8, 8]       --                   True\n│    │    └─Conv2d (0)                   [32, 128, 8, 8]      [32, 16, 8, 8]       2,064                True\n│    │    └─BatchNorm2d (1)              [32, 16, 8, 8]       [32, 16, 8, 8]       32                   True\n│    │    └─ReLU (2)                     [32, 16, 8, 8]       [32, 16, 8, 8]       --                   --\n│    └─Sequential (expand1x1)            [32, 16, 8, 8]       [32, 128, 8, 8]      --                   True\n│    │    └─Conv2d (0)                   [32, 16, 8, 8]       [32, 128, 8, 8]      2,176                True\n│    │    └─BatchNorm2d (1)              [32, 128, 8, 8]      [32, 128, 8, 8]      256                  True\n│    │    └─ReLU (2)                     [32, 128, 8, 8]      [32, 128, 8, 8]      --                   --\n│    └─Sequential (expand3x3)            [32, 16, 8, 8]       [32, 128, 8, 8]      --                   True\n│    │    └─Conv2d (0)                   [32, 16, 8, 8]       [32, 128, 8, 8]      18,560               True\n│    │    └─BatchNorm2d (1)              [32, 128, 8, 8]      [32, 128, 8, 8]      256                  True\n│    │    └─ReLU (2)                     [32, 128, 8, 8]      [32, 128, 8, 8]      --                   --\n├─Sequential (conv6)                     [32, 256, 8, 8]      [32, 512, 4, 4]      --                   True\n│    └─Conv2d (0)                        [32, 256, 8, 8]      [32, 512, 8, 8]      1,180,160            True\n│    └─BatchNorm2d (1)                   [32, 512, 8, 8]      [32, 512, 8, 8]      1,024                True\n│    └─ReLU (2)                          [32, 512, 8, 8]      [32, 512, 8, 8]      --                   --\n│    └─MaxPool2d (3)                     [32, 512, 8, 8]      [32, 512, 4, 4]      --                   --\n├─AdaptiveAvgPool2d (adp_avg_pool)       [32, 512, 4, 4]      [32, 512, 1, 1]      --                   --\n├─Sequential (classifier)                [32, 512, 1, 1]      [32, 100]            --                   True\n│    └─Flatten (0)                       [32, 512, 1, 1]      [32, 512]            --                   --\n│    └─Dropout (1)                       [32, 512]            [32, 512]            --                   --\n│    └─Linear (2)                        [32, 512]            [32, 100]            51,300               True\n========================================================================================================================\nTotal params: 1,283,684\nTrainable params: 1,283,684\nNon-trainable params: 0\nTotal mult-adds (Units.GIGABYTES): 2.75\n========================================================================================================================\nInput size (MB): 0.39\nForward/backward pass size (MB): 115.89\nParams size (MB): 5.13\nEstimated Total Size (MB): 121.42\n========================================================================================================================"
          },
          "metadata": {}
        }
      ],
      "execution_count": null
    },
    {
      "cell_type": "code",
      "source": [
        "loss_1 = nn.CrossEntropyLoss()\n",
        "optimizer_1 = torch.optim.SGD(params=model_1.parameters(), lr=0.001, momentum=0.9, weight_decay=5e-4)"
      ],
      "metadata": {
        "id": "-ojqpYE_DUvH",
        "trusted": true,
        "execution": {
          "iopub.status.busy": "2025-04-29T06:00:09.448846Z",
          "iopub.execute_input": "2025-04-29T06:00:09.449051Z",
          "iopub.status.idle": "2025-04-29T06:00:09.453368Z",
          "shell.execute_reply.started": "2025-04-29T06:00:09.449036Z",
          "shell.execute_reply": "2025-04-29T06:00:09.452771Z"
        }
      },
      "outputs": [],
      "execution_count": null
    },
    {
      "cell_type": "code",
      "source": [
        "epochs = 50\n",
        "train_losses, test_losses = [], []\n",
        "train_accs, test_accs = [], []\n",
        "\n",
        "start_train_time_model_1 = time.time()\n",
        "\n",
        "for epoch in tqdm(range(epochs)):\n",
        "  print(f\"Epoch: {epoch}\\n---\")\n",
        "\n",
        "  train_loss, train_acc = model_train(model=model_1,\n",
        "                                      loss_fn=loss_1,\n",
        "                                      optimizer_fn=optimizer_1,\n",
        "                                      dataloader=train100_dataloader,\n",
        "                                      device=device,\n",
        "                                      epochs=epochs,\n",
        "                                      accuracy_fn=accuracy_fn)\n",
        "\n",
        "  test_loss, test_acc = model_test(model=model_1,\n",
        "                                   loss_fn=loss_1,\n",
        "                                   dataloader=test100_dataloader,\n",
        "                                   device=device,\n",
        "                                   accuracy_fn=accuracy_fn)\n",
        "\n",
        "  train_losses.append(train_loss)\n",
        "  train_accs.append(train_acc)\n",
        "  test_losses.append(test_loss)\n",
        "  test_accs.append(test_acc)\n",
        "\n",
        "stop_train_time_model_1 = time.time()\n",
        "\n",
        "train_time_model_1 = print_train_time(start=start_train_time_model_1,\n",
        "                                      end=stop_train_time_model_1,\n",
        "                                      model=model_1,\n",
        "                                      device=device)"
      ],
      "metadata": {
        "id": "bGFTFizZDUsg",
        "outputId": "fd1854d9-1055-4b0b-b08d-d5bc122c664e",
        "trusted": true,
        "execution": {
          "iopub.status.busy": "2025-04-29T06:00:09.454046Z",
          "iopub.execute_input": "2025-04-29T06:00:09.454365Z",
          "iopub.status.idle": "2025-04-29T06:46:35.491777Z",
          "shell.execute_reply.started": "2025-04-29T06:00:09.454342Z",
          "shell.execute_reply": "2025-04-29T06:46:35.490908Z"
        },
        "colab": {
          "referenced_widgets": [
            "6f92115664c74a02885f981d16fa46bc"
          ]
        }
      },
      "outputs": [
        {
          "output_type": "display_data",
          "data": {
            "text/plain": "  0%|          | 0/50 [00:00<?, ?it/s]",
            "application/vnd.jupyter.widget-view+json": {
              "version_major": 2,
              "version_minor": 0,
              "model_id": "6f92115664c74a02885f981d16fa46bc"
            }
          },
          "metadata": {}
        },
        {
          "name": "stdout",
          "text": "Epoch: 0\n---\nTrain loss:  4.10718 | Train acc:  6.94%\nTest loss:  3.68084 | Test acc:  11.44%\nEpoch: 1\n---\nTrain loss:  3.60217 | Train acc:  13.77%\nTest loss:  3.24637 | Test acc:  19.55%\nEpoch: 2\n---\nTrain loss:  3.27699 | Train acc:  19.43%\nTest loss:  3.09306 | Test acc:  22.03%\nEpoch: 3\n---\nTrain loss:  3.02647 | Train acc:  24.13%\nTest loss:  2.84047 | Test acc:  27.95%\nEpoch: 4\n---\nTrain loss:  2.85369 | Train acc:  27.66%\nTest loss:  2.71611 | Test acc:  30.17%\nEpoch: 5\n---\nTrain loss:  2.70558 | Train acc:  30.65%\nTest loss:  2.52513 | Test acc:  34.40%\nEpoch: 6\n---\nTrain loss:  2.59376 | Train acc:  32.92%\nTest loss:  2.42528 | Test acc:  37.05%\nEpoch: 7\n---\nTrain loss:  2.50594 | Train acc:  34.99%\nTest loss:  2.45763 | Test acc:  36.34%\nEpoch: 8\n---\nTrain loss:  2.42587 | Train acc:  36.83%\nTest loss:  2.30722 | Test acc:  39.81%\nEpoch: 9\n---\nTrain loss:  2.36076 | Train acc:  38.35%\nTest loss:  2.24978 | Test acc:  40.51%\nEpoch: 10\n---\nTrain loss:  2.30491 | Train acc:  39.79%\nTest loss:  2.15716 | Test acc:  43.11%\nEpoch: 11\n---\nTrain loss:  2.26781 | Train acc:  40.39%\nTest loss:  2.25835 | Test acc:  41.22%\nEpoch: 12\n---\nTrain loss:  2.22296 | Train acc:  41.51%\nTest loss:  2.15360 | Test acc:  43.40%\nEpoch: 13\n---\nTrain loss:  2.18011 | Train acc:  42.21%\nTest loss:  2.13149 | Test acc:  43.87%\nEpoch: 14\n---\nTrain loss:  2.15287 | Train acc:  42.98%\nTest loss:  2.09546 | Test acc:  44.25%\nEpoch: 15\n---\nTrain loss:  2.11912 | Train acc:  43.93%\nTest loss:  2.05218 | Test acc:  45.02%\nEpoch: 16\n---\nTrain loss:  2.10403 | Train acc:  44.33%\nTest loss:  2.04297 | Test acc:  44.60%\nEpoch: 17\n---\nTrain loss:  2.06920 | Train acc:  44.71%\nTest loss:  2.17717 | Test acc:  43.50%\nEpoch: 18\n---\nTrain loss:  2.04214 | Train acc:  45.62%\nTest loss:  1.97866 | Test acc:  47.66%\nEpoch: 19\n---\nTrain loss:  2.02845 | Train acc:  45.77%\nTest loss:  2.08385 | Test acc:  45.01%\nEpoch: 20\n---\nTrain loss:  2.00959 | Train acc:  46.19%\nTest loss:  1.92988 | Test acc:  48.48%\nEpoch: 21\n---\nTrain loss:  1.99336 | Train acc:  46.76%\nTest loss:  2.02395 | Test acc:  46.89%\nEpoch: 22\n---\nTrain loss:  1.98167 | Train acc:  46.92%\nTest loss:  1.94949 | Test acc:  47.79%\nEpoch: 23\n---\nTrain loss:  1.95541 | Train acc:  47.56%\nTest loss:  2.00747 | Test acc:  46.54%\nEpoch: 24\n---\nTrain loss:  1.94205 | Train acc:  47.79%\nTest loss:  1.99229 | Test acc:  47.78%\nEpoch: 25\n---\nTrain loss:  1.92352 | Train acc:  48.38%\nTest loss:  1.82818 | Test acc:  50.90%\nEpoch: 26\n---\nTrain loss:  1.91169 | Train acc:  48.57%\nTest loss:  2.03734 | Test acc:  46.61%\nEpoch: 27\n---\nTrain loss:  1.89643 | Train acc:  48.85%\nTest loss:  1.94912 | Test acc:  48.69%\nEpoch: 28\n---\nTrain loss:  1.88085 | Train acc:  49.20%\nTest loss:  1.78687 | Test acc:  51.62%\nEpoch: 29\n---\nTrain loss:  1.87442 | Train acc:  49.39%\nTest loss:  1.85080 | Test acc:  50.02%\nEpoch: 30\n---\nTrain loss:  1.85304 | Train acc:  50.04%\nTest loss:  1.89668 | Test acc:  49.53%\nEpoch: 31\n---\nTrain loss:  1.85419 | Train acc:  49.84%\nTest loss:  1.91176 | Test acc:  49.39%\nEpoch: 32\n---\nTrain loss:  1.84153 | Train acc:  50.12%\nTest loss:  1.79384 | Test acc:  51.19%\nEpoch: 33\n---\nTrain loss:  1.83080 | Train acc:  50.42%\nTest loss:  1.88393 | Test acc:  49.83%\nEpoch: 34\n---\nTrain loss:  1.82965 | Train acc:  50.64%\nTest loss:  1.77255 | Test acc:  52.02%\nEpoch: 35\n---\nTrain loss:  1.81393 | Train acc:  51.01%\nTest loss:  1.79008 | Test acc:  52.03%\nEpoch: 36\n---\nTrain loss:  1.80545 | Train acc:  51.04%\nTest loss:  1.79577 | Test acc:  51.53%\nEpoch: 37\n---\nTrain loss:  1.79405 | Train acc:  51.17%\nTest loss:  1.71477 | Test acc:  53.11%\nEpoch: 38\n---\nTrain loss:  1.78989 | Train acc:  51.50%\nTest loss:  1.76349 | Test acc:  52.18%\nEpoch: 39\n---\nTrain loss:  1.78875 | Train acc:  51.34%\nTest loss:  1.85660 | Test acc:  50.00%\nEpoch: 40\n---\nTrain loss:  1.76887 | Train acc:  51.86%\nTest loss:  1.91842 | Test acc:  49.03%\nEpoch: 41\n---\nTrain loss:  1.76886 | Train acc:  51.68%\nTest loss:  1.87676 | Test acc:  50.60%\nEpoch: 42\n---\nTrain loss:  1.77091 | Train acc:  52.28%\nTest loss:  1.79474 | Test acc:  51.78%\nEpoch: 43\n---\nTrain loss:  1.76064 | Train acc:  51.95%\nTest loss:  1.75550 | Test acc:  52.64%\nEpoch: 44\n---\nTrain loss:  1.75668 | Train acc:  52.03%\nTest loss:  1.75883 | Test acc:  52.79%\nEpoch: 45\n---\nTrain loss:  1.74665 | Train acc:  52.23%\nTest loss:  1.78331 | Test acc:  52.54%\nEpoch: 46\n---\nTrain loss:  1.74477 | Train acc:  52.34%\nTest loss:  1.80206 | Test acc:  52.08%\nEpoch: 47\n---\nTrain loss:  1.74025 | Train acc:  52.56%\nTest loss:  1.76194 | Test acc:  52.69%\nEpoch: 48\n---\nTrain loss:  1.73885 | Train acc:  52.57%\nTest loss:  1.70332 | Test acc:  53.65%\nEpoch: 49\n---\nTrain loss:  1.73405 | Train acc:  52.92%\nTest loss:  1.71108 | Test acc:  53.49%\nTrain time on cuda: 2786.0242919921875\n",
          "output_type": "stream"
        }
      ],
      "execution_count": null
    },
    {
      "cell_type": "code",
      "source": [
        "torch.save(model_1.state_dict(), '/kaggle/working/my_model_1.pth')"
      ],
      "metadata": {
        "trusted": true,
        "execution": {
          "iopub.status.busy": "2025-04-29T06:46:35.495588Z",
          "iopub.execute_input": "2025-04-29T06:46:35.49607Z",
          "iopub.status.idle": "2025-04-29T06:46:35.521039Z",
          "shell.execute_reply.started": "2025-04-29T06:46:35.49605Z",
          "shell.execute_reply": "2025-04-29T06:46:35.520289Z"
        },
        "id": "FdfJ8XmLxOVi"
      },
      "outputs": [],
      "execution_count": null
    },
    {
      "cell_type": "code",
      "source": [
        "plot_curves(epochs=epochs, metric=\"loss\", metric_arr1=train_losses, metric_arr2=test_losses)"
      ],
      "metadata": {
        "id": "UBoxj_41DUp5",
        "outputId": "68ed308c-0418-4338-da96-373c9ff04ce1",
        "trusted": true,
        "execution": {
          "iopub.status.busy": "2025-04-29T06:46:35.521907Z",
          "iopub.execute_input": "2025-04-29T06:46:35.522229Z",
          "iopub.status.idle": "2025-04-29T06:46:35.672287Z",
          "shell.execute_reply.started": "2025-04-29T06:46:35.522205Z",
          "shell.execute_reply": "2025-04-29T06:46:35.671621Z"
        }
      },
      "outputs": [
        {
          "output_type": "display_data",
          "data": {
            "text/plain": "<Figure size 640x480 with 1 Axes>",
            "image/png": "[encoded data removed]"
          },
          "metadata": {}
        }
      ],
      "execution_count": null
    },
    {
      "cell_type": "code",
      "source": [
        "plot_curves(epochs=epochs, metric=\"accuracy\", metric_arr1=train_accs, metric_arr2=test_accs, to_cpu=False)"
      ],
      "metadata": {
        "id": "EFx4qDWeDUnj",
        "outputId": "5cb6b296-3769-44fa-cae3-8d77467f3927",
        "trusted": true,
        "execution": {
          "iopub.status.busy": "2025-04-29T06:46:35.67308Z",
          "iopub.execute_input": "2025-04-29T06:46:35.673347Z",
          "iopub.status.idle": "2025-04-29T06:46:35.800056Z",
          "shell.execute_reply.started": "2025-04-29T06:46:35.673329Z",
          "shell.execute_reply": "2025-04-29T06:46:35.799508Z"
        }
      },
      "outputs": [
        {
          "output_type": "display_data",
          "data": {
            "text/plain": "<Figure size 640x480 with 1 Axes>",
            "image/png": "[encoded data removed]"
          },
          "metadata": {}
        }
      ],
      "execution_count": null
    },
    {
      "cell_type": "code",
      "source": [
        "96*2"
      ],
      "metadata": {
        "id": "KTw10ClvOLtK",
        "trusted": true,
        "execution": {
          "iopub.status.busy": "2025-04-26T12:55:14.027832Z",
          "iopub.status.idle": "2025-04-26T12:55:14.028051Z",
          "shell.execute_reply.started": "2025-04-26T12:55:14.027946Z",
          "shell.execute_reply": "2025-04-26T12:55:14.027955Z"
        }
      },
      "outputs": [],
      "execution_count": null
    },
    {
      "cell_type": "code",
      "source": [
        "class Cifar100v3(nn.Module):\n",
        "  def __init__(self, input_shape: int, output_shape: int):\n",
        "    super(Cifar100v3, self).__init__()\n",
        "\n",
        "    self.conv1 = nn.Sequential(\n",
        "        nn.Conv2d(in_channels=input_shape, out_channels=64, kernel_size=3, stride=1, padding=1),\n",
        "        nn.BatchNorm2d(num_features=64),\n",
        "        nn.ReLU(),\n",
        "        nn.MaxPool2d(kernel_size=2, stride=2)\n",
        "    )\n",
        "\n",
        "    self.fire2 = FireModule(64, 8, 32, 32)\n",
        "    self.fire3 = FireModule(64, 8, 48, 48)\n",
        "\n",
        "    self.proj2to3 = nn.Conv2d(in_channels=64, out_channels=96, kernel_size=1, stride=1, padding=0)\n",
        "\n",
        "    self.fire4 = nn.Sequential(\n",
        "        FireModule(96, 16, 48, 48),\n",
        "        nn.MaxPool2d(kernel_size=2, stride=2)\n",
        "    )\n",
        "    self.fire5 = FireModule(96, 16, 64, 64)\n",
        "\n",
        "    self.proj4to5 = nn.Conv2d(in_channels=96, out_channels=128, kernel_size=1, stride=1, padding=0)\n",
        "\n",
        "\n",
        "    self.fire6 = nn.Sequential(\n",
        "        FireModule(128, 32, 128, 128),\n",
        "        nn.MaxPool2d(kernel_size=2, stride=2)\n",
        "    )\n",
        "\n",
        "    self.fire7 = FireModule(256, 32, 128, 128)\n",
        "\n",
        "    self.proj6to7 = nn.Conv2d(in_channels=256, out_channels=256, kernel_size=1, stride=1, padding=0)\n",
        "\n",
        "    self.fire8 = FireModule(256, 32, 256, 256)\n",
        "\n",
        "    self.proj8 = nn.Conv2d(in_channels=256, out_channels=512, kernel_size=1)\n",
        "\n",
        "    self.conv8 = nn.Sequential(\n",
        "        nn.Conv2d(in_channels=512, out_channels=512, kernel_size=3, stride=1, padding=1),\n",
        "        nn.BatchNorm2d(num_features=512),\n",
        "        nn.ReLU()\n",
        "    )\n",
        "\n",
        "    self.global_avg_pool = nn.AdaptiveAvgPool2d((1, 1))\n",
        "\n",
        "    self.classifier = nn.Sequential(\n",
        "        nn.Flatten(),\n",
        "        nn.Dropout(0.3),\n",
        "        nn.Linear(in_features=512, out_features=output_shape)\n",
        "    )\n",
        "\n",
        "  def forward(self, x: torch.Tensor) -> torch.Tensor:\n",
        "    x = self.conv1(x)\n",
        "    identity = x\n",
        "\n",
        "    x = self.fire2(x)\n",
        "    x = x + identity\n",
        "\n",
        "    identity = x\n",
        "    identity = self.proj2to3(identity)\n",
        "    x = self.fire3(x)\n",
        "    x = x + identity\n",
        "\n",
        "    x = self.fire4(x)\n",
        "\n",
        "    identity = x\n",
        "    identity = self.proj4to5(identity)\n",
        "    x = self.fire5(x)\n",
        "    x = x + identity\n",
        "\n",
        "    x = self.fire6(x)\n",
        "\n",
        "    identity = x\n",
        "    identity = self.proj6to7(identity)\n",
        "    x = self.fire7(x)\n",
        "    x = x + identity\n",
        "\n",
        "\n",
        "    x = self.proj8(x)\n",
        "    x = self.conv8(x)\n",
        "\n",
        "    x = self.global_avg_pool(x)\n",
        "    x = self.classifier(x)\n",
        "\n",
        "    return x"
      ],
      "metadata": {
        "id": "Fr_oRkRCDUle",
        "trusted": true,
        "execution": {
          "iopub.status.busy": "2025-04-29T07:44:15.076711Z",
          "iopub.execute_input": "2025-04-29T07:44:15.077264Z",
          "iopub.status.idle": "2025-04-29T07:44:15.087291Z",
          "shell.execute_reply.started": "2025-04-29T07:44:15.077239Z",
          "shell.execute_reply": "2025-04-29T07:44:15.086585Z"
        }
      },
      "outputs": [],
      "execution_count": null
    },
    {
      "cell_type": "code",
      "source": [
        "model_2 = Cifar100v3(input_shape=3, output_shape=len(cifar100_train.classes))\n",
        "model_2"
      ],
      "metadata": {
        "id": "QvCbnoY2DUjH",
        "outputId": "71b08d84-d9e9-4ec2-d013-98aa27625dd7",
        "trusted": true,
        "execution": {
          "iopub.status.busy": "2025-04-29T07:44:19.357009Z",
          "iopub.execute_input": "2025-04-29T07:44:19.357566Z",
          "iopub.status.idle": "2025-04-29T07:44:19.397302Z",
          "shell.execute_reply.started": "2025-04-29T07:44:19.357545Z",
          "shell.execute_reply": "2025-04-29T07:44:19.39677Z"
        }
      },
      "outputs": [
        {
          "execution_count": 20,
          "output_type": "execute_result",
          "data": {
            "text/plain": "Cifar100v3(\n  (conv1): Sequential(\n    (0): Conv2d(3, 64, kernel_size=(3, 3), stride=(1, 1), padding=(1, 1))\n    (1): BatchNorm2d(64, eps=1e-05, momentum=0.1, affine=True, track_running_stats=True)\n    (2): ReLU()\n    (3): MaxPool2d(kernel_size=2, stride=2, padding=0, dilation=1, ceil_mode=False)\n  )\n  (fire2): FireModule(\n    (squeeze): Sequential(\n      (0): Conv2d(64, 8, kernel_size=(1, 1), stride=(1, 1))\n      (1): BatchNorm2d(8, eps=1e-05, momentum=0.1, affine=True, track_running_stats=True)\n      (2): ReLU()\n    )\n    (expand1x1): Sequential(\n      (0): Conv2d(8, 32, kernel_size=(1, 1), stride=(1, 1))\n      (1): BatchNorm2d(32, eps=1e-05, momentum=0.1, affine=True, track_running_stats=True)\n      (2): ReLU()\n    )\n    (expand3x3): Sequential(\n      (0): Conv2d(8, 32, kernel_size=(3, 3), stride=(1, 1), padding=(1, 1))\n      (1): BatchNorm2d(32, eps=1e-05, momentum=0.1, affine=True, track_running_stats=True)\n      (2): ReLU()\n    )\n  )\n  (fire3): FireModule(\n    (squeeze): Sequential(\n      (0): Conv2d(64, 8, kernel_size=(1, 1), stride=(1, 1))\n      (1): BatchNorm2d(8, eps=1e-05, momentum=0.1, affine=True, track_running_stats=True)\n      (2): ReLU()\n    )\n    (expand1x1): Sequential(\n      (0): Conv2d(8, 48, kernel_size=(1, 1), stride=(1, 1))\n      (1): BatchNorm2d(48, eps=1e-05, momentum=0.1, affine=True, track_running_stats=True)\n      (2): ReLU()\n    )\n    (expand3x3): Sequential(\n      (0): Conv2d(8, 48, kernel_size=(3, 3), stride=(1, 1), padding=(1, 1))\n      (1): BatchNorm2d(48, eps=1e-05, momentum=0.1, affine=True, track_running_stats=True)\n      (2): ReLU()\n    )\n  )\n  (proj2to3): Conv2d(64, 96, kernel_size=(1, 1), stride=(1, 1))\n  (fire4): Sequential(\n    (0): FireModule(\n      (squeeze): Sequential(\n        (0): Conv2d(96, 16, kernel_size=(1, 1), stride=(1, 1))\n        (1): BatchNorm2d(16, eps=1e-05, momentum=0.1, affine=True, track_running_stats=True)\n        (2): ReLU()\n      )\n      (expand1x1): Sequential(\n        (0): Conv2d(16, 48, kernel_size=(1, 1), stride=(1, 1))\n        (1): BatchNorm2d(48, eps=1e-05, momentum=0.1, affine=True, track_running_stats=True)\n        (2): ReLU()\n      )\n      (expand3x3): Sequential(\n        (0): Conv2d(16, 48, kernel_size=(3, 3), stride=(1, 1), padding=(1, 1))\n        (1): BatchNorm2d(48, eps=1e-05, momentum=0.1, affine=True, track_running_stats=True)\n        (2): ReLU()\n      )\n    )\n    (1): MaxPool2d(kernel_size=2, stride=2, padding=0, dilation=1, ceil_mode=False)\n  )\n  (fire5): FireModule(\n    (squeeze): Sequential(\n      (0): Conv2d(96, 16, kernel_size=(1, 1), stride=(1, 1))\n      (1): BatchNorm2d(16, eps=1e-05, momentum=0.1, affine=True, track_running_stats=True)\n      (2): ReLU()\n    )\n    (expand1x1): Sequential(\n      (0): Conv2d(16, 64, kernel_size=(1, 1), stride=(1, 1))\n      (1): BatchNorm2d(64, eps=1e-05, momentum=0.1, affine=True, track_running_stats=True)\n      (2): ReLU()\n    )\n    (expand3x3): Sequential(\n      (0): Conv2d(16, 64, kernel_size=(3, 3), stride=(1, 1), padding=(1, 1))\n      (1): BatchNorm2d(64, eps=1e-05, momentum=0.1, affine=True, track_running_stats=True)\n      (2): ReLU()\n    )\n  )\n  (proj4to5): Conv2d(96, 128, kernel_size=(1, 1), stride=(1, 1))\n  (fire6): Sequential(\n    (0): FireModule(\n      (squeeze): Sequential(\n        (0): Conv2d(128, 32, kernel_size=(1, 1), stride=(1, 1))\n        (1): BatchNorm2d(32, eps=1e-05, momentum=0.1, affine=True, track_running_stats=True)\n        (2): ReLU()\n      )\n      (expand1x1): Sequential(\n        (0): Conv2d(32, 128, kernel_size=(1, 1), stride=(1, 1))\n        (1): BatchNorm2d(128, eps=1e-05, momentum=0.1, affine=True, track_running_stats=True)\n        (2): ReLU()\n      )\n      (expand3x3): Sequential(\n        (0): Conv2d(32, 128, kernel_size=(3, 3), stride=(1, 1), padding=(1, 1))\n        (1): BatchNorm2d(128, eps=1e-05, momentum=0.1, affine=True, track_running_stats=True)\n        (2): ReLU()\n      )\n    )\n    (1): MaxPool2d(kernel_size=2, stride=2, padding=0, dilation=1, ceil_mode=False)\n  )\n  (fire7): FireModule(\n    (squeeze): Sequential(\n      (0): Conv2d(256, 32, kernel_size=(1, 1), stride=(1, 1))\n      (1): BatchNorm2d(32, eps=1e-05, momentum=0.1, affine=True, track_running_stats=True)\n      (2): ReLU()\n    )\n    (expand1x1): Sequential(\n      (0): Conv2d(32, 128, kernel_size=(1, 1), stride=(1, 1))\n      (1): BatchNorm2d(128, eps=1e-05, momentum=0.1, affine=True, track_running_stats=True)\n      (2): ReLU()\n    )\n    (expand3x3): Sequential(\n      (0): Conv2d(32, 128, kernel_size=(3, 3), stride=(1, 1), padding=(1, 1))\n      (1): BatchNorm2d(128, eps=1e-05, momentum=0.1, affine=True, track_running_stats=True)\n      (2): ReLU()\n    )\n  )\n  (proj6to7): Conv2d(256, 256, kernel_size=(1, 1), stride=(1, 1))\n  (fire8): FireModule(\n    (squeeze): Sequential(\n      (0): Conv2d(256, 32, kernel_size=(1, 1), stride=(1, 1))\n      (1): BatchNorm2d(32, eps=1e-05, momentum=0.1, affine=True, track_running_stats=True)\n      (2): ReLU()\n    )\n    (expand1x1): Sequential(\n      (0): Conv2d(32, 256, kernel_size=(1, 1), stride=(1, 1))\n      (1): BatchNorm2d(256, eps=1e-05, momentum=0.1, affine=True, track_running_stats=True)\n      (2): ReLU()\n    )\n    (expand3x3): Sequential(\n      (0): Conv2d(32, 256, kernel_size=(3, 3), stride=(1, 1), padding=(1, 1))\n      (1): BatchNorm2d(256, eps=1e-05, momentum=0.1, affine=True, track_running_stats=True)\n      (2): ReLU()\n    )\n  )\n  (proj8): Conv2d(256, 512, kernel_size=(1, 1), stride=(1, 1))\n  (conv8): Sequential(\n    (0): Conv2d(512, 512, kernel_size=(3, 3), stride=(1, 1), padding=(1, 1))\n    (1): BatchNorm2d(512, eps=1e-05, momentum=0.1, affine=True, track_running_stats=True)\n    (2): ReLU()\n  )\n  (global_avg_pool): AdaptiveAvgPool2d(output_size=(1, 1))\n  (classifier): Sequential(\n    (0): Flatten(start_dim=1, end_dim=-1)\n    (1): Dropout(p=0.3, inplace=False)\n    (2): Linear(in_features=512, out_features=100, bias=True)\n  )\n)"
          },
          "metadata": {}
        }
      ],
      "execution_count": null
    },
    {
      "cell_type": "code",
      "source": [
        "summary(model=model_2, input_size=(32, 3 , 32, 32), col_names=[\"input_size\", \"output_size\", \"num_params\", \"trainable\"],\n",
        "        col_width=20,\n",
        "        row_settings=[\"var_names\"])"
      ],
      "metadata": {
        "id": "SUGF-2TRDUgh",
        "outputId": "f2584492-2707-4d52-960c-d25f37e06ac0",
        "trusted": true,
        "execution": {
          "iopub.status.busy": "2025-04-29T07:44:22.748123Z",
          "iopub.execute_input": "2025-04-29T07:44:22.74868Z",
          "iopub.status.idle": "2025-04-29T07:44:23.495252Z",
          "shell.execute_reply.started": "2025-04-29T07:44:22.748658Z",
          "shell.execute_reply": "2025-04-29T07:44:23.494437Z"
        }
      },
      "outputs": [
        {
          "execution_count": 21,
          "output_type": "execute_result",
          "data": {
            "text/plain": "=============================================================================================================================\nLayer (type (var_name))                       Input Shape          Output Shape         Param #              Trainable\n=============================================================================================================================\nCifar100v3 (Cifar100v3)                       [32, 3, 32, 32]      [32, 100]            91,744               True\n├─Sequential (conv1)                          [32, 3, 32, 32]      [32, 64, 16, 16]     --                   True\n│    └─Conv2d (0)                             [32, 3, 32, 32]      [32, 64, 32, 32]     1,792                True\n│    └─BatchNorm2d (1)                        [32, 64, 32, 32]     [32, 64, 32, 32]     128                  True\n│    └─ReLU (2)                               [32, 64, 32, 32]     [32, 64, 32, 32]     --                   --\n│    └─MaxPool2d (3)                          [32, 64, 32, 32]     [32, 64, 16, 16]     --                   --\n├─FireModule (fire2)                          [32, 64, 16, 16]     [32, 64, 16, 16]     --                   True\n│    └─Sequential (squeeze)                   [32, 64, 16, 16]     [32, 8, 16, 16]      --                   True\n│    │    └─Conv2d (0)                        [32, 64, 16, 16]     [32, 8, 16, 16]      520                  True\n│    │    └─BatchNorm2d (1)                   [32, 8, 16, 16]      [32, 8, 16, 16]      16                   True\n│    │    └─ReLU (2)                          [32, 8, 16, 16]      [32, 8, 16, 16]      --                   --\n│    └─Sequential (expand1x1)                 [32, 8, 16, 16]      [32, 32, 16, 16]     --                   True\n│    │    └─Conv2d (0)                        [32, 8, 16, 16]      [32, 32, 16, 16]     288                  True\n│    │    └─BatchNorm2d (1)                   [32, 32, 16, 16]     [32, 32, 16, 16]     64                   True\n│    │    └─ReLU (2)                          [32, 32, 16, 16]     [32, 32, 16, 16]     --                   --\n│    └─Sequential (expand3x3)                 [32, 8, 16, 16]      [32, 32, 16, 16]     --                   True\n│    │    └─Conv2d (0)                        [32, 8, 16, 16]      [32, 32, 16, 16]     2,336                True\n│    │    └─BatchNorm2d (1)                   [32, 32, 16, 16]     [32, 32, 16, 16]     64                   True\n│    │    └─ReLU (2)                          [32, 32, 16, 16]     [32, 32, 16, 16]     --                   --\n├─Conv2d (proj2to3)                           [32, 64, 16, 16]     [32, 96, 16, 16]     6,240                True\n├─FireModule (fire3)                          [32, 64, 16, 16]     [32, 96, 16, 16]     --                   True\n│    └─Sequential (squeeze)                   [32, 64, 16, 16]     [32, 8, 16, 16]      --                   True\n│    │    └─Conv2d (0)                        [32, 64, 16, 16]     [32, 8, 16, 16]      520                  True\n│    │    └─BatchNorm2d (1)                   [32, 8, 16, 16]      [32, 8, 16, 16]      16                   True\n│    │    └─ReLU (2)                          [32, 8, 16, 16]      [32, 8, 16, 16]      --                   --\n│    └─Sequential (expand1x1)                 [32, 8, 16, 16]      [32, 48, 16, 16]     --                   True\n│    │    └─Conv2d (0)                        [32, 8, 16, 16]      [32, 48, 16, 16]     432                  True\n│    │    └─BatchNorm2d (1)                   [32, 48, 16, 16]     [32, 48, 16, 16]     96                   True\n│    │    └─ReLU (2)                          [32, 48, 16, 16]     [32, 48, 16, 16]     --                   --\n│    └─Sequential (expand3x3)                 [32, 8, 16, 16]      [32, 48, 16, 16]     --                   True\n│    │    └─Conv2d (0)                        [32, 8, 16, 16]      [32, 48, 16, 16]     3,504                True\n│    │    └─BatchNorm2d (1)                   [32, 48, 16, 16]     [32, 48, 16, 16]     96                   True\n│    │    └─ReLU (2)                          [32, 48, 16, 16]     [32, 48, 16, 16]     --                   --\n├─Sequential (fire4)                          [32, 96, 16, 16]     [32, 96, 8, 8]       --                   True\n│    └─FireModule (0)                         [32, 96, 16, 16]     [32, 96, 16, 16]     --                   True\n│    │    └─Sequential (squeeze)              [32, 96, 16, 16]     [32, 16, 16, 16]     1,584                True\n│    │    └─Sequential (expand1x1)            [32, 16, 16, 16]     [32, 48, 16, 16]     912                  True\n│    │    └─Sequential (expand3x3)            [32, 16, 16, 16]     [32, 48, 16, 16]     7,056                True\n│    └─MaxPool2d (1)                          [32, 96, 16, 16]     [32, 96, 8, 8]       --                   --\n├─Conv2d (proj4to5)                           [32, 96, 8, 8]       [32, 128, 8, 8]      12,416               True\n├─FireModule (fire5)                          [32, 96, 8, 8]       [32, 128, 8, 8]      --                   True\n│    └─Sequential (squeeze)                   [32, 96, 8, 8]       [32, 16, 8, 8]       --                   True\n│    │    └─Conv2d (0)                        [32, 96, 8, 8]       [32, 16, 8, 8]       1,552                True\n│    │    └─BatchNorm2d (1)                   [32, 16, 8, 8]       [32, 16, 8, 8]       32                   True\n│    │    └─ReLU (2)                          [32, 16, 8, 8]       [32, 16, 8, 8]       --                   --\n│    └─Sequential (expand1x1)                 [32, 16, 8, 8]       [32, 64, 8, 8]       --                   True\n│    │    └─Conv2d (0)                        [32, 16, 8, 8]       [32, 64, 8, 8]       1,088                True\n│    │    └─BatchNorm2d (1)                   [32, 64, 8, 8]       [32, 64, 8, 8]       128                  True\n│    │    └─ReLU (2)                          [32, 64, 8, 8]       [32, 64, 8, 8]       --                   --\n│    └─Sequential (expand3x3)                 [32, 16, 8, 8]       [32, 64, 8, 8]       --                   True\n│    │    └─Conv2d (0)                        [32, 16, 8, 8]       [32, 64, 8, 8]       9,280                True\n│    │    └─BatchNorm2d (1)                   [32, 64, 8, 8]       [32, 64, 8, 8]       128                  True\n│    │    └─ReLU (2)                          [32, 64, 8, 8]       [32, 64, 8, 8]       --                   --\n├─Sequential (fire6)                          [32, 128, 8, 8]      [32, 256, 4, 4]      --                   True\n│    └─FireModule (0)                         [32, 128, 8, 8]      [32, 256, 8, 8]      --                   True\n│    │    └─Sequential (squeeze)              [32, 128, 8, 8]      [32, 32, 8, 8]       4,192                True\n│    │    └─Sequential (expand1x1)            [32, 32, 8, 8]       [32, 128, 8, 8]      4,480                True\n│    │    └─Sequential (expand3x3)            [32, 32, 8, 8]       [32, 128, 8, 8]      37,248               True\n│    └─MaxPool2d (1)                          [32, 256, 8, 8]      [32, 256, 4, 4]      --                   --\n├─Conv2d (proj6to7)                           [32, 256, 4, 4]      [32, 256, 4, 4]      65,792               True\n├─FireModule (fire7)                          [32, 256, 4, 4]      [32, 256, 4, 4]      --                   True\n│    └─Sequential (squeeze)                   [32, 256, 4, 4]      [32, 32, 4, 4]       --                   True\n│    │    └─Conv2d (0)                        [32, 256, 4, 4]      [32, 32, 4, 4]       8,224                True\n│    │    └─BatchNorm2d (1)                   [32, 32, 4, 4]       [32, 32, 4, 4]       64                   True\n│    │    └─ReLU (2)                          [32, 32, 4, 4]       [32, 32, 4, 4]       --                   --\n│    └─Sequential (expand1x1)                 [32, 32, 4, 4]       [32, 128, 4, 4]      --                   True\n│    │    └─Conv2d (0)                        [32, 32, 4, 4]       [32, 128, 4, 4]      4,224                True\n│    │    └─BatchNorm2d (1)                   [32, 128, 4, 4]      [32, 128, 4, 4]      256                  True\n│    │    └─ReLU (2)                          [32, 128, 4, 4]      [32, 128, 4, 4]      --                   --\n│    └─Sequential (expand3x3)                 [32, 32, 4, 4]       [32, 128, 4, 4]      --                   True\n│    │    └─Conv2d (0)                        [32, 32, 4, 4]       [32, 128, 4, 4]      36,992               True\n│    │    └─BatchNorm2d (1)                   [32, 128, 4, 4]      [32, 128, 4, 4]      256                  True\n│    │    └─ReLU (2)                          [32, 128, 4, 4]      [32, 128, 4, 4]      --                   --\n├─Conv2d (proj8)                              [32, 256, 4, 4]      [32, 512, 4, 4]      131,584              True\n├─Sequential (conv8)                          [32, 512, 4, 4]      [32, 512, 4, 4]      --                   True\n│    └─Conv2d (0)                             [32, 512, 4, 4]      [32, 512, 4, 4]      2,359,808            True\n│    └─BatchNorm2d (1)                        [32, 512, 4, 4]      [32, 512, 4, 4]      1,024                True\n│    └─ReLU (2)                               [32, 512, 4, 4]      [32, 512, 4, 4]      --                   --\n├─AdaptiveAvgPool2d (global_avg_pool)         [32, 512, 4, 4]      [32, 512, 1, 1]      --                   --\n├─Sequential (classifier)                     [32, 512, 1, 1]      [32, 100]            --                   True\n│    └─Flatten (0)                            [32, 512, 1, 1]      [32, 512]            --                   --\n│    └─Dropout (1)                            [32, 512]            [32, 512]            --                   --\n│    └─Linear (2)                             [32, 512]            [32, 100]            51,300               True\n=============================================================================================================================\nTotal params: 2,847,476\nTrainable params: 2,847,476\nNon-trainable params: 0\nTotal mult-adds (Units.GIGABYTES): 1.73\n=============================================================================================================================\nInput size (MB): 0.39\nForward/backward pass size (MB): 103.57\nParams size (MB): 11.02\nEstimated Total Size (MB): 114.99\n============================================================================================================================="
          },
          "metadata": {}
        }
      ],
      "execution_count": null
    },
    {
      "cell_type": "code",
      "source": [
        "loss2 = nn.CrossEntropyLoss(label_smoothing=0.1)\n",
        "optimizer_2 = torch.optim.AdamW(params=model_2.parameters(), lr=0.01)"
      ],
      "metadata": {
        "id": "NXpyGHsYDUeL",
        "trusted": true,
        "execution": {
          "iopub.status.busy": "2025-04-29T07:44:27.938958Z",
          "iopub.execute_input": "2025-04-29T07:44:27.93922Z",
          "iopub.status.idle": "2025-04-29T07:44:27.943702Z",
          "shell.execute_reply.started": "2025-04-29T07:44:27.939202Z",
          "shell.execute_reply": "2025-04-29T07:44:27.943023Z"
        }
      },
      "outputs": [],
      "execution_count": null
    },
    {
      "cell_type": "code",
      "source": [
        "epochs = 50\n",
        "\n",
        "train_losses, test_losses = [], []\n",
        "train_accs, test_accs = [], []\n",
        "\n",
        "start_train_time_model_2 = time.time()\n",
        "\n",
        "for epoch in tqdm(range(epochs)):\n",
        "  print(f\"Epoch: {epoch}\\n---\")\n",
        "\n",
        "  train_loss, train_acc = model_train(model=model_2,\n",
        "                                      loss_fn=loss2,\n",
        "                                      optimizer_fn=optimizer_2,\n",
        "                                      dataloader=train100_dataloader,\n",
        "                                      device=device,\n",
        "                                      epochs=epochs,\n",
        "                                      accuracy_fn=accuracy_fn)\n",
        "\n",
        "  test_loss, test_acc = model_test(model=model_2,\n",
        "                                   loss_fn=loss2,\n",
        "                                   dataloader=test100_dataloader,\n",
        "                                   device=device,\n",
        "                                   accuracy_fn=accuracy_fn)\n",
        "\n",
        "  train_losses.append(train_loss)\n",
        "  test_losses.append(test_loss)\n",
        "\n",
        "  train_accs.append(train_acc)\n",
        "  test_accs.append(test_acc)\n",
        "stop_train_time_model_2 = time.time()\n",
        "\n",
        "model_2_train_time = print_train_time(start=start_train_time_model_2,\n",
        "                                      end=stop_train_time_model_2,\n",
        "                                      model=model_2,\n",
        "                                      device=device)"
      ],
      "metadata": {
        "id": "rH7iOLt1DUbk",
        "outputId": "934daa2d-4097-4598-8826-65427d201771",
        "trusted": true,
        "execution": {
          "iopub.status.busy": "2025-04-29T07:44:28.252989Z",
          "iopub.execute_input": "2025-04-29T07:44:28.2535Z",
          "iopub.status.idle": "2025-04-29T08:40:16.51061Z",
          "shell.execute_reply.started": "2025-04-29T07:44:28.253478Z",
          "shell.execute_reply": "2025-04-29T08:40:16.509779Z"
        },
        "colab": {
          "referenced_widgets": [
            "b32cf6d764c84c5da5d0d9d3beff0414"
          ]
        }
      },
      "outputs": [
        {
          "output_type": "display_data",
          "data": {
            "text/plain": "  0%|          | 0/50 [00:00<?, ?it/s]",
            "application/vnd.jupyter.widget-view+json": {
              "version_major": 2,
              "version_minor": 0,
              "model_id": "b32cf6d764c84c5da5d0d9d3beff0414"
            }
          },
          "metadata": {}
        },
        {
          "name": "stdout",
          "text": "Epoch: 0\n---\nTrain loss:  4.35544 | Train acc:  4.13%\nTest loss:  4.14915 | Test acc:  7.42%\nEpoch: 1\n---\nTrain loss:  3.99788 | Train acc:  10.34%\nTest loss:  3.85450 | Test acc:  13.64%\nEpoch: 2\n---\nTrain loss:  3.74434 | Train acc:  15.21%\nTest loss:  3.48786 | Test acc:  19.95%\nEpoch: 3\n---\nTrain loss:  3.51597 | Train acc:  20.74%\nTest loss:  3.41219 | Test acc:  23.33%\nEpoch: 4\n---\nTrain loss:  3.37646 | Train acc:  24.22%\nTest loss:  3.18598 | Test acc:  28.87%\nEpoch: 5\n---\nTrain loss:  3.25373 | Train acc:  27.00%\nTest loss:  3.21152 | Test acc:  28.70%\nEpoch: 6\n---\nTrain loss:  3.15262 | Train acc:  29.79%\nTest loss:  3.15527 | Test acc:  31.12%\nEpoch: 7\n---\nTrain loss:  3.07873 | Train acc:  31.68%\nTest loss:  2.91180 | Test acc:  35.83%\nEpoch: 8\n---\nTrain loss:  3.00861 | Train acc:  33.45%\nTest loss:  2.85728 | Test acc:  38.08%\nEpoch: 9\n---\nTrain loss:  2.95148 | Train acc:  34.88%\nTest loss:  2.88562 | Test acc:  37.54%\nEpoch: 10\n---\nTrain loss:  2.90455 | Train acc:  36.39%\nTest loss:  2.78629 | Test acc:  40.48%\nEpoch: 11\n---\nTrain loss:  2.85301 | Train acc:  38.02%\nTest loss:  2.78473 | Test acc:  41.00%\nEpoch: 12\n---\nTrain loss:  2.81260 | Train acc:  39.04%\nTest loss:  2.81321 | Test acc:  39.94%\nEpoch: 13\n---\nTrain loss:  2.77877 | Train acc:  40.05%\nTest loss:  2.63805 | Test acc:  43.92%\nEpoch: 14\n---\nTrain loss:  2.73860 | Train acc:  41.11%\nTest loss:  2.69498 | Test acc:  42.85%\nEpoch: 15\n---\nTrain loss:  2.70654 | Train acc:  42.12%\nTest loss:  2.55966 | Test acc:  45.62%\nEpoch: 16\n---\nTrain loss:  2.67387 | Train acc:  42.69%\nTest loss:  2.59230 | Test acc:  45.65%\nEpoch: 17\n---\nTrain loss:  2.64814 | Train acc:  43.43%\nTest loss:  2.55792 | Test acc:  46.84%\nEpoch: 18\n---\nTrain loss:  2.62300 | Train acc:  44.21%\nTest loss:  2.56716 | Test acc:  46.64%\nEpoch: 19\n---\nTrain loss:  2.59661 | Train acc:  44.90%\nTest loss:  2.50667 | Test acc:  48.02%\nEpoch: 20\n---\nTrain loss:  2.57885 | Train acc:  45.48%\nTest loss:  2.47244 | Test acc:  48.94%\nEpoch: 21\n---\nTrain loss:  2.55334 | Train acc:  46.15%\nTest loss:  2.46173 | Test acc:  49.30%\nEpoch: 22\n---\nTrain loss:  2.53812 | Train acc:  46.89%\nTest loss:  2.49118 | Test acc:  48.84%\nEpoch: 23\n---\nTrain loss:  2.51674 | Train acc:  47.25%\nTest loss:  2.52110 | Test acc:  48.30%\nEpoch: 24\n---\nTrain loss:  2.50119 | Train acc:  47.75%\nTest loss:  2.51587 | Test acc:  48.31%\nEpoch: 25\n---\nTrain loss:  2.48729 | Train acc:  47.97%\nTest loss:  2.46081 | Test acc:  48.97%\nEpoch: 26\n---\nTrain loss:  2.48129 | Train acc:  48.52%\nTest loss:  2.45257 | Test acc:  49.85%\nEpoch: 27\n---\nTrain loss:  2.46057 | Train acc:  49.02%\nTest loss:  2.43417 | Test acc:  50.61%\nEpoch: 28\n---\nTrain loss:  2.45130 | Train acc:  49.39%\nTest loss:  2.40909 | Test acc:  50.39%\nEpoch: 29\n---\nTrain loss:  2.43619 | Train acc:  49.51%\nTest loss:  2.40908 | Test acc:  50.71%\nEpoch: 30\n---\nTrain loss:  2.42255 | Train acc:  49.98%\nTest loss:  2.31950 | Test acc:  53.47%\nEpoch: 31\n---\nTrain loss:  2.41403 | Train acc:  50.63%\nTest loss:  2.39571 | Test acc:  52.01%\nEpoch: 32\n---\nTrain loss:  2.40206 | Train acc:  50.96%\nTest loss:  2.33480 | Test acc:  52.47%\nEpoch: 33\n---\nTrain loss:  2.39501 | Train acc:  50.99%\nTest loss:  2.37572 | Test acc:  52.25%\nEpoch: 34\n---\nTrain loss:  2.38090 | Train acc:  51.40%\nTest loss:  2.36103 | Test acc:  52.75%\nEpoch: 35\n---\nTrain loss:  2.37121 | Train acc:  51.92%\nTest loss:  2.46943 | Test acc:  50.00%\nEpoch: 36\n---\nTrain loss:  2.36801 | Train acc:  51.75%\nTest loss:  2.32062 | Test acc:  53.46%\nEpoch: 37\n---\nTrain loss:  2.35458 | Train acc:  51.98%\nTest loss:  2.29724 | Test acc:  54.92%\nEpoch: 38\n---\nTrain loss:  2.35237 | Train acc:  51.93%\nTest loss:  2.29442 | Test acc:  54.10%\nEpoch: 39\n---\nTrain loss:  2.34193 | Train acc:  52.66%\nTest loss:  2.37412 | Test acc:  53.00%\nEpoch: 40\n---\nTrain loss:  2.33441 | Train acc:  52.84%\nTest loss:  2.30503 | Test acc:  54.19%\nEpoch: 41\n---\nTrain loss:  2.32880 | Train acc:  53.02%\nTest loss:  2.36670 | Test acc:  52.42%\nEpoch: 42\n---\nTrain loss:  2.32588 | Train acc:  52.98%\nTest loss:  2.29069 | Test acc:  54.16%\nEpoch: 43\n---\nTrain loss:  2.32143 | Train acc:  53.35%\nTest loss:  2.31942 | Test acc:  53.59%\nEpoch: 44\n---\nTrain loss:  2.31677 | Train acc:  53.48%\nTest loss:  2.24826 | Test acc:  55.15%\nEpoch: 45\n---\nTrain loss:  2.30788 | Train acc:  53.58%\nTest loss:  2.29090 | Test acc:  55.45%\nEpoch: 46\n---\nTrain loss:  2.30857 | Train acc:  53.51%\nTest loss:  2.32882 | Test acc:  52.95%\nEpoch: 47\n---\nTrain loss:  2.30296 | Train acc:  53.78%\nTest loss:  2.30070 | Test acc:  54.47%\nEpoch: 48\n---\nTrain loss:  2.29317 | Train acc:  54.14%\nTest loss:  2.25114 | Test acc:  56.41%\nEpoch: 49\n---\nTrain loss:  2.28588 | Train acc:  54.29%\nTest loss:  2.28618 | Test acc:  55.11%\nTrain time on cuda: 3348.251222372055\n",
          "output_type": "stream"
        }
      ],
      "execution_count": null
    },
    {
      "cell_type": "code",
      "source": [
        "torch.save(model_2.state_dict(), '/kaggle/working/my_model_2.pth')"
      ],
      "metadata": {
        "trusted": true,
        "execution": {
          "iopub.status.busy": "2025-04-29T08:40:16.512087Z",
          "iopub.execute_input": "2025-04-29T08:40:16.51249Z",
          "iopub.status.idle": "2025-04-29T08:40:16.552891Z",
          "shell.execute_reply.started": "2025-04-29T08:40:16.512471Z",
          "shell.execute_reply": "2025-04-29T08:40:16.552112Z"
        },
        "id": "1LHOd76_xOVr"
      },
      "outputs": [],
      "execution_count": null
    },
    {
      "cell_type": "code",
      "source": [
        "plot_curves(epochs=epochs, metric=\"loss\", metric_arr1=train_losses, metric_arr2=test_losses)"
      ],
      "metadata": {
        "id": "VGXfEgSXDUZU",
        "trusted": true,
        "execution": {
          "iopub.status.busy": "2025-04-29T08:40:16.553652Z",
          "iopub.execute_input": "2025-04-29T08:40:16.553874Z",
          "iopub.status.idle": "2025-04-29T08:40:16.768652Z",
          "shell.execute_reply.started": "2025-04-29T08:40:16.553858Z",
          "shell.execute_reply": "2025-04-29T08:40:16.768006Z"
        },
        "outputId": "e6d15adf-0246-4287-ed07-465f46ef43b1"
      },
      "outputs": [
        {
          "output_type": "display_data",
          "data": {
            "text/plain": "<Figure size 640x480 with 1 Axes>",
            "image/png": "[encoded data removed]"
          },
          "metadata": {}
        }
      ],
      "execution_count": null
    },
    {
      "cell_type": "code",
      "source": [
        "plot_curves(epochs=epochs, metric=\"accuracy\", metric_arr1=train_accs, metric_arr2=test_accs, to_cpu=False)"
      ],
      "metadata": {
        "id": "byv8Skr2gi8J",
        "trusted": true,
        "execution": {
          "iopub.status.busy": "2025-04-29T08:40:16.770257Z",
          "iopub.execute_input": "2025-04-29T08:40:16.770881Z",
          "iopub.status.idle": "2025-04-29T08:40:16.906086Z",
          "shell.execute_reply.started": "2025-04-29T08:40:16.77086Z",
          "shell.execute_reply": "2025-04-29T08:40:16.905283Z"
        },
        "outputId": "9aca0592-a3c6-4a09-bf15-91ebe7bdd30c"
      },
      "outputs": [
        {
          "output_type": "display_data",
          "data": {
            "text/plain": "<Figure size 640x480 with 1 Axes>",
            "image/png": "[encoded data removed]"
          },
          "metadata": {}
        }
      ],
      "execution_count": null
    },
    {
      "cell_type": "code",
      "source": [
        "class ResidualBlock(nn.Module):\n",
        "    def __init__(self, channels: int):\n",
        "        super(ResidualBlock, self).__init__()\n",
        "\n",
        "        self.conv = nn.Sequential(\n",
        "            nn.Conv2d(in_channels=channels, out_channels=channels, kernel_size=1, stride=1, padding=0),\n",
        "            nn.BatchNorm2d(num_features=channels),\n",
        "            nn.ReLU(),\n",
        "            nn.Conv2d(in_channels=channels, out_channels=channels, kernel_size=1, stride=1, padding=0),\n",
        "            nn.BatchNorm2d(num_features=channels)\n",
        "        )\n",
        "\n",
        "        self.relu = nn.ReLU()\n",
        "\n",
        "    def forward(self, x: torch.Tensor) -> torch.Tensor:\n",
        "        out = self.conv(x)\n",
        "        out += x\n",
        "        return self.relu(out)"
      ],
      "metadata": {
        "trusted": true,
        "execution": {
          "iopub.status.busy": "2025-04-29T08:40:16.906915Z",
          "iopub.execute_input": "2025-04-29T08:40:16.907188Z",
          "iopub.status.idle": "2025-04-29T08:40:16.912475Z",
          "shell.execute_reply.started": "2025-04-29T08:40:16.907163Z",
          "shell.execute_reply": "2025-04-29T08:40:16.911774Z"
        },
        "id": "cYyeCbjsxOVr"
      },
      "outputs": [],
      "execution_count": null
    },
    {
      "cell_type": "code",
      "source": [
        "class Cifar100v4(nn.Module):\n",
        "    def __init__(self, input_shape: int, output_shape: int):\n",
        "        super(Cifar100v4, self).__init__()\n",
        "\n",
        "        self.conv1 = nn.Sequential(\n",
        "            nn.Conv2d(in_channels=input_shape, out_channels=96, kernel_size=3, stride=1, padding=1),\n",
        "            nn.BatchNorm2d(num_features=96),\n",
        "            nn.ReLU(),\n",
        "            nn.Conv2d(in_channels=96, out_channels=96, kernel_size=3, stride=1, padding=1),\n",
        "            nn.BatchNorm2d(num_features=96),\n",
        "            nn.ReLU(),\n",
        "            nn.MaxPool2d(kernel_size=2, stride=2)\n",
        "        )\n",
        "\n",
        "        self.stage1 = nn.Sequential(\n",
        "            ResidualBlock(channels=96)\n",
        "        )\n",
        "\n",
        "        self.conv2 = nn.Sequential(\n",
        "            nn.Conv2d(in_channels=96, out_channels=128, kernel_size=3, stride=1, padding=1),\n",
        "            nn.BatchNorm2d(num_features=128),\n",
        "            nn.ReLU(),\n",
        "            nn.Conv2d(in_channels=128, out_channels=256, kernel_size=3, stride=1, padding=1),\n",
        "            nn.BatchNorm2d(num_features=256),\n",
        "            nn.ReLU(),\n",
        "            nn.MaxPool2d(kernel_size=2, stride=2)\n",
        "        )\n",
        "\n",
        "        self.stage2 = nn.Sequential(\n",
        "            ResidualBlock(channels=256)\n",
        "        )\n",
        "\n",
        "\n",
        "        self.conv3 = nn.Sequential(\n",
        "            nn.Conv2d(in_channels=256, out_channels=256, kernel_size=3, stride=1, padding=1),\n",
        "            nn.BatchNorm2d(num_features=256),\n",
        "            nn.ReLU(),\n",
        "            nn.Conv2d(in_channels=256, out_channels=512, kernel_size=3, stride=1, padding=1),\n",
        "            nn.BatchNorm2d(num_features=512),\n",
        "            nn.ReLU(),\n",
        "            nn.MaxPool2d(kernel_size=2, stride=2),\n",
        "            nn.Dropout(p=0.2)\n",
        "        )\n",
        "\n",
        "        # self.stage3 = nn.Sequential(\n",
        "        #     ResidualBlock(channels=384),\n",
        "        #     nn.Dropout(0.5)\n",
        "        # )\n",
        "\n",
        "        # self.conv4 = nn.Sequential(\n",
        "        #     nn.Conv2d(in_channels=384, out_channels=512, kernel_size=3, stride=1, padding=1),\n",
        "        #     nn.BatchNorm2d(num_features=512),\n",
        "        #     nn.ReLU(),\n",
        "        #     nn.Conv2d(in_channels=512, out_channels=512, kernel_size=3, stride=1, padding=1),\n",
        "        #     nn.BatchNorm2d(num_features=512),\n",
        "        #     nn.ReLU(),\n",
        "        #     nn.MaxPool2d(kernel_size=2, stride=2)\n",
        "        # )\n",
        "\n",
        "        self.adp_pool = nn.AdaptiveAvgPool2d((1, 1))\n",
        "\n",
        "        self.classifier = nn.Sequential(\n",
        "            nn.Flatten(),\n",
        "            nn.Dropout(p=0.3),\n",
        "            nn.Linear(in_features=512*16, out_features=output_shape)\n",
        "        )\n",
        "\n",
        "    def forward(self, x: torch.Tensor) -> torch.Tensor:\n",
        "        x = self.conv1(x)\n",
        "        x = self.stage1(x)\n",
        "\n",
        "        x = self.conv2(x)\n",
        "        x = self.stage2(x)\n",
        "\n",
        "        x = self.conv3(x)\n",
        "        # x = self.stage3(x)\n",
        "\n",
        "        # x = self.conv4(x)\n",
        "\n",
        "        # x = self.adp_pool(x)\n",
        "\n",
        "        x = self.classifier(x)\n",
        "        return x\n"
      ],
      "metadata": {
        "id": "7S2ysVZ2gi62",
        "trusted": true,
        "execution": {
          "iopub.status.busy": "2025-04-29T08:40:16.913205Z",
          "iopub.execute_input": "2025-04-29T08:40:16.913391Z",
          "iopub.status.idle": "2025-04-29T08:40:16.931366Z",
          "shell.execute_reply.started": "2025-04-29T08:40:16.913374Z",
          "shell.execute_reply": "2025-04-29T08:40:16.930667Z"
        }
      },
      "outputs": [],
      "execution_count": null
    },
    {
      "cell_type": "code",
      "source": [
        "model_3 = Cifar100v4(input_shape=3, output_shape=len(cifar100_train.classes))\n",
        "# model_3 = nn.DataParallel(model_3, device_ids=[0, 1])\n",
        "model_3"
      ],
      "metadata": {
        "id": "hN9VGaUPgi4h",
        "trusted": true,
        "execution": {
          "iopub.status.busy": "2025-04-29T08:40:16.932186Z",
          "iopub.execute_input": "2025-04-29T08:40:16.932571Z",
          "iopub.status.idle": "2025-04-29T08:40:16.975863Z",
          "shell.execute_reply.started": "2025-04-29T08:40:16.932554Z",
          "shell.execute_reply": "2025-04-29T08:40:16.975144Z"
        },
        "outputId": "afc26310-bcb8-40d4-80dc-02323a914f6f"
      },
      "outputs": [
        {
          "execution_count": 29,
          "output_type": "execute_result",
          "data": {
            "text/plain": "Cifar100v4(\n  (conv1): Sequential(\n    (0): Conv2d(3, 96, kernel_size=(3, 3), stride=(1, 1), padding=(1, 1))\n    (1): BatchNorm2d(96, eps=1e-05, momentum=0.1, affine=True, track_running_stats=True)\n    (2): ReLU()\n    (3): Conv2d(96, 96, kernel_size=(3, 3), stride=(1, 1), padding=(1, 1))\n    (4): BatchNorm2d(96, eps=1e-05, momentum=0.1, affine=True, track_running_stats=True)\n    (5): ReLU()\n    (6): MaxPool2d(kernel_size=2, stride=2, padding=0, dilation=1, ceil_mode=False)\n  )\n  (stage1): Sequential(\n    (0): ResidualBlock(\n      (conv): Sequential(\n        (0): Conv2d(96, 96, kernel_size=(1, 1), stride=(1, 1))\n        (1): BatchNorm2d(96, eps=1e-05, momentum=0.1, affine=True, track_running_stats=True)\n        (2): ReLU()\n        (3): Conv2d(96, 96, kernel_size=(1, 1), stride=(1, 1))\n        (4): BatchNorm2d(96, eps=1e-05, momentum=0.1, affine=True, track_running_stats=True)\n      )\n      (relu): ReLU()\n    )\n  )\n  (conv2): Sequential(\n    (0): Conv2d(96, 128, kernel_size=(3, 3), stride=(1, 1), padding=(1, 1))\n    (1): BatchNorm2d(128, eps=1e-05, momentum=0.1, affine=True, track_running_stats=True)\n    (2): ReLU()\n    (3): Conv2d(128, 256, kernel_size=(3, 3), stride=(1, 1), padding=(1, 1))\n    (4): BatchNorm2d(256, eps=1e-05, momentum=0.1, affine=True, track_running_stats=True)\n    (5): ReLU()\n    (6): MaxPool2d(kernel_size=2, stride=2, padding=0, dilation=1, ceil_mode=False)\n  )\n  (stage2): Sequential(\n    (0): ResidualBlock(\n      (conv): Sequential(\n        (0): Conv2d(256, 256, kernel_size=(1, 1), stride=(1, 1))\n        (1): BatchNorm2d(256, eps=1e-05, momentum=0.1, affine=True, track_running_stats=True)\n        (2): ReLU()\n        (3): Conv2d(256, 256, kernel_size=(1, 1), stride=(1, 1))\n        (4): BatchNorm2d(256, eps=1e-05, momentum=0.1, affine=True, track_running_stats=True)\n      )\n      (relu): ReLU()\n    )\n  )\n  (conv3): Sequential(\n    (0): Conv2d(256, 256, kernel_size=(3, 3), stride=(1, 1), padding=(1, 1))\n    (1): BatchNorm2d(256, eps=1e-05, momentum=0.1, affine=True, track_running_stats=True)\n    (2): ReLU()\n    (3): Conv2d(256, 512, kernel_size=(3, 3), stride=(1, 1), padding=(1, 1))\n    (4): BatchNorm2d(512, eps=1e-05, momentum=0.1, affine=True, track_running_stats=True)\n    (5): ReLU()\n    (6): MaxPool2d(kernel_size=2, stride=2, padding=0, dilation=1, ceil_mode=False)\n    (7): Dropout(p=0.2, inplace=False)\n  )\n  (adp_pool): AdaptiveAvgPool2d(output_size=(1, 1))\n  (classifier): Sequential(\n    (0): Flatten(start_dim=1, end_dim=-1)\n    (1): Dropout(p=0.3, inplace=False)\n    (2): Linear(in_features=8192, out_features=100, bias=True)\n  )\n)"
          },
          "metadata": {}
        }
      ],
      "execution_count": null
    },
    {
      "cell_type": "code",
      "source": [
        "summary(model=model_3, input_size=(32, 3 , 32, 32), col_names=[\"input_size\", \"output_size\", \"num_params\", \"trainable\"],\n",
        "        col_width=20,\n",
        "        row_settings=[\"var_names\"])"
      ],
      "metadata": {
        "id": "esADzDiBgi2R",
        "trusted": true,
        "execution": {
          "iopub.status.busy": "2025-04-29T08:40:16.976591Z",
          "iopub.execute_input": "2025-04-29T08:40:16.976791Z",
          "iopub.status.idle": "2025-04-29T08:40:17.010529Z",
          "shell.execute_reply.started": "2025-04-29T08:40:16.976773Z",
          "shell.execute_reply": "2025-04-29T08:40:17.010019Z"
        },
        "outputId": "c1b5ab6a-f4d9-4675-8575-5efb2cba7ad0"
      },
      "outputs": [
        {
          "execution_count": 30,
          "output_type": "execute_result",
          "data": {
            "text/plain": "========================================================================================================================\nLayer (type (var_name))                  Input Shape          Output Shape         Param #              Trainable\n========================================================================================================================\nCifar100v4 (Cifar100v4)                  [32, 3, 32, 32]      [32, 100]            --                   True\n├─Sequential (conv1)                     [32, 3, 32, 32]      [32, 96, 16, 16]     --                   True\n│    └─Conv2d (0)                        [32, 3, 32, 32]      [32, 96, 32, 32]     2,688                True\n│    └─BatchNorm2d (1)                   [32, 96, 32, 32]     [32, 96, 32, 32]     192                  True\n│    └─ReLU (2)                          [32, 96, 32, 32]     [32, 96, 32, 32]     --                   --\n│    └─Conv2d (3)                        [32, 96, 32, 32]     [32, 96, 32, 32]     83,040               True\n│    └─BatchNorm2d (4)                   [32, 96, 32, 32]     [32, 96, 32, 32]     192                  True\n│    └─ReLU (5)                          [32, 96, 32, 32]     [32, 96, 32, 32]     --                   --\n│    └─MaxPool2d (6)                     [32, 96, 32, 32]     [32, 96, 16, 16]     --                   --\n├─Sequential (stage1)                    [32, 96, 16, 16]     [32, 96, 16, 16]     --                   True\n│    └─ResidualBlock (0)                 [32, 96, 16, 16]     [32, 96, 16, 16]     --                   True\n│    │    └─Sequential (conv)            [32, 96, 16, 16]     [32, 96, 16, 16]     19,008               True\n│    │    └─ReLU (relu)                  [32, 96, 16, 16]     [32, 96, 16, 16]     --                   --\n├─Sequential (conv2)                     [32, 96, 16, 16]     [32, 256, 8, 8]      --                   True\n│    └─Conv2d (0)                        [32, 96, 16, 16]     [32, 128, 16, 16]    110,720              True\n│    └─BatchNorm2d (1)                   [32, 128, 16, 16]    [32, 128, 16, 16]    256                  True\n│    └─ReLU (2)                          [32, 128, 16, 16]    [32, 128, 16, 16]    --                   --\n│    └─Conv2d (3)                        [32, 128, 16, 16]    [32, 256, 16, 16]    295,168              True\n│    └─BatchNorm2d (4)                   [32, 256, 16, 16]    [32, 256, 16, 16]    512                  True\n│    └─ReLU (5)                          [32, 256, 16, 16]    [32, 256, 16, 16]    --                   --\n│    └─MaxPool2d (6)                     [32, 256, 16, 16]    [32, 256, 8, 8]      --                   --\n├─Sequential (stage2)                    [32, 256, 8, 8]      [32, 256, 8, 8]      --                   True\n│    └─ResidualBlock (0)                 [32, 256, 8, 8]      [32, 256, 8, 8]      --                   True\n│    │    └─Sequential (conv)            [32, 256, 8, 8]      [32, 256, 8, 8]      132,608              True\n│    │    └─ReLU (relu)                  [32, 256, 8, 8]      [32, 256, 8, 8]      --                   --\n├─Sequential (conv3)                     [32, 256, 8, 8]      [32, 512, 4, 4]      --                   True\n│    └─Conv2d (0)                        [32, 256, 8, 8]      [32, 256, 8, 8]      590,080              True\n│    └─BatchNorm2d (1)                   [32, 256, 8, 8]      [32, 256, 8, 8]      512                  True\n│    └─ReLU (2)                          [32, 256, 8, 8]      [32, 256, 8, 8]      --                   --\n│    └─Conv2d (3)                        [32, 256, 8, 8]      [32, 512, 8, 8]      1,180,160            True\n│    └─BatchNorm2d (4)                   [32, 512, 8, 8]      [32, 512, 8, 8]      1,024                True\n│    └─ReLU (5)                          [32, 512, 8, 8]      [32, 512, 8, 8]      --                   --\n│    └─MaxPool2d (6)                     [32, 512, 8, 8]      [32, 512, 4, 4]      --                   --\n│    └─Dropout (7)                       [32, 512, 4, 4]      [32, 512, 4, 4]      --                   --\n├─Sequential (classifier)                [32, 512, 4, 4]      [32, 100]            --                   True\n│    └─Flatten (0)                       [32, 512, 4, 4]      [32, 8192]           --                   --\n│    └─Dropout (1)                       [32, 8192]           [32, 8192]           --                   --\n│    └─Linear (2)                        [32, 8192]           [32, 100]            819,300              True\n========================================================================================================================\nTotal params: 3,235,460\nTrainable params: 3,235,460\nNon-trainable params: 0\nTotal mult-adds (Units.GIGABYTES): 10.21\n========================================================================================================================\nInput size (MB): 0.39\nForward/backward pass size (MB): 218.13\nParams size (MB): 12.94\nEstimated Total Size (MB): 231.46\n========================================================================================================================"
          },
          "metadata": {}
        }
      ],
      "execution_count": null
    },
    {
      "cell_type": "code",
      "source": [
        "loss3 = nn.CrossEntropyLoss(label_smoothing=0.1)\n",
        "optimizer3 = torch.optim.AdamW(params=model_3.parameters(),\n",
        "                            lr=0.01)"
      ],
      "metadata": {
        "id": "AVpkhlMWgizX",
        "trusted": true,
        "execution": {
          "iopub.status.busy": "2025-04-29T08:40:17.011112Z",
          "iopub.execute_input": "2025-04-29T08:40:17.011271Z",
          "iopub.status.idle": "2025-04-29T08:40:17.015207Z",
          "shell.execute_reply.started": "2025-04-29T08:40:17.011259Z",
          "shell.execute_reply": "2025-04-29T08:40:17.014532Z"
        }
      },
      "outputs": [],
      "execution_count": null
    },
    {
      "cell_type": "code",
      "source": [
        "epochs = 50\n",
        "\n",
        "train_losses, test_losses = [], []\n",
        "train_accs, test_accs = [], []\n",
        "\n",
        "start_train_time_model_3 = time.time()\n",
        "\n",
        "for epoch in tqdm(range(epochs)):\n",
        "  print(f\"Epoch: {epoch}\\n---\")\n",
        "\n",
        "  train_loss, train_acc = model_train(model=model_3,\n",
        "                                      loss_fn=loss3,\n",
        "                                      optimizer_fn=optimizer3,\n",
        "                                      dataloader=train100_dataloader,\n",
        "                                      device=device,\n",
        "                                      epochs=epochs,\n",
        "                                      accuracy_fn=accuracy_fn)\n",
        "\n",
        "  test_loss, test_acc = model_test(model=model_3,\n",
        "                                   loss_fn=loss3,\n",
        "                                   dataloader=test100_dataloader,\n",
        "                                   device=device,\n",
        "                                   accuracy_fn=accuracy_fn)\n",
        "\n",
        "  train_losses.append(train_loss)\n",
        "  test_losses.append(test_loss)\n",
        "\n",
        "  train_accs.append(train_acc)\n",
        "  test_accs.append(test_acc)\n",
        "stop_train_time_model_3 = time.time()\n",
        "\n",
        "model_3_train_time = print_train_time(start=start_train_time_model_3,\n",
        "                                      end=stop_train_time_model_3,\n",
        "                                      model=model_3,\n",
        "                                      device=device)"
      ],
      "metadata": {
        "trusted": true,
        "execution": {
          "iopub.status.busy": "2025-04-29T08:40:17.017337Z",
          "iopub.execute_input": "2025-04-29T08:40:17.017561Z",
          "iopub.status.idle": "2025-04-29T09:08:29.751541Z",
          "shell.execute_reply.started": "2025-04-29T08:40:17.017529Z",
          "shell.execute_reply": "2025-04-29T09:08:29.750347Z"
        },
        "id": "uchhocCBxOVs",
        "outputId": "cabd5fef-956a-406b-8dd3-4c1db1c9fd06",
        "colab": {
          "referenced_widgets": [
            "36a3c2cb2dc64691a33d1f242adc0d28"
          ]
        }
      },
      "outputs": [
        {
          "output_type": "display_data",
          "data": {
            "text/plain": "  0%|          | 0/50 [00:00<?, ?it/s]",
            "application/vnd.jupyter.widget-view+json": {
              "version_major": 2,
              "version_minor": 0,
              "model_id": "36a3c2cb2dc64691a33d1f242adc0d28"
            }
          },
          "metadata": {}
        },
        {
          "name": "stdout",
          "text": "Epoch: 0\n---\nTrain loss:  4.74491 | Train acc:  3.06%\nTest loss:  4.13053 | Test acc:  8.01%\nEpoch: 1\n---\nTrain loss:  4.11172 | Train acc:  8.64%\nTest loss:  3.74508 | Test acc:  16.75%\nEpoch: 2\n---\nTrain loss:  3.83181 | Train acc:  14.56%\nTest loss:  3.45947 | Test acc:  22.93%\nEpoch: 3\n---\nTrain loss:  3.59304 | Train acc:  19.87%\nTest loss:  3.24439 | Test acc:  28.18%\nEpoch: 4\n---\nTrain loss:  3.35403 | Train acc:  25.19%\nTest loss:  2.99223 | Test acc:  35.61%\nEpoch: 5\n---\nTrain loss:  3.18645 | Train acc:  29.25%\nTest loss:  2.87927 | Test acc:  37.79%\nEpoch: 6\n---\nTrain loss:  3.06256 | Train acc:  32.94%\nTest loss:  2.88102 | Test acc:  37.50%\nEpoch: 7\n---\nTrain loss:  2.97251 | Train acc:  34.97%\nTest loss:  2.67210 | Test acc:  43.64%\nEpoch: 8\n---\nTrain loss:  2.89912 | Train acc:  37.03%\nTest loss:  2.64540 | Test acc:  44.37%\nEpoch: 9\n---\nTrain loss:  2.83698 | Train acc:  38.76%\nTest loss:  2.57281 | Test acc:  46.39%\nEpoch: 10\n---\nTrain loss:  2.79236 | Train acc:  39.96%\nTest loss:  2.59021 | Test acc:  46.18%\nEpoch: 11\n---\nTrain loss:  2.74573 | Train acc:  41.06%\nTest loss:  2.54355 | Test acc:  47.27%\nEpoch: 12\n---\nTrain loss:  2.70217 | Train acc:  42.27%\nTest loss:  2.48755 | Test acc:  48.57%\nEpoch: 13\n---\nTrain loss:  2.67097 | Train acc:  43.44%\nTest loss:  2.47020 | Test acc:  48.90%\nEpoch: 14\n---\nTrain loss:  2.64468 | Train acc:  44.20%\nTest loss:  2.44312 | Test acc:  49.95%\nEpoch: 15\n---\nTrain loss:  2.61093 | Train acc:  45.02%\nTest loss:  2.41073 | Test acc:  50.65%\nEpoch: 16\n---\nTrain loss:  2.58707 | Train acc:  45.78%\nTest loss:  2.39143 | Test acc:  51.26%\nEpoch: 17\n---\nTrain loss:  2.56879 | Train acc:  46.58%\nTest loss:  2.37341 | Test acc:  52.72%\nEpoch: 18\n---\nTrain loss:  2.54378 | Train acc:  47.11%\nTest loss:  2.36915 | Test acc:  52.18%\nEpoch: 19\n---\nTrain loss:  2.53257 | Train acc:  47.65%\nTest loss:  2.36978 | Test acc:  52.20%\nEpoch: 20\n---\nTrain loss:  2.50749 | Train acc:  48.34%\nTest loss:  2.30931 | Test acc:  54.07%\nEpoch: 21\n---\nTrain loss:  2.49133 | Train acc:  48.80%\nTest loss:  2.35878 | Test acc:  53.11%\nEpoch: 22\n---\nTrain loss:  2.47644 | Train acc:  49.15%\nTest loss:  2.29919 | Test acc:  54.53%\nEpoch: 23\n---\nTrain loss:  2.46601 | Train acc:  49.49%\nTest loss:  2.34434 | Test acc:  53.07%\nEpoch: 24\n---\nTrain loss:  2.44817 | Train acc:  49.95%\nTest loss:  2.27032 | Test acc:  54.98%\nEpoch: 25\n---\nTrain loss:  2.43719 | Train acc:  50.32%\nTest loss:  2.34977 | Test acc:  52.83%\nEpoch: 26\n---\n",
          "output_type": "stream"
        },
        {
          "traceback": [
            "\u001b[0;31m---------------------------------------------------------------------------\u001b[0m",
            "\u001b[0;31mKeyboardInterrupt\u001b[0m                         Traceback (most recent call last)",
            "\u001b[0;32m/tmp/ipykernel_31/533582450.py\u001b[0m in \u001b[0;36m<cell line: 0>\u001b[0;34m()\u001b[0m\n\u001b[1;32m      9\u001b[0m   \u001b[0mprint\u001b[0m\u001b[0;34m(\u001b[0m\u001b[0;34mf\"Epoch: {epoch}\\n---\"\u001b[0m\u001b[0;34m)\u001b[0m\u001b[0;34m\u001b[0m\u001b[0;34m\u001b[0m\u001b[0m\n\u001b[1;32m     10\u001b[0m \u001b[0;34m\u001b[0m\u001b[0m\n\u001b[0;32m---> 11\u001b[0;31m   train_loss, train_acc = model_train(model=model_3,\n\u001b[0m\u001b[1;32m     12\u001b[0m                                       \u001b[0mloss_fn\u001b[0m\u001b[0;34m=\u001b[0m\u001b[0mloss3\u001b[0m\u001b[0;34m,\u001b[0m\u001b[0;34m\u001b[0m\u001b[0;34m\u001b[0m\u001b[0m\n\u001b[1;32m     13\u001b[0m                                       \u001b[0moptimizer_fn\u001b[0m\u001b[0;34m=\u001b[0m\u001b[0moptimizer3\u001b[0m\u001b[0;34m,\u001b[0m\u001b[0;34m\u001b[0m\u001b[0;34m\u001b[0m\u001b[0m\n",
            "\u001b[0;32m/tmp/ipykernel_31/2353258445.py\u001b[0m in \u001b[0;36mmodel_train\u001b[0;34m(model, loss_fn, optimizer_fn, dataloader, device, epochs, accuracy_fn)\u001b[0m\n\u001b[1;32m     25\u001b[0m     )\n\u001b[1;32m     26\u001b[0m \u001b[0;34m\u001b[0m\u001b[0m\n\u001b[0;32m---> 27\u001b[0;31m   \u001b[0;32mfor\u001b[0m \u001b[0mbatch\u001b[0m\u001b[0;34m,\u001b[0m \u001b[0;34m(\u001b[0m\u001b[0mX\u001b[0m\u001b[0;34m,\u001b[0m \u001b[0my\u001b[0m\u001b[0;34m)\u001b[0m \u001b[0;32min\u001b[0m \u001b[0menumerate\u001b[0m\u001b[0;34m(\u001b[0m\u001b[0mdataloader\u001b[0m\u001b[0;34m)\u001b[0m\u001b[0;34m:\u001b[0m\u001b[0;34m\u001b[0m\u001b[0;34m\u001b[0m\u001b[0m\n\u001b[0m\u001b[1;32m     28\u001b[0m     \u001b[0mX\u001b[0m\u001b[0;34m,\u001b[0m \u001b[0my\u001b[0m \u001b[0;34m=\u001b[0m \u001b[0mX\u001b[0m\u001b[0;34m.\u001b[0m\u001b[0mto\u001b[0m\u001b[0;34m(\u001b[0m\u001b[0mdevice\u001b[0m\u001b[0;34m)\u001b[0m\u001b[0;34m,\u001b[0m \u001b[0my\u001b[0m\u001b[0;34m.\u001b[0m\u001b[0mto\u001b[0m\u001b[0;34m(\u001b[0m\u001b[0mdevice\u001b[0m\u001b[0;34m)\u001b[0m\u001b[0;34m\u001b[0m\u001b[0;34m\u001b[0m\u001b[0m\n\u001b[1;32m     29\u001b[0m \u001b[0;34m\u001b[0m\u001b[0m\n",
            "\u001b[0;32m/usr/local/lib/python3.11/dist-packages/torch/utils/data/dataloader.py\u001b[0m in \u001b[0;36m__next__\u001b[0;34m(self)\u001b[0m\n\u001b[1;32m    699\u001b[0m                 \u001b[0;31m# TODO(https://github.com/pytorch/pytorch/issues/76750)\u001b[0m\u001b[0;34m\u001b[0m\u001b[0;34m\u001b[0m\u001b[0m\n\u001b[1;32m    700\u001b[0m                 \u001b[0mself\u001b[0m\u001b[0;34m.\u001b[0m\u001b[0m_reset\u001b[0m\u001b[0;34m(\u001b[0m\u001b[0;34m)\u001b[0m  \u001b[0;31m# type: ignore[call-arg]\u001b[0m\u001b[0;34m\u001b[0m\u001b[0;34m\u001b[0m\u001b[0m\n\u001b[0;32m--> 701\u001b[0;31m             \u001b[0mdata\u001b[0m \u001b[0;34m=\u001b[0m \u001b[0mself\u001b[0m\u001b[0;34m.\u001b[0m\u001b[0m_next_data\u001b[0m\u001b[0;34m(\u001b[0m\u001b[0;34m)\u001b[0m\u001b[0;34m\u001b[0m\u001b[0;34m\u001b[0m\u001b[0m\n\u001b[0m\u001b[1;32m    702\u001b[0m             \u001b[0mself\u001b[0m\u001b[0;34m.\u001b[0m\u001b[0m_num_yielded\u001b[0m \u001b[0;34m+=\u001b[0m \u001b[0;36m1\u001b[0m\u001b[0;34m\u001b[0m\u001b[0;34m\u001b[0m\u001b[0m\n\u001b[1;32m    703\u001b[0m             if (\n",
            "\u001b[0;32m/usr/local/lib/python3.11/dist-packages/torch/utils/data/dataloader.py\u001b[0m in \u001b[0;36m_next_data\u001b[0;34m(self)\u001b[0m\n\u001b[1;32m    755\u001b[0m     \u001b[0;32mdef\u001b[0m \u001b[0m_next_data\u001b[0m\u001b[0;34m(\u001b[0m\u001b[0mself\u001b[0m\u001b[0;34m)\u001b[0m\u001b[0;34m:\u001b[0m\u001b[0;34m\u001b[0m\u001b[0;34m\u001b[0m\u001b[0m\n\u001b[1;32m    756\u001b[0m         \u001b[0mindex\u001b[0m \u001b[0;34m=\u001b[0m \u001b[0mself\u001b[0m\u001b[0;34m.\u001b[0m\u001b[0m_next_index\u001b[0m\u001b[0;34m(\u001b[0m\u001b[0;34m)\u001b[0m  \u001b[0;31m# may raise StopIteration\u001b[0m\u001b[0;34m\u001b[0m\u001b[0;34m\u001b[0m\u001b[0m\n\u001b[0;32m--> 757\u001b[0;31m         \u001b[0mdata\u001b[0m \u001b[0;34m=\u001b[0m \u001b[0mself\u001b[0m\u001b[0;34m.\u001b[0m\u001b[0m_dataset_fetcher\u001b[0m\u001b[0;34m.\u001b[0m\u001b[0mfetch\u001b[0m\u001b[0;34m(\u001b[0m\u001b[0mindex\u001b[0m\u001b[0;34m)\u001b[0m  \u001b[0;31m# may raise StopIteration\u001b[0m\u001b[0;34m\u001b[0m\u001b[0;34m\u001b[0m\u001b[0m\n\u001b[0m\u001b[1;32m    758\u001b[0m         \u001b[0;32mif\u001b[0m \u001b[0mself\u001b[0m\u001b[0;34m.\u001b[0m\u001b[0m_pin_memory\u001b[0m\u001b[0;34m:\u001b[0m\u001b[0;34m\u001b[0m\u001b[0;34m\u001b[0m\u001b[0m\n\u001b[1;32m    759\u001b[0m             \u001b[0mdata\u001b[0m \u001b[0;34m=\u001b[0m \u001b[0m_utils\u001b[0m\u001b[0;34m.\u001b[0m\u001b[0mpin_memory\u001b[0m\u001b[0;34m.\u001b[0m\u001b[0mpin_memory\u001b[0m\u001b[0;34m(\u001b[0m\u001b[0mdata\u001b[0m\u001b[0;34m,\u001b[0m \u001b[0mself\u001b[0m\u001b[0;34m.\u001b[0m\u001b[0m_pin_memory_device\u001b[0m\u001b[0;34m)\u001b[0m\u001b[0;34m\u001b[0m\u001b[0;34m\u001b[0m\u001b[0m\n",
            "\u001b[0;32m/usr/local/lib/python3.11/dist-packages/torch/utils/data/_utils/fetch.py\u001b[0m in \u001b[0;36mfetch\u001b[0;34m(self, possibly_batched_index)\u001b[0m\n\u001b[1;32m     50\u001b[0m                 \u001b[0mdata\u001b[0m \u001b[0;34m=\u001b[0m \u001b[0mself\u001b[0m\u001b[0;34m.\u001b[0m\u001b[0mdataset\u001b[0m\u001b[0;34m.\u001b[0m\u001b[0m__getitems__\u001b[0m\u001b[0;34m(\u001b[0m\u001b[0mpossibly_batched_index\u001b[0m\u001b[0;34m)\u001b[0m\u001b[0;34m\u001b[0m\u001b[0;34m\u001b[0m\u001b[0m\n\u001b[1;32m     51\u001b[0m             \u001b[0;32melse\u001b[0m\u001b[0;34m:\u001b[0m\u001b[0;34m\u001b[0m\u001b[0;34m\u001b[0m\u001b[0m\n\u001b[0;32m---> 52\u001b[0;31m                 \u001b[0mdata\u001b[0m \u001b[0;34m=\u001b[0m \u001b[0;34m[\u001b[0m\u001b[0mself\u001b[0m\u001b[0;34m.\u001b[0m\u001b[0mdataset\u001b[0m\u001b[0;34m[\u001b[0m\u001b[0midx\u001b[0m\u001b[0;34m]\u001b[0m \u001b[0;32mfor\u001b[0m \u001b[0midx\u001b[0m \u001b[0;32min\u001b[0m \u001b[0mpossibly_batched_index\u001b[0m\u001b[0;34m]\u001b[0m\u001b[0;34m\u001b[0m\u001b[0;34m\u001b[0m\u001b[0m\n\u001b[0m\u001b[1;32m     53\u001b[0m         \u001b[0;32melse\u001b[0m\u001b[0;34m:\u001b[0m\u001b[0;34m\u001b[0m\u001b[0;34m\u001b[0m\u001b[0m\n\u001b[1;32m     54\u001b[0m             \u001b[0mdata\u001b[0m \u001b[0;34m=\u001b[0m \u001b[0mself\u001b[0m\u001b[0;34m.\u001b[0m\u001b[0mdataset\u001b[0m\u001b[0;34m[\u001b[0m\u001b[0mpossibly_batched_index\u001b[0m\u001b[0;34m]\u001b[0m\u001b[0;34m\u001b[0m\u001b[0;34m\u001b[0m\u001b[0m\n",
            "\u001b[0;32m/usr/local/lib/python3.11/dist-packages/torch/utils/data/_utils/fetch.py\u001b[0m in \u001b[0;36m<listcomp>\u001b[0;34m(.0)\u001b[0m\n\u001b[1;32m     50\u001b[0m                 \u001b[0mdata\u001b[0m \u001b[0;34m=\u001b[0m \u001b[0mself\u001b[0m\u001b[0;34m.\u001b[0m\u001b[0mdataset\u001b[0m\u001b[0;34m.\u001b[0m\u001b[0m__getitems__\u001b[0m\u001b[0;34m(\u001b[0m\u001b[0mpossibly_batched_index\u001b[0m\u001b[0;34m)\u001b[0m\u001b[0;34m\u001b[0m\u001b[0;34m\u001b[0m\u001b[0m\n\u001b[1;32m     51\u001b[0m             \u001b[0;32melse\u001b[0m\u001b[0;34m:\u001b[0m\u001b[0;34m\u001b[0m\u001b[0;34m\u001b[0m\u001b[0m\n\u001b[0;32m---> 52\u001b[0;31m                 \u001b[0mdata\u001b[0m \u001b[0;34m=\u001b[0m \u001b[0;34m[\u001b[0m\u001b[0mself\u001b[0m\u001b[0;34m.\u001b[0m\u001b[0mdataset\u001b[0m\u001b[0;34m[\u001b[0m\u001b[0midx\u001b[0m\u001b[0;34m]\u001b[0m \u001b[0;32mfor\u001b[0m \u001b[0midx\u001b[0m \u001b[0;32min\u001b[0m \u001b[0mpossibly_batched_index\u001b[0m\u001b[0;34m]\u001b[0m\u001b[0;34m\u001b[0m\u001b[0;34m\u001b[0m\u001b[0m\n\u001b[0m\u001b[1;32m     53\u001b[0m         \u001b[0;32melse\u001b[0m\u001b[0;34m:\u001b[0m\u001b[0;34m\u001b[0m\u001b[0;34m\u001b[0m\u001b[0m\n\u001b[1;32m     54\u001b[0m             \u001b[0mdata\u001b[0m \u001b[0;34m=\u001b[0m \u001b[0mself\u001b[0m\u001b[0;34m.\u001b[0m\u001b[0mdataset\u001b[0m\u001b[0;34m[\u001b[0m\u001b[0mpossibly_batched_index\u001b[0m\u001b[0;34m]\u001b[0m\u001b[0;34m\u001b[0m\u001b[0;34m\u001b[0m\u001b[0m\n",
            "\u001b[0;32m/usr/local/lib/python3.11/dist-packages/torchvision/datasets/cifar.py\u001b[0m in \u001b[0;36m__getitem__\u001b[0;34m(self, index)\u001b[0m\n\u001b[1;32m    117\u001b[0m \u001b[0;34m\u001b[0m\u001b[0m\n\u001b[1;32m    118\u001b[0m         \u001b[0;32mif\u001b[0m \u001b[0mself\u001b[0m\u001b[0;34m.\u001b[0m\u001b[0mtransform\u001b[0m \u001b[0;32mis\u001b[0m \u001b[0;32mnot\u001b[0m \u001b[0;32mNone\u001b[0m\u001b[0;34m:\u001b[0m\u001b[0;34m\u001b[0m\u001b[0;34m\u001b[0m\u001b[0m\n\u001b[0;32m--> 119\u001b[0;31m             \u001b[0mimg\u001b[0m \u001b[0;34m=\u001b[0m \u001b[0mself\u001b[0m\u001b[0;34m.\u001b[0m\u001b[0mtransform\u001b[0m\u001b[0;34m(\u001b[0m\u001b[0mimg\u001b[0m\u001b[0;34m)\u001b[0m\u001b[0;34m\u001b[0m\u001b[0;34m\u001b[0m\u001b[0m\n\u001b[0m\u001b[1;32m    120\u001b[0m \u001b[0;34m\u001b[0m\u001b[0m\n\u001b[1;32m    121\u001b[0m         \u001b[0;32mif\u001b[0m \u001b[0mself\u001b[0m\u001b[0;34m.\u001b[0m\u001b[0mtarget_transform\u001b[0m \u001b[0;32mis\u001b[0m \u001b[0;32mnot\u001b[0m \u001b[0;32mNone\u001b[0m\u001b[0;34m:\u001b[0m\u001b[0;34m\u001b[0m\u001b[0;34m\u001b[0m\u001b[0m\n",
            "\u001b[0;32m/usr/local/lib/python3.11/dist-packages/torchvision/transforms/transforms.py\u001b[0m in \u001b[0;36m__call__\u001b[0;34m(self, img)\u001b[0m\n\u001b[1;32m     93\u001b[0m     \u001b[0;32mdef\u001b[0m \u001b[0m__call__\u001b[0m\u001b[0;34m(\u001b[0m\u001b[0mself\u001b[0m\u001b[0;34m,\u001b[0m \u001b[0mimg\u001b[0m\u001b[0;34m)\u001b[0m\u001b[0;34m:\u001b[0m\u001b[0;34m\u001b[0m\u001b[0;34m\u001b[0m\u001b[0m\n\u001b[1;32m     94\u001b[0m         \u001b[0;32mfor\u001b[0m \u001b[0mt\u001b[0m \u001b[0;32min\u001b[0m \u001b[0mself\u001b[0m\u001b[0;34m.\u001b[0m\u001b[0mtransforms\u001b[0m\u001b[0;34m:\u001b[0m\u001b[0;34m\u001b[0m\u001b[0;34m\u001b[0m\u001b[0m\n\u001b[0;32m---> 95\u001b[0;31m             \u001b[0mimg\u001b[0m \u001b[0;34m=\u001b[0m \u001b[0mt\u001b[0m\u001b[0;34m(\u001b[0m\u001b[0mimg\u001b[0m\u001b[0;34m)\u001b[0m\u001b[0;34m\u001b[0m\u001b[0;34m\u001b[0m\u001b[0m\n\u001b[0m\u001b[1;32m     96\u001b[0m         \u001b[0;32mreturn\u001b[0m \u001b[0mimg\u001b[0m\u001b[0;34m\u001b[0m\u001b[0;34m\u001b[0m\u001b[0m\n\u001b[1;32m     97\u001b[0m \u001b[0;34m\u001b[0m\u001b[0m\n",
            "\u001b[0;32m/usr/local/lib/python3.11/dist-packages/torch/nn/modules/module.py\u001b[0m in \u001b[0;36m_wrapped_call_impl\u001b[0;34m(self, *args, **kwargs)\u001b[0m\n\u001b[1;32m   1734\u001b[0m             \u001b[0;32mreturn\u001b[0m \u001b[0mself\u001b[0m\u001b[0;34m.\u001b[0m\u001b[0m_compiled_call_impl\u001b[0m\u001b[0;34m(\u001b[0m\u001b[0;34m*\u001b[0m\u001b[0margs\u001b[0m\u001b[0;34m,\u001b[0m \u001b[0;34m**\u001b[0m\u001b[0mkwargs\u001b[0m\u001b[0;34m)\u001b[0m  \u001b[0;31m# type: ignore[misc]\u001b[0m\u001b[0;34m\u001b[0m\u001b[0;34m\u001b[0m\u001b[0m\n\u001b[1;32m   1735\u001b[0m         \u001b[0;32melse\u001b[0m\u001b[0;34m:\u001b[0m\u001b[0;34m\u001b[0m\u001b[0;34m\u001b[0m\u001b[0m\n\u001b[0;32m-> 1736\u001b[0;31m             \u001b[0;32mreturn\u001b[0m \u001b[0mself\u001b[0m\u001b[0;34m.\u001b[0m\u001b[0m_call_impl\u001b[0m\u001b[0;34m(\u001b[0m\u001b[0;34m*\u001b[0m\u001b[0margs\u001b[0m\u001b[0;34m,\u001b[0m \u001b[0;34m**\u001b[0m\u001b[0mkwargs\u001b[0m\u001b[0;34m)\u001b[0m\u001b[0;34m\u001b[0m\u001b[0;34m\u001b[0m\u001b[0m\n\u001b[0m\u001b[1;32m   1737\u001b[0m \u001b[0;34m\u001b[0m\u001b[0m\n\u001b[1;32m   1738\u001b[0m     \u001b[0;31m# torchrec tests the code consistency with the following code\u001b[0m\u001b[0;34m\u001b[0m\u001b[0;34m\u001b[0m\u001b[0m\n",
            "\u001b[0;32m/usr/local/lib/python3.11/dist-packages/torch/nn/modules/module.py\u001b[0m in \u001b[0;36m_call_impl\u001b[0;34m(self, *args, **kwargs)\u001b[0m\n\u001b[1;32m   1745\u001b[0m                 \u001b[0;32mor\u001b[0m \u001b[0m_global_backward_pre_hooks\u001b[0m \u001b[0;32mor\u001b[0m \u001b[0m_global_backward_hooks\u001b[0m\u001b[0;34m\u001b[0m\u001b[0;34m\u001b[0m\u001b[0m\n\u001b[1;32m   1746\u001b[0m                 or _global_forward_hooks or _global_forward_pre_hooks):\n\u001b[0;32m-> 1747\u001b[0;31m             \u001b[0;32mreturn\u001b[0m \u001b[0mforward_call\u001b[0m\u001b[0;34m(\u001b[0m\u001b[0;34m*\u001b[0m\u001b[0margs\u001b[0m\u001b[0;34m,\u001b[0m \u001b[0;34m**\u001b[0m\u001b[0mkwargs\u001b[0m\u001b[0;34m)\u001b[0m\u001b[0;34m\u001b[0m\u001b[0;34m\u001b[0m\u001b[0m\n\u001b[0m\u001b[1;32m   1748\u001b[0m \u001b[0;34m\u001b[0m\u001b[0m\n\u001b[1;32m   1749\u001b[0m         \u001b[0mresult\u001b[0m \u001b[0;34m=\u001b[0m \u001b[0;32mNone\u001b[0m\u001b[0;34m\u001b[0m\u001b[0;34m\u001b[0m\u001b[0m\n",
            "\u001b[0;32m/usr/local/lib/python3.11/dist-packages/torchvision/transforms/transforms.py\u001b[0m in \u001b[0;36mforward\u001b[0;34m(self, img)\u001b[0m\n\u001b[1;32m   1278\u001b[0m                 \u001b[0mimg\u001b[0m \u001b[0;34m=\u001b[0m \u001b[0mF\u001b[0m\u001b[0;34m.\u001b[0m\u001b[0madjust_saturation\u001b[0m\u001b[0;34m(\u001b[0m\u001b[0mimg\u001b[0m\u001b[0;34m,\u001b[0m \u001b[0msaturation_factor\u001b[0m\u001b[0;34m)\u001b[0m\u001b[0;34m\u001b[0m\u001b[0;34m\u001b[0m\u001b[0m\n\u001b[1;32m   1279\u001b[0m             \u001b[0;32melif\u001b[0m \u001b[0mfn_id\u001b[0m \u001b[0;34m==\u001b[0m \u001b[0;36m3\u001b[0m \u001b[0;32mand\u001b[0m \u001b[0mhue_factor\u001b[0m \u001b[0;32mis\u001b[0m \u001b[0;32mnot\u001b[0m \u001b[0;32mNone\u001b[0m\u001b[0;34m:\u001b[0m\u001b[0;34m\u001b[0m\u001b[0;34m\u001b[0m\u001b[0m\n\u001b[0;32m-> 1280\u001b[0;31m                 \u001b[0mimg\u001b[0m \u001b[0;34m=\u001b[0m \u001b[0mF\u001b[0m\u001b[0;34m.\u001b[0m\u001b[0madjust_hue\u001b[0m\u001b[0;34m(\u001b[0m\u001b[0mimg\u001b[0m\u001b[0;34m,\u001b[0m \u001b[0mhue_factor\u001b[0m\u001b[0;34m)\u001b[0m\u001b[0;34m\u001b[0m\u001b[0;34m\u001b[0m\u001b[0m\n\u001b[0m\u001b[1;32m   1281\u001b[0m \u001b[0;34m\u001b[0m\u001b[0m\n\u001b[1;32m   1282\u001b[0m         \u001b[0;32mreturn\u001b[0m \u001b[0mimg\u001b[0m\u001b[0;34m\u001b[0m\u001b[0;34m\u001b[0m\u001b[0m\n",
            "\u001b[0;32m/usr/local/lib/python3.11/dist-packages/torchvision/transforms/functional.py\u001b[0m in \u001b[0;36madjust_hue\u001b[0;34m(img, hue_factor)\u001b[0m\n\u001b[1;32m    966\u001b[0m         \u001b[0m_log_api_usage_once\u001b[0m\u001b[0;34m(\u001b[0m\u001b[0madjust_hue\u001b[0m\u001b[0;34m)\u001b[0m\u001b[0;34m\u001b[0m\u001b[0;34m\u001b[0m\u001b[0m\n\u001b[1;32m    967\u001b[0m     \u001b[0;32mif\u001b[0m \u001b[0;32mnot\u001b[0m \u001b[0misinstance\u001b[0m\u001b[0;34m(\u001b[0m\u001b[0mimg\u001b[0m\u001b[0;34m,\u001b[0m \u001b[0mtorch\u001b[0m\u001b[0;34m.\u001b[0m\u001b[0mTensor\u001b[0m\u001b[0;34m)\u001b[0m\u001b[0;34m:\u001b[0m\u001b[0;34m\u001b[0m\u001b[0;34m\u001b[0m\u001b[0m\n\u001b[0;32m--> 968\u001b[0;31m         \u001b[0;32mreturn\u001b[0m \u001b[0mF_pil\u001b[0m\u001b[0;34m.\u001b[0m\u001b[0madjust_hue\u001b[0m\u001b[0;34m(\u001b[0m\u001b[0mimg\u001b[0m\u001b[0;34m,\u001b[0m \u001b[0mhue_factor\u001b[0m\u001b[0;34m)\u001b[0m\u001b[0;34m\u001b[0m\u001b[0;34m\u001b[0m\u001b[0m\n\u001b[0m\u001b[1;32m    969\u001b[0m \u001b[0;34m\u001b[0m\u001b[0m\n\u001b[1;32m    970\u001b[0m     \u001b[0;32mreturn\u001b[0m \u001b[0mF_t\u001b[0m\u001b[0;34m.\u001b[0m\u001b[0madjust_hue\u001b[0m\u001b[0;34m(\u001b[0m\u001b[0mimg\u001b[0m\u001b[0;34m,\u001b[0m \u001b[0mhue_factor\u001b[0m\u001b[0;34m)\u001b[0m\u001b[0;34m\u001b[0m\u001b[0;34m\u001b[0m\u001b[0m\n",
            "\u001b[0;32m/usr/local/lib/python3.11/dist-packages/torchvision/transforms/_functional_pil.py\u001b[0m in \u001b[0;36madjust_hue\u001b[0;34m(img, hue_factor)\u001b[0m\n\u001b[1;32m    115\u001b[0m     \u001b[0mh\u001b[0m \u001b[0;34m=\u001b[0m \u001b[0mImage\u001b[0m\u001b[0;34m.\u001b[0m\u001b[0mfromarray\u001b[0m\u001b[0;34m(\u001b[0m\u001b[0mnp_h\u001b[0m\u001b[0;34m,\u001b[0m \u001b[0;34m\"L\"\u001b[0m\u001b[0;34m)\u001b[0m\u001b[0;34m\u001b[0m\u001b[0;34m\u001b[0m\u001b[0m\n\u001b[1;32m    116\u001b[0m \u001b[0;34m\u001b[0m\u001b[0m\n\u001b[0;32m--> 117\u001b[0;31m     \u001b[0mimg\u001b[0m \u001b[0;34m=\u001b[0m \u001b[0mImage\u001b[0m\u001b[0;34m.\u001b[0m\u001b[0mmerge\u001b[0m\u001b[0;34m(\u001b[0m\u001b[0;34m\"HSV\"\u001b[0m\u001b[0;34m,\u001b[0m \u001b[0;34m(\u001b[0m\u001b[0mh\u001b[0m\u001b[0;34m,\u001b[0m \u001b[0ms\u001b[0m\u001b[0;34m,\u001b[0m \u001b[0mv\u001b[0m\u001b[0;34m)\u001b[0m\u001b[0;34m)\u001b[0m\u001b[0;34m.\u001b[0m\u001b[0mconvert\u001b[0m\u001b[0;34m(\u001b[0m\u001b[0minput_mode\u001b[0m\u001b[0;34m)\u001b[0m\u001b[0;34m\u001b[0m\u001b[0;34m\u001b[0m\u001b[0m\n\u001b[0m\u001b[1;32m    118\u001b[0m     \u001b[0;32mreturn\u001b[0m \u001b[0mimg\u001b[0m\u001b[0;34m\u001b[0m\u001b[0;34m\u001b[0m\u001b[0m\n\u001b[1;32m    119\u001b[0m \u001b[0;34m\u001b[0m\u001b[0m\n",
            "\u001b[0;32m/usr/local/lib/python3.11/dist-packages/PIL/Image.py\u001b[0m in \u001b[0;36mconvert\u001b[0;34m(self, mode, matrix, dither, palette, colors)\u001b[0m\n\u001b[1;32m   1141\u001b[0m \u001b[0;34m\u001b[0m\u001b[0m\n\u001b[1;32m   1142\u001b[0m         \u001b[0;32mtry\u001b[0m\u001b[0;34m:\u001b[0m\u001b[0;34m\u001b[0m\u001b[0;34m\u001b[0m\u001b[0m\n\u001b[0;32m-> 1143\u001b[0;31m             \u001b[0mim\u001b[0m \u001b[0;34m=\u001b[0m \u001b[0mself\u001b[0m\u001b[0;34m.\u001b[0m\u001b[0mim\u001b[0m\u001b[0;34m.\u001b[0m\u001b[0mconvert\u001b[0m\u001b[0;34m(\u001b[0m\u001b[0mmode\u001b[0m\u001b[0;34m,\u001b[0m \u001b[0mdither\u001b[0m\u001b[0;34m)\u001b[0m\u001b[0;34m\u001b[0m\u001b[0;34m\u001b[0m\u001b[0m\n\u001b[0m\u001b[1;32m   1144\u001b[0m         \u001b[0;32mexcept\u001b[0m \u001b[0mValueError\u001b[0m\u001b[0;34m:\u001b[0m\u001b[0;34m\u001b[0m\u001b[0;34m\u001b[0m\u001b[0m\n\u001b[1;32m   1145\u001b[0m             \u001b[0;32mtry\u001b[0m\u001b[0;34m:\u001b[0m\u001b[0;34m\u001b[0m\u001b[0;34m\u001b[0m\u001b[0m\n",
            "\u001b[0;31mKeyboardInterrupt\u001b[0m: "
          ],
          "ename": "KeyboardInterrupt",
          "evalue": "",
          "output_type": "error"
        }
      ],
      "execution_count": null
    },
    {
      "cell_type": "code",
      "source": [
        "torch.save(model_3.state_dict(), '/kaggle/working/my_model_3.pth')"
      ],
      "metadata": {
        "trusted": true,
        "execution": {
          "iopub.status.busy": "2025-04-29T09:08:29.752304Z",
          "iopub.status.idle": "2025-04-29T09:08:29.752539Z",
          "shell.execute_reply.started": "2025-04-29T09:08:29.752426Z",
          "shell.execute_reply": "2025-04-29T09:08:29.752437Z"
        },
        "id": "uKoE-FtYxOVs"
      },
      "outputs": [],
      "execution_count": null
    },
    {
      "cell_type": "code",
      "source": [
        "plot_curves(epochs=epochs, metric=\"loss\", metric_arr1=train_losses, metric_arr2=test_losses)"
      ],
      "metadata": {
        "trusted": true,
        "execution": {
          "iopub.status.busy": "2025-04-29T09:08:29.753487Z",
          "iopub.status.idle": "2025-04-29T09:08:29.753846Z",
          "shell.execute_reply.started": "2025-04-29T09:08:29.753675Z",
          "shell.execute_reply": "2025-04-29T09:08:29.753689Z"
        },
        "id": "BZBbW71bxOVs"
      },
      "outputs": [],
      "execution_count": null
    },
    {
      "cell_type": "code",
      "source": [
        "plot_curves(epochs=epochs, metric=\"accuracy\", metric_arr1=train_accs, metric_arr2=test_accs, to_cpu=False)"
      ],
      "metadata": {
        "trusted": true,
        "execution": {
          "iopub.status.busy": "2025-04-29T09:08:29.755337Z",
          "iopub.status.idle": "2025-04-29T09:08:29.756013Z",
          "shell.execute_reply.started": "2025-04-29T09:08:29.755823Z",
          "shell.execute_reply": "2025-04-29T09:08:29.755841Z"
        },
        "id": "HRu5wT2txOVs"
      },
      "outputs": [],
      "execution_count": null
    },
    {
      "cell_type": "code",
      "source": [
        "class Cifar100v5(nn.Module):\n",
        "    def __init__(self, input_shape: int, output_shape: int):\n",
        "        super(Cifar100v5, self).__init__()\n",
        "\n",
        "        self.conv1 = nn.Sequential(\n",
        "            nn.Conv2d(in_channels=input_shape, out_channels=96, kernel_size=3, stride=1, padding=1),\n",
        "            nn.BatchNorm2d(num_features=96),\n",
        "            nn.ReLU(),\n",
        "\n",
        "            FireModule(96, 12, 48, 48),\n",
        "\n",
        "            nn.Conv2d(in_channels=96, out_channels=128, kernel_size=3, stride=1, padding=1),\n",
        "            nn.BatchNorm2d(num_features=128),\n",
        "            nn.ReLU(),\n",
        "            nn.Dropout(p=0.2),\n",
        "            nn.MaxPool2d(kernel_size=2, stride=2),\n",
        "        )\n",
        "\n",
        "        self.conv2 = nn.Sequential(\n",
        "            nn.Conv2d(in_channels=128, out_channels=128, kernel_size=3, stride=1, padding=1),\n",
        "            nn.BatchNorm2d(num_features=128),\n",
        "            nn.ReLU(),\n",
        "\n",
        "            FireModule(128, 12, 64, 64),\n",
        "\n",
        "            nn.Conv2d(in_channels=128, out_channels=256, kernel_size=3, stride=1, padding=1),\n",
        "            nn.BatchNorm2d(num_features=256),\n",
        "            nn.ReLU(),\n",
        "            nn.Dropout(p=0.2),\n",
        "            nn.MaxPool2d(kernel_size=2, stride=2)\n",
        "        )\n",
        "\n",
        "\n",
        "        self.conv3 = nn.Sequential(\n",
        "            nn.Conv2d(in_channels=256, out_channels=256, kernel_size=3, stride=1, padding=1),\n",
        "            nn.BatchNorm2d(num_features=256),\n",
        "            nn.ReLU(),\n",
        "\n",
        "            FireModule(256, 28, 256, 256),\n",
        "\n",
        "            nn.Conv2d(in_channels=512, out_channels=512, kernel_size=3, stride=1, padding=1),\n",
        "            nn.BatchNorm2d(num_features=512),\n",
        "            nn.ReLU(),\n",
        "            nn.Dropout(p=0.2),\n",
        "            nn.MaxPool2d(kernel_size=2, stride=2)\n",
        "        )\n",
        "\n",
        "        self.adp_pool = nn.AdaptiveAvgPool2d((1, 1))\n",
        "\n",
        "        self.classifier = nn.Sequential(\n",
        "            nn.Flatten(),\n",
        "            nn.Dropout(p=0.3),\n",
        "            nn.Linear(in_features=512, out_features=output_shape)\n",
        "        )\n",
        "\n",
        "    def forward(self, x: torch.Tensor) -> torch.Tensor:\n",
        "        x = self.conv1(x)\n",
        "\n",
        "        x = self.conv2(x)\n",
        "\n",
        "        x = self.conv3(x)\n",
        "\n",
        "        x = self.adp_pool(x)\n",
        "\n",
        "        x = self.classifier(x)\n",
        "        return x\n"
      ],
      "metadata": {
        "trusted": true,
        "execution": {
          "iopub.status.busy": "2025-04-29T10:47:58.05331Z",
          "iopub.execute_input": "2025-04-29T10:47:58.054051Z",
          "iopub.status.idle": "2025-04-29T10:47:58.064037Z",
          "shell.execute_reply.started": "2025-04-29T10:47:58.054025Z",
          "shell.execute_reply": "2025-04-29T10:47:58.063333Z"
        },
        "id": "123oR2uNxOVs"
      },
      "outputs": [],
      "execution_count": null
    },
    {
      "cell_type": "code",
      "source": [
        "model_4 = Cifar100v5(input_shape=3, output_shape=len(cifar100_train.classes))\n",
        "model_4"
      ],
      "metadata": {
        "trusted": true,
        "execution": {
          "iopub.status.busy": "2025-04-29T10:47:59.041027Z",
          "iopub.execute_input": "2025-04-29T10:47:59.041333Z",
          "iopub.status.idle": "2025-04-29T10:47:59.083238Z",
          "shell.execute_reply.started": "2025-04-29T10:47:59.041313Z",
          "shell.execute_reply": "2025-04-29T10:47:59.082621Z"
        },
        "id": "imbl9DZHxOVs",
        "outputId": "e87b242d-3f85-4b48-b6ae-fd501fd12475"
      },
      "outputs": [
        {
          "execution_count": 20,
          "output_type": "execute_result",
          "data": {
            "text/plain": "Cifar100v5(\n  (conv1): Sequential(\n    (0): Conv2d(3, 96, kernel_size=(3, 3), stride=(1, 1), padding=(1, 1))\n    (1): BatchNorm2d(96, eps=1e-05, momentum=0.1, affine=True, track_running_stats=True)\n    (2): ReLU()\n    (3): FireModule(\n      (squeeze): Sequential(\n        (0): Conv2d(96, 12, kernel_size=(1, 1), stride=(1, 1))\n        (1): BatchNorm2d(12, eps=1e-05, momentum=0.1, affine=True, track_running_stats=True)\n        (2): ReLU()\n      )\n      (expand1x1): Sequential(\n        (0): Conv2d(12, 48, kernel_size=(1, 1), stride=(1, 1))\n        (1): BatchNorm2d(48, eps=1e-05, momentum=0.1, affine=True, track_running_stats=True)\n        (2): ReLU()\n      )\n      (expand3x3): Sequential(\n        (0): Conv2d(12, 48, kernel_size=(3, 3), stride=(1, 1), padding=(1, 1))\n        (1): BatchNorm2d(48, eps=1e-05, momentum=0.1, affine=True, track_running_stats=True)\n        (2): ReLU()\n      )\n    )\n    (4): Conv2d(96, 128, kernel_size=(3, 3), stride=(1, 1), padding=(1, 1))\n    (5): BatchNorm2d(128, eps=1e-05, momentum=0.1, affine=True, track_running_stats=True)\n    (6): ReLU()\n    (7): Dropout(p=0.2, inplace=False)\n    (8): MaxPool2d(kernel_size=2, stride=2, padding=0, dilation=1, ceil_mode=False)\n  )\n  (conv2): Sequential(\n    (0): Conv2d(128, 128, kernel_size=(3, 3), stride=(1, 1), padding=(1, 1))\n    (1): BatchNorm2d(128, eps=1e-05, momentum=0.1, affine=True, track_running_stats=True)\n    (2): ReLU()\n    (3): FireModule(\n      (squeeze): Sequential(\n        (0): Conv2d(128, 12, kernel_size=(1, 1), stride=(1, 1))\n        (1): BatchNorm2d(12, eps=1e-05, momentum=0.1, affine=True, track_running_stats=True)\n        (2): ReLU()\n      )\n      (expand1x1): Sequential(\n        (0): Conv2d(12, 64, kernel_size=(1, 1), stride=(1, 1))\n        (1): BatchNorm2d(64, eps=1e-05, momentum=0.1, affine=True, track_running_stats=True)\n        (2): ReLU()\n      )\n      (expand3x3): Sequential(\n        (0): Conv2d(12, 64, kernel_size=(3, 3), stride=(1, 1), padding=(1, 1))\n        (1): BatchNorm2d(64, eps=1e-05, momentum=0.1, affine=True, track_running_stats=True)\n        (2): ReLU()\n      )\n    )\n    (4): Conv2d(128, 256, kernel_size=(3, 3), stride=(1, 1), padding=(1, 1))\n    (5): BatchNorm2d(256, eps=1e-05, momentum=0.1, affine=True, track_running_stats=True)\n    (6): ReLU()\n    (7): Dropout(p=0.2, inplace=False)\n    (8): MaxPool2d(kernel_size=2, stride=2, padding=0, dilation=1, ceil_mode=False)\n  )\n  (conv3): Sequential(\n    (0): Conv2d(256, 256, kernel_size=(3, 3), stride=(1, 1), padding=(1, 1))\n    (1): BatchNorm2d(256, eps=1e-05, momentum=0.1, affine=True, track_running_stats=True)\n    (2): ReLU()\n    (3): FireModule(\n      (squeeze): Sequential(\n        (0): Conv2d(256, 28, kernel_size=(1, 1), stride=(1, 1))\n        (1): BatchNorm2d(28, eps=1e-05, momentum=0.1, affine=True, track_running_stats=True)\n        (2): ReLU()\n      )\n      (expand1x1): Sequential(\n        (0): Conv2d(28, 256, kernel_size=(1, 1), stride=(1, 1))\n        (1): BatchNorm2d(256, eps=1e-05, momentum=0.1, affine=True, track_running_stats=True)\n        (2): ReLU()\n      )\n      (expand3x3): Sequential(\n        (0): Conv2d(28, 256, kernel_size=(3, 3), stride=(1, 1), padding=(1, 1))\n        (1): BatchNorm2d(256, eps=1e-05, momentum=0.1, affine=True, track_running_stats=True)\n        (2): ReLU()\n      )\n    )\n    (4): Conv2d(512, 512, kernel_size=(3, 3), stride=(1, 1), padding=(1, 1))\n    (5): BatchNorm2d(512, eps=1e-05, momentum=0.1, affine=True, track_running_stats=True)\n    (6): ReLU()\n    (7): Dropout(p=0.2, inplace=False)\n    (8): MaxPool2d(kernel_size=2, stride=2, padding=0, dilation=1, ceil_mode=False)\n  )\n  (adp_pool): AdaptiveAvgPool2d(output_size=(1, 1))\n  (classifier): Sequential(\n    (0): Flatten(start_dim=1, end_dim=-1)\n    (1): Dropout(p=0.3, inplace=False)\n    (2): Linear(in_features=512, out_features=100, bias=True)\n  )\n)"
          },
          "metadata": {}
        }
      ],
      "execution_count": null
    },
    {
      "cell_type": "code",
      "source": [
        "summary(model=model_4, input_size=(32, 3 , 32, 32), col_names=[\"input_size\", \"output_size\", \"num_params\", \"trainable\"],\n",
        "        col_width=20,\n",
        "        row_settings=[\"var_names\"])"
      ],
      "metadata": {
        "trusted": true,
        "execution": {
          "iopub.status.busy": "2025-04-29T10:48:02.126907Z",
          "iopub.execute_input": "2025-04-29T10:48:02.127235Z",
          "iopub.status.idle": "2025-04-29T10:48:02.87895Z",
          "shell.execute_reply.started": "2025-04-29T10:48:02.127212Z",
          "shell.execute_reply": "2025-04-29T10:48:02.878232Z"
        },
        "id": "7NYAvtzcxOVt",
        "outputId": "31a563df-c3d6-4f25-aac1-eb692bb724e5"
      },
      "outputs": [
        {
          "execution_count": 21,
          "output_type": "execute_result",
          "data": {
            "text/plain": "========================================================================================================================\nLayer (type (var_name))                  Input Shape          Output Shape         Param #              Trainable\n========================================================================================================================\nCifar100v5 (Cifar100v5)                  [32, 3, 32, 32]      [32, 100]            --                   True\n├─Sequential (conv1)                     [32, 3, 32, 32]      [32, 128, 16, 16]    --                   True\n│    └─Conv2d (0)                        [32, 3, 32, 32]      [32, 96, 32, 32]     2,688                True\n│    └─BatchNorm2d (1)                   [32, 96, 32, 32]     [32, 96, 32, 32]     192                  True\n│    └─ReLU (2)                          [32, 96, 32, 32]     [32, 96, 32, 32]     --                   --\n│    └─FireModule (3)                    [32, 96, 32, 32]     [32, 96, 32, 32]     --                   True\n│    │    └─Sequential (squeeze)         [32, 96, 32, 32]     [32, 12, 32, 32]     1,188                True\n│    │    └─Sequential (expand1x1)       [32, 12, 32, 32]     [32, 48, 32, 32]     720                  True\n│    │    └─Sequential (expand3x3)       [32, 12, 32, 32]     [32, 48, 32, 32]     5,328                True\n│    └─Conv2d (4)                        [32, 96, 32, 32]     [32, 128, 32, 32]    110,720              True\n│    └─BatchNorm2d (5)                   [32, 128, 32, 32]    [32, 128, 32, 32]    256                  True\n│    └─ReLU (6)                          [32, 128, 32, 32]    [32, 128, 32, 32]    --                   --\n│    └─Dropout (7)                       [32, 128, 32, 32]    [32, 128, 32, 32]    --                   --\n│    └─MaxPool2d (8)                     [32, 128, 32, 32]    [32, 128, 16, 16]    --                   --\n├─Sequential (conv2)                     [32, 128, 16, 16]    [32, 256, 8, 8]      --                   True\n│    └─Conv2d (0)                        [32, 128, 16, 16]    [32, 128, 16, 16]    147,584              True\n│    └─BatchNorm2d (1)                   [32, 128, 16, 16]    [32, 128, 16, 16]    256                  True\n│    └─ReLU (2)                          [32, 128, 16, 16]    [32, 128, 16, 16]    --                   --\n│    └─FireModule (3)                    [32, 128, 16, 16]    [32, 128, 16, 16]    --                   True\n│    │    └─Sequential (squeeze)         [32, 128, 16, 16]    [32, 12, 16, 16]     1,572                True\n│    │    └─Sequential (expand1x1)       [32, 12, 16, 16]     [32, 64, 16, 16]     960                  True\n│    │    └─Sequential (expand3x3)       [32, 12, 16, 16]     [32, 64, 16, 16]     7,104                True\n│    └─Conv2d (4)                        [32, 128, 16, 16]    [32, 256, 16, 16]    295,168              True\n│    └─BatchNorm2d (5)                   [32, 256, 16, 16]    [32, 256, 16, 16]    512                  True\n│    └─ReLU (6)                          [32, 256, 16, 16]    [32, 256, 16, 16]    --                   --\n│    └─Dropout (7)                       [32, 256, 16, 16]    [32, 256, 16, 16]    --                   --\n│    └─MaxPool2d (8)                     [32, 256, 16, 16]    [32, 256, 8, 8]      --                   --\n├─Sequential (conv3)                     [32, 256, 8, 8]      [32, 512, 4, 4]      --                   True\n│    └─Conv2d (0)                        [32, 256, 8, 8]      [32, 256, 8, 8]      590,080              True\n│    └─BatchNorm2d (1)                   [32, 256, 8, 8]      [32, 256, 8, 8]      512                  True\n│    └─ReLU (2)                          [32, 256, 8, 8]      [32, 256, 8, 8]      --                   --\n│    └─FireModule (3)                    [32, 256, 8, 8]      [32, 512, 8, 8]      --                   True\n│    │    └─Sequential (squeeze)         [32, 256, 8, 8]      [32, 28, 8, 8]       7,252                True\n│    │    └─Sequential (expand1x1)       [32, 28, 8, 8]       [32, 256, 8, 8]      7,936                True\n│    │    └─Sequential (expand3x3)       [32, 28, 8, 8]       [32, 256, 8, 8]      65,280               True\n│    └─Conv2d (4)                        [32, 512, 8, 8]      [32, 512, 8, 8]      2,359,808            True\n│    └─BatchNorm2d (5)                   [32, 512, 8, 8]      [32, 512, 8, 8]      1,024                True\n│    └─ReLU (6)                          [32, 512, 8, 8]      [32, 512, 8, 8]      --                   --\n│    └─Dropout (7)                       [32, 512, 8, 8]      [32, 512, 8, 8]      --                   --\n│    └─MaxPool2d (8)                     [32, 512, 8, 8]      [32, 512, 4, 4]      --                   --\n├─AdaptiveAvgPool2d (adp_pool)           [32, 512, 4, 4]      [32, 512, 1, 1]      --                   --\n├─Sequential (classifier)                [32, 512, 1, 1]      [32, 100]            --                   True\n│    └─Flatten (0)                       [32, 512, 1, 1]      [32, 512]            --                   --\n│    └─Dropout (1)                       [32, 512]            [32, 512]            --                   --\n│    └─Linear (2)                        [32, 512]            [32, 100]            51,300               True\n========================================================================================================================\nTotal params: 3,657,440\nTrainable params: 3,657,440\nNon-trainable params: 0\nTotal mult-adds (Units.GIGABYTES): 13.86\n========================================================================================================================\nInput size (MB): 0.39\nForward/backward pass size (MB): 285.63\nParams size (MB): 14.63\nEstimated Total Size (MB): 300.65\n========================================================================================================================"
          },
          "metadata": {}
        }
      ],
      "execution_count": null
    },
    {
      "cell_type": "code",
      "source": [
        "loss4 = nn.CrossEntropyLoss(label_smoothing=0.1)\n",
        "optimizer4 = torch.optim.AdamW(params=model_4.parameters(),\n",
        "                            lr=0.01)"
      ],
      "metadata": {
        "trusted": true,
        "execution": {
          "iopub.status.busy": "2025-04-29T10:48:06.1Z",
          "iopub.execute_input": "2025-04-29T10:48:06.100711Z",
          "iopub.status.idle": "2025-04-29T10:48:06.105135Z",
          "shell.execute_reply.started": "2025-04-29T10:48:06.100682Z",
          "shell.execute_reply": "2025-04-29T10:48:06.104176Z"
        },
        "id": "1W5TSMVrxOVt"
      },
      "outputs": [],
      "execution_count": null
    },
    {
      "cell_type": "code",
      "source": [
        "epochs = 50\n",
        "\n",
        "train_losses, test_losses = [], []\n",
        "train_accs, test_accs = [], []\n",
        "\n",
        "start_train_time_model_4 = time.time()\n",
        "\n",
        "for epoch in tqdm(range(epochs)):\n",
        "  print(f\"Epoch: {epoch}\\n---\")\n",
        "\n",
        "  train_loss, train_acc = model_train(model=model_4,\n",
        "                                      loss_fn=loss4,\n",
        "                                      optimizer_fn=optimizer4,\n",
        "                                      dataloader=train100_dataloader,\n",
        "                                      device=device,\n",
        "                                      epochs=epochs,\n",
        "                                      accuracy_fn=accuracy_fn)\n",
        "\n",
        "  test_loss, test_acc = model_test(model=model_4,\n",
        "                                   loss_fn=loss4,\n",
        "                                   dataloader=test100_dataloader,\n",
        "                                   device=device,\n",
        "                                   accuracy_fn=accuracy_fn)\n",
        "\n",
        "  train_losses.append(train_loss)\n",
        "  test_losses.append(test_loss)\n",
        "\n",
        "  train_accs.append(train_acc)\n",
        "  test_accs.append(test_acc)\n",
        "stop_train_time_model_4 = time.time()\n",
        "\n",
        "model_4_train_time = print_train_time(start=start_train_time_model_4,\n",
        "                                      end=stop_train_time_model_4,\n",
        "                                      model=model_4,\n",
        "                                      device=device)"
      ],
      "metadata": {
        "trusted": true,
        "execution": {
          "iopub.status.busy": "2025-04-29T10:48:14.337938Z",
          "iopub.execute_input": "2025-04-29T10:48:14.338253Z"
        },
        "id": "C4iINs59xOVt",
        "outputId": "7b622fd3-ef83-4985-ea2d-173ecfbab0f0",
        "colab": {
          "referenced_widgets": [
            "191ac9a43d5e4daf8a9aa71f7753ff0e"
          ]
        }
      },
      "outputs": [
        {
          "output_type": "display_data",
          "data": {
            "text/plain": "  0%|          | 0/50 [00:00<?, ?it/s]",
            "application/vnd.jupyter.widget-view+json": {
              "version_major": 2,
              "version_minor": 0,
              "model_id": "191ac9a43d5e4daf8a9aa71f7753ff0e"
            }
          },
          "metadata": {}
        },
        {
          "name": "stdout",
          "text": "Epoch: 0\n---\nTrain loss:  4.39816 | Train acc:  3.83%\nTest loss:  4.19304 | Test acc:  6.05%\nEpoch: 1\n---\nTrain loss:  4.05490 | Train acc:  8.88%\nTest loss:  3.92667 | Test acc:  11.44%\nEpoch: 2\n---\nTrain loss:  3.74682 | Train acc:  15.45%\nTest loss:  3.55912 | Test acc:  19.67%\nEpoch: 3\n---\nTrain loss:  3.38677 | Train acc:  23.53%\nTest loss:  3.43947 | Test acc:  22.36%\nEpoch: 4\n---\nTrain loss:  3.13153 | Train acc:  30.01%\nTest loss:  3.05101 | Test acc:  32.11%\nEpoch: 5\n---\nTrain loss:  2.94776 | Train acc:  35.00%\nTest loss:  2.78215 | Test acc:  39.95%\nEpoch: 6\n---\nTrain loss:  2.80953 | Train acc:  38.92%\nTest loss:  3.14969 | Test acc:  31.18%\nEpoch: 7\n---\nTrain loss:  2.69960 | Train acc:  42.04%\nTest loss:  2.68292 | Test acc:  42.30%\nEpoch: 8\n---\nTrain loss:  2.61482 | Train acc:  44.57%\nTest loss:  2.61487 | Test acc:  43.99%\nEpoch: 9\n---\nTrain loss:  2.54190 | Train acc:  46.78%\nTest loss:  2.42096 | Test acc:  50.15%\nEpoch: 10\n---\nTrain loss:  2.47734 | Train acc:  48.82%\nTest loss:  2.37538 | Test acc:  51.32%\nEpoch: 11\n---\nTrain loss:  2.42498 | Train acc:  50.53%\nTest loss:  2.37680 | Test acc:  51.71%\nEpoch: 12\n---\nTrain loss:  2.38042 | Train acc:  51.58%\nTest loss:  2.40350 | Test acc:  51.04%\nEpoch: 13\n---\nTrain loss:  2.33611 | Train acc:  53.18%\nTest loss:  2.47272 | Test acc:  49.26%\nEpoch: 14\n---\n",
          "output_type": "stream"
        }
      ],
      "execution_count": null
    },
    {
      "cell_type": "code",
      "source": [
        "torch.save(model_4.state_dict(), '/kaggle/working/my_model_4.pth')"
      ],
      "metadata": {
        "trusted": true,
        "id": "3KqU801bxOVt"
      },
      "outputs": [],
      "execution_count": null
    },
    {
      "cell_type": "code",
      "source": [
        "plot_curves(epochs=epochs, metric=\"loss\", metric_arr1=train_losses, metric_arr2=test_losses)"
      ],
      "metadata": {
        "trusted": true,
        "id": "1q03J8erxOVt"
      },
      "outputs": [],
      "execution_count": null
    },
    {
      "cell_type": "code",
      "source": [
        "plot_curves(epochs=epochs, metric=\"accuracy\", metric_arr1=train_accs, metric_arr2=test_accs, to_cpu=False)"
      ],
      "metadata": {
        "trusted": true,
        "id": "aPjD3vP1xOVt"
      },
      "outputs": [],
      "execution_count": null
    },
    {
      "cell_type": "code",
      "source": [],
      "metadata": {
        "trusted": true,
        "id": "NEbMlKDhxOVt"
      },
      "outputs": [],
      "execution_count": null
    },
    {
      "cell_type": "code",
      "source": [],
      "metadata": {
        "trusted": true,
        "id": "p4rx5EuRxOVt"
      },
      "outputs": [],
      "execution_count": null
    },
    {
      "cell_type": "code",
      "source": [],
      "metadata": {
        "trusted": true,
        "id": "A4i33zRtxOVt"
      },
      "outputs": [],
      "execution_count": null
    },
    {
      "cell_type": "code",
      "source": [],
      "metadata": {
        "trusted": true,
        "id": "S9segzSexOVt"
      },
      "outputs": [],
      "execution_count": null
    },
    {
      "cell_type": "code",
      "source": [],
      "metadata": {
        "trusted": true,
        "id": "0QIXxj4BxOVt"
      },
      "outputs": [],
      "execution_count": null
    }
  ]
}